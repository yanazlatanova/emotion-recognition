{
 "cells": [
  {
   "cell_type": "code",
   "execution_count": 14,
   "id": "77956231",
   "metadata": {},
   "outputs": [
    {
     "data": {
      "text/plain": [
       "Index(['id', 'text', 'n_raters', 'emotions', 'author', 'subreddit', 'link_id',\n",
       "       'parent_id', 'created_utc', 'emotion_positive', 'emotion_negative',\n",
       "       'emotion_ambiguous'],\n",
       "      dtype='object')"
      ]
     },
     "execution_count": 14,
     "metadata": {},
     "output_type": "execute_result"
    }
   ],
   "source": [
    "import pandas as pd\n",
    "import numpy as np\n",
    "from pyprojroot import here\n",
    "\n",
    "data_3 = pd.read_parquet(here(\"data/goemotions_3.parquet\"))\n",
    "data_3.columns"
   ]
  },
  {
   "cell_type": "code",
   "execution_count": 15,
   "id": "0b57e5ff",
   "metadata": {},
   "outputs": [
    {
     "data": {
      "text/plain": [
       "0        [[disappointment], [disappointment], [disappoi...\n",
       "1                        [[curiosity], [curiosity], [joy]]\n",
       "2        [[unclear], [sadness], [disapproval], [unclear...\n",
       "3        [[sadness], [embarrassment, sadness], [unclear...\n",
       "4        [[gratitude], [excitement, gratitude], [gratit...\n",
       "                               ...                        \n",
       "57344         [[disappointment], [confusion], [confusion]]\n",
       "57345    [[realization], [annoyance, disappointment], [...\n",
       "57346                    [[unclear], [unclear], [unclear]]\n",
       "57347    [[admiration, amusement], [excitement], [admir...\n",
       "57348                 [[unclear], [admiration], [unclear]]\n",
       "Name: emotions, Length: 57349, dtype: object"
      ]
     },
     "execution_count": 15,
     "metadata": {},
     "output_type": "execute_result"
    }
   ],
   "source": [
    "data_3.emotions"
   ]
  },
  {
   "cell_type": "code",
   "execution_count": 16,
   "id": "a06b7dd0",
   "metadata": {},
   "outputs": [
    {
     "data": {
      "text/plain": [
       "(57349, 12)"
      ]
     },
     "execution_count": 16,
     "metadata": {},
     "output_type": "execute_result"
    }
   ],
   "source": [
    "data_3.shape"
   ]
  },
  {
   "cell_type": "code",
   "execution_count": 17,
   "id": "3235dabe",
   "metadata": {},
   "outputs": [
    {
     "name": "stderr",
     "output_type": "stream",
     "text": [
      "Some weights of DistilBertForSequenceClassification were not initialized from the model checkpoint at distilbert-base-uncased and are newly initialized: ['classifier.bias', 'classifier.weight', 'pre_classifier.bias', 'pre_classifier.weight']\n",
      "You should probably TRAIN this model on a down-stream task to be able to use it for predictions and inference.\n"
     ]
    },
    {
     "data": {
      "text/plain": [
       "DistilBertForSequenceClassification(\n",
       "  (distilbert): DistilBertModel(\n",
       "    (embeddings): Embeddings(\n",
       "      (word_embeddings): Embedding(30522, 768, padding_idx=0)\n",
       "      (position_embeddings): Embedding(512, 768)\n",
       "      (LayerNorm): LayerNorm((768,), eps=1e-12, elementwise_affine=True)\n",
       "      (dropout): Dropout(p=0.1, inplace=False)\n",
       "    )\n",
       "    (transformer): Transformer(\n",
       "      (layer): ModuleList(\n",
       "        (0-5): 6 x TransformerBlock(\n",
       "          (attention): DistilBertSdpaAttention(\n",
       "            (dropout): Dropout(p=0.1, inplace=False)\n",
       "            (q_lin): Linear(in_features=768, out_features=768, bias=True)\n",
       "            (k_lin): Linear(in_features=768, out_features=768, bias=True)\n",
       "            (v_lin): Linear(in_features=768, out_features=768, bias=True)\n",
       "            (out_lin): Linear(in_features=768, out_features=768, bias=True)\n",
       "          )\n",
       "          (sa_layer_norm): LayerNorm((768,), eps=1e-12, elementwise_affine=True)\n",
       "          (ffn): FFN(\n",
       "            (dropout): Dropout(p=0.1, inplace=False)\n",
       "            (lin1): Linear(in_features=768, out_features=3072, bias=True)\n",
       "            (lin2): Linear(in_features=3072, out_features=768, bias=True)\n",
       "            (activation): GELUActivation()\n",
       "          )\n",
       "          (output_layer_norm): LayerNorm((768,), eps=1e-12, elementwise_affine=True)\n",
       "        )\n",
       "      )\n",
       "    )\n",
       "  )\n",
       "  (pre_classifier): Linear(in_features=768, out_features=768, bias=True)\n",
       "  (classifier): Linear(in_features=768, out_features=3, bias=True)\n",
       "  (dropout): Dropout(p=0.2, inplace=False)\n",
       ")"
      ]
     },
     "execution_count": 17,
     "metadata": {},
     "output_type": "execute_result"
    }
   ],
   "source": [
    "import os\n",
    "os.environ[\"HF_HOME\"] = str(here(\"cache/huggingface\"))\n",
    "from transformers import AutoModelForSequenceClassification, AutoTokenizer\n",
    "\n",
    "distill_3 = AutoModelForSequenceClassification.from_pretrained(\"distilbert-base-uncased\", num_labels=3)\n",
    "distill_3 = distill_3.to(DEVICE)  # Move model to device\n",
    "tokenizer = AutoTokenizer.from_pretrained(\"distilbert-base-uncased\")\n",
    "distill_3"
   ]
  },
  {
   "cell_type": "code",
   "execution_count": 18,
   "id": "6c6c2616",
   "metadata": {},
   "outputs": [
    {
     "name": "stdout",
     "output_type": "stream",
     "text": [
      "['[CLS]', 'i', 'love', 'programming', 'in', 'python', '!', 'the', 'o', 'un', '##bel', '##ie', '##va', '##bling', '##y', '[SEP]']\n"
     ]
    }
   ],
   "source": [
    "# see tokenization in process\n",
    "\"\"\"\n",
    "DistilBERT tokenizer return whole tokens if they exist in the vocabulary, \n",
    "but falls back to WordPiece subwords if not\n",
    "\"\"\"\n",
    "tokens = tokenizer(\"I love programming in Python! The ö Unbelievablingy\")\n",
    "print(tokenizer.convert_ids_to_tokens(tokens[\"input_ids\"]))\n"
   ]
  },
  {
   "cell_type": "code",
   "execution_count": 19,
   "id": "077777eb",
   "metadata": {},
   "outputs": [
    {
     "data": {
      "text/plain": [
       "===========================================================================================================================================================\n",
       "Layer (type:depth-idx)                                  Input Shape               Output Shape              Param #                   Trainable\n",
       "===========================================================================================================================================================\n",
       "DistilBertForSequenceClassification                     --                        [[1, 3, 1]]               --                        True\n",
       "├─DistilBertModel: 1-1                                  --                        [[1, 12, 768, 1]]         --                        True\n",
       "│    └─Embeddings: 2-1                                  [1, 12, 1]                [1, 12, 768]              --                        True\n",
       "│    │    └─Embedding: 3-1                              [1, 12, 1]                [1, 12, 768]              23,440,896                True\n",
       "│    │    └─Embedding: 3-2                              [1, 12, 1]                [1, 12, 768]              393,216                   True\n",
       "│    │    └─LayerNorm: 3-3                              [1, 12, 768, 1]           [1, 12, 768]              1,536                     True\n",
       "│    │    └─Dropout: 3-4                                [1, 12, 768, 1]           [1, 12, 768]              --                        --\n",
       "│    └─Transformer: 2-2                                 --                        [[1, 12, 768, 1]]         --                        True\n",
       "│    │    └─ModuleList: 3-5                             --                        --                        42,527,232                True\n",
       "├─Linear: 1-2                                           [1, 768, 1]               [1, 768]                  590,592                   True\n",
       "├─Dropout: 1-3                                          [1, 768, 1]               [1, 768]                  --                        --\n",
       "├─Linear: 1-4                                           [1, 768, 1]               [1, 3]                    2,307                     True\n",
       "===========================================================================================================================================================\n",
       "Total params: 66,955,779\n",
       "Trainable params: 66,955,779\n",
       "Non-trainable params: 0\n",
       "Total mult-adds (Units.MEGABYTES): 66.96\n",
       "===========================================================================================================================================================\n",
       "Input size (MB): 0.00\n",
       "Forward/backward pass size (MB): 5.09\n",
       "Params size (MB): 267.82\n",
       "Estimated Total Size (MB): 272.92\n",
       "==========================================================================================================================================================="
      ]
     },
     "execution_count": 19,
     "metadata": {},
     "output_type": "execute_result"
    }
   ],
   "source": [
    "import torch\n",
    "from torchinfo import summary\n",
    "DEVICE = \"cuda\" if torch.cuda.is_available() else \"cpu\"\n",
    "\n",
    "with torch.no_grad():\n",
    "  dummy_text = \"This is a dummy text for testing the model.\"\n",
    "  dummy_inputs = tokenizer(\n",
    "    dummy_text,\n",
    "    return_tensors=\"pt\",\n",
    "    padding=True,\n",
    "    truncation=True,\n",
    "    max_length=512\n",
    "  )\n",
    "  dummy_inputs = {k: v.to(DEVICE) for k, v in dummy_inputs.items()}  # Move inputs to device\n",
    "  out = summary(\n",
    "    distill_3,\n",
    "    input_data={\n",
    "      \"input_ids\": dummy_inputs[\"input_ids\"].long(),\n",
    "      \"attention_mask\": dummy_inputs[\"attention_mask\"].long()\n",
    "    },\n",
    "    col_names=[\"input_size\", \"output_size\", \"num_params\", \"trainable\"],\n",
    "    device=DEVICE,\n",
    "    batch_dim=64\n",
    "  )\n",
    "out"
   ]
  },
  {
   "cell_type": "code",
   "execution_count": 57,
   "id": "ff073fa4",
   "metadata": {},
   "outputs": [
    {
     "data": {
      "text/plain": [
       "DistilBertFinetune(\n",
       "  (model): DistilBertForSequenceClassification(\n",
       "    (distilbert): DistilBertModel(\n",
       "      (embeddings): Embeddings(\n",
       "        (word_embeddings): Embedding(30522, 768, padding_idx=0)\n",
       "        (position_embeddings): Embedding(512, 768)\n",
       "        (LayerNorm): LayerNorm((768,), eps=1e-12, elementwise_affine=True)\n",
       "        (dropout): Dropout(p=0.1, inplace=False)\n",
       "      )\n",
       "      (transformer): Transformer(\n",
       "        (layer): ModuleList(\n",
       "          (0-5): 6 x TransformerBlock(\n",
       "            (attention): DistilBertSdpaAttention(\n",
       "              (dropout): Dropout(p=0.1, inplace=False)\n",
       "              (q_lin): Linear(in_features=768, out_features=768, bias=True)\n",
       "              (k_lin): Linear(in_features=768, out_features=768, bias=True)\n",
       "              (v_lin): Linear(in_features=768, out_features=768, bias=True)\n",
       "              (out_lin): Linear(in_features=768, out_features=768, bias=True)\n",
       "            )\n",
       "            (sa_layer_norm): LayerNorm((768,), eps=1e-12, elementwise_affine=True)\n",
       "            (ffn): FFN(\n",
       "              (dropout): Dropout(p=0.1, inplace=False)\n",
       "              (lin1): Linear(in_features=768, out_features=3072, bias=True)\n",
       "              (lin2): Linear(in_features=3072, out_features=768, bias=True)\n",
       "              (activation): GELUActivation()\n",
       "            )\n",
       "            (output_layer_norm): LayerNorm((768,), eps=1e-12, elementwise_affine=True)\n",
       "          )\n",
       "        )\n",
       "      )\n",
       "    )\n",
       "    (pre_classifier): Linear(in_features=768, out_features=768, bias=True)\n",
       "    (classifier): Linear(in_features=768, out_features=3, bias=True)\n",
       "    (dropout): Dropout(p=0.2, inplace=False)\n",
       "  )\n",
       "  (sigmoid): Sigmoid()\n",
       "  (sig_loss): BCEWithLogitsLoss()\n",
       "  (f1): MultilabelF1Score()\n",
       "  (rmse): MeanSquaredError()\n",
       ")"
      ]
     },
     "execution_count": 57,
     "metadata": {},
     "output_type": "execute_result"
    }
   ],
   "source": [
    "import lightning as L\n",
    "import torchmetrics\n",
    "from icecream import ic\n",
    "import torchmetrics.classification\n",
    "import torchmetrics.regression\n",
    "import torchmetrics.text\n",
    "\n",
    "class DistilBertFinetune(L.LightningModule):\n",
    "  def __init__(self, distilbert_model, tokenizer, n_emotions=3):\n",
    "    super().__init__()\n",
    "    self.tokenizer = tokenizer\n",
    "    self.model = distilbert_model.to(DEVICE)  # Ensure model is on device\n",
    "    self.model.train()\n",
    "    self.model.classifier = torch.nn.Linear(in_features=768, out_features=n_emotions, bias=True).to(DEVICE)\n",
    "    # Freeze all layers except classifier and pre-classifier\n",
    "    for param in self.model.parameters():\n",
    "      param.requires_grad = False\n",
    "    for param in self.model.classifier.parameters():\n",
    "      param.requires_grad = True\n",
    "    for param in self.model.pre_classifier.parameters():\n",
    "      param.requires_grad = True\n",
    "    self.sigmoid = torch.nn.Sigmoid()\n",
    "    self.sig_loss = torch.nn.BCEWithLogitsLoss()\n",
    "    # self.preplexity = torchmetrics.text.Perplexity()\n",
    "    self.f1 = torchmetrics.classification.MultilabelF1Score(num_labels=n_emotions, average=\"macro\") # macro is average of f1s, micro is global f1\n",
    "    self.rmse = torchmetrics.regression.MeanSquaredError(squared=False)\n",
    "  \n",
    "  def training_step(self, batch):\n",
    "    x, target = batch\n",
    "    tokens = self.tokenizer(\n",
    "      x,\n",
    "      return_tensors=\"pt\",\n",
    "      padding=True,\n",
    "      truncation=True,\n",
    "      max_length=512\n",
    "    )\n",
    "    tokens = {k: v.to(DEVICE) for k, v in tokens.items()}\n",
    "    target = target.to(DEVICE)\n",
    "    logits = self.model(\n",
    "      input_ids=tokens[\"input_ids\"],\n",
    "      attention_mask=tokens[\"attention_mask\"]\n",
    "    )\n",
    "    loss = self.sig_loss(\n",
    "      logits.logits,\n",
    "      target\n",
    "    )\n",
    "    return loss\n",
    "\n",
    "  def validation_step(self, batch):\n",
    "    x, target = batch\n",
    "    tokens = self.tokenizer(\n",
    "      x,\n",
    "      return_tensors=\"pt\",\n",
    "      padding=True,\n",
    "      truncation=True,\n",
    "      max_length=512\n",
    "    )\n",
    "    tokens = {k: v.to(DEVICE) for k, v in tokens.items()}\n",
    "    target = target.to(DEVICE)\n",
    "    logits = self.model(\n",
    "      input_ids=tokens[\"input_ids\"],\n",
    "      attention_mask=tokens[\"attention_mask\"]\n",
    "    )\n",
    "    loss = self.sig_loss(\n",
    "      logits.logits,\n",
    "      target\n",
    "    )\n",
    "    y = self.sigmoid(logits.logits)\n",
    "    self.log_dict({\n",
    "      \"val_loss\": loss, \n",
    "      # \"val_perplexity\": self.preplexity(preds=y, target=target), # ValueError: Input tensor `preds` is expected to have 3 dimensions, [batch_size, seq_len, vocab_size], but got 2.\n",
    "      \"val_rmse\": self.rmse(y, target),\n",
    "    }, on_step=False, on_epoch=True, prog_bar=True, logger=False)\n",
    "    return loss\n",
    "  \n",
    "  def test_step(self, batch):\n",
    "    x, target = batch\n",
    "    tokens = self.tokenizer(\n",
    "      x,\n",
    "      return_tensors=\"pt\",\n",
    "      padding=True,\n",
    "      truncation=True,\n",
    "      max_length=512\n",
    "    )\n",
    "    tokens = {k: v.to(DEVICE) for k, v in tokens.items()}\n",
    "    target = target.to(DEVICE)\n",
    "    logits = self.model(\n",
    "      input_ids=tokens[\"input_ids\"],\n",
    "      attention_mask=tokens[\"attention_mask\"]\n",
    "    )\n",
    "    loss = self.sig_loss(\n",
    "      logits.logits,\n",
    "      target\n",
    "    )\n",
    "    y = self.sigmoid(logits.logits)\n",
    "    # preplexity = self.preplexity(preds=y, target=target)\n",
    "    rmse = self.rmse(y, target)\n",
    "    # if target > 0 then 1\n",
    "    # if target == 0 then 0\n",
    "    y = (y > 0.5).int() # thresholding at 0.5 # TODO possibly change this later\n",
    "    target = (target > 0.01).int()\n",
    "    f1 = self.f1(y, target)\n",
    "    self.log_dict({\n",
    "      \"test_loss\": loss,\n",
    "      # \"test_perplexity\": preplexity,\n",
    "      \"test_f1\": f1,\n",
    "      \"test_rmse\": rmse\n",
    "    }, on_step=False, on_epoch=True, prog_bar=True, logger=False)\n",
    "    return loss\n",
    "  \n",
    "  def predict_step(self, batch):\n",
    "    x = batch\n",
    "    tokens = self.tokenizer(\n",
    "      x,\n",
    "      return_tensors=\"pt\",\n",
    "      padding=True,\n",
    "      truncation=True,\n",
    "      max_length=512\n",
    "    )\n",
    "    tokens = {k: v.to(DEVICE) for k, v in tokens.items()}\n",
    "    logits = self.model(\n",
    "      input_ids=tokens[\"input_ids\"],\n",
    "      attention_mask=tokens[\"attention_mask\"]\n",
    "    )\n",
    "    y = self.sigmoid(logits.logits)\n",
    "    return y\n",
    "  \n",
    "  def configure_optimizers(self):\n",
    "    optimizer = torch.optim.Adam(self.parameters(), lr=1e-3)\n",
    "    return optimizer\n",
    "  \n",
    "  def foward(self, x):\n",
    "    tokens = self.tokenizer(\n",
    "      x,\n",
    "      return_tensors=\"pt\",\n",
    "      padding=True,\n",
    "      truncation=True,\n",
    "      max_length=512\n",
    "    )\n",
    "    tokens = {k: v.to(DEVICE) for k, v in tokens.items()}  # Move tokens to device\n",
    "    logits = self.model(\n",
    "      input_ids=tokens[\"input_ids\"],\n",
    "      attention_mask=tokens[\"attention_mask\"]\n",
    "    )\n",
    "    y = self.sigmoid(logits.logits)\n",
    "    return y\n",
    "  \n",
    "model_3 = DistilBertFinetune(\n",
    "  distilbert_model=distill_3,\n",
    "  tokenizer=tokenizer,\n",
    "  n_emotions=3\n",
    ")\n",
    "model_3 = model_3.to(DEVICE)  # Move LightningModule to device\n",
    "model_3"
   ]
  },
  {
   "cell_type": "code",
   "execution_count": 46,
   "id": "1c92b78f",
   "metadata": {},
   "outputs": [
    {
     "data": {
      "text/plain": [
       "<__main__.MetricsCallback at 0x21652c59160>"
      ]
     },
     "execution_count": 46,
     "metadata": {},
     "output_type": "execute_result"
    }
   ],
   "source": [
    "# collect eval with callbacks\n",
    "from lightning.pytorch.callbacks import Callback\n",
    "\n",
    "class MetricsCallback(Callback):\n",
    "  def __init__(self):\n",
    "    self.val_losses = []\n",
    "    self.epochs = []\n",
    "    \n",
    "  def on_validation_epoch_end(self, trainer, pl_module):\n",
    "    self.val_losses.append(trainer.callback_metrics[\"val_loss\"].item())\n",
    "    self.epochs.append(trainer.current_epoch)\n",
    "    \n",
    "metrics = MetricsCallback()\n",
    "metrics"
   ]
  },
  {
   "cell_type": "code",
   "execution_count": 47,
   "id": "03f6f850",
   "metadata": {},
   "outputs": [
    {
     "data": {
      "text/plain": [
       "<__main__.GoEmotionsDataModule at 0x2166a92b770>"
      ]
     },
     "execution_count": 47,
     "metadata": {},
     "output_type": "execute_result"
    }
   ],
   "source": [
    "# make dataloader using Lightning's DataLoader\n",
    "from lightning.pytorch import LightningDataModule\n",
    "from sklearn.model_selection import train_test_split\n",
    "from lightning.pytorch import seed_everything\n",
    "\n",
    "class GoEmotionsDataset(torch.utils.data.Dataset):\n",
    "  def __init__(self, dataframe):\n",
    "    self.dataframe = dataframe\n",
    "\n",
    "  def __len__(self):\n",
    "    return len(self.dataframe)\n",
    "\n",
    "  def __getitem__(self, idx):\n",
    "    text = self.dataframe.iloc[idx].text\n",
    "    # Select all columns that start with \"emotion_\"\n",
    "    emotions = self.dataframe.iloc[idx].filter(like=\"emotion_\").values\n",
    "    return text, torch.tensor(np.array(emotions, dtype=np.float32), dtype=torch.float32).to(DEVICE)\n",
    "\n",
    "# Move the split logic into the DataModule class\n",
    "class GoEmotionsDataModule(L.LightningDataModule):\n",
    "  def __init__(self, dataframe, batch_size=64):\n",
    "    super().__init__()\n",
    "    self.dataframe = dataframe\n",
    "    self.batch_size = batch_size\n",
    "  \n",
    "  def prepare_data(self):\n",
    "    self.train_df, temp_df = train_test_split(self.dataframe, test_size=0.1)\n",
    "    self.val_df, self.test_df = train_test_split(temp_df, test_size=0.8)\n",
    "\n",
    "  def setup(self, stage=None):\n",
    "    self.train_dataset = GoEmotionsDataset(self.train_df)\n",
    "    self.val_dataset = GoEmotionsDataset(self.val_df)\n",
    "    self.test_dataset = GoEmotionsDataset(self.test_df)\n",
    "\n",
    "  def train_dataloader(self):\n",
    "    return torch.utils.data.DataLoader(self.train_dataset, batch_size=self.batch_size, shuffle=True)\n",
    "\n",
    "  def val_dataloader(self):\n",
    "    return torch.utils.data.DataLoader(self.val_dataset, batch_size=self.batch_size, shuffle=False)\n",
    "\n",
    "  def test_dataloader(self):\n",
    "    return torch.utils.data.DataLoader(self.test_dataset, batch_size=self.batch_size, shuffle=False)\n",
    "\n",
    "data_module = GoEmotionsDataModule(data_3, batch_size=64)\n",
    "data_module"
   ]
  },
  {
   "cell_type": "code",
   "execution_count": 48,
   "id": "aa25d72f",
   "metadata": {},
   "outputs": [
    {
     "name": "stderr",
     "output_type": "stream",
     "text": [
      "Seed set to 42\n",
      "Using default `ModelCheckpoint`. Consider installing `litmodels` package to enable `LitModelCheckpoint` for automatic upload to the Lightning model registry.\n",
      "GPU available: True (cuda), used: True\n",
      "TPU available: False, using: 0 TPU cores\n",
      "HPU available: False, using: 0 HPUs\n"
     ]
    },
    {
     "data": {
      "text/plain": [
       "<lightning.pytorch.trainer.trainer.Trainer at 0x21652895090>"
      ]
     },
     "execution_count": 48,
     "metadata": {},
     "output_type": "execute_result"
    }
   ],
   "source": [
    "seed_everything(42, workers=True)\n",
    "# train\n",
    "trainer = L.Trainer(\n",
    "  max_epochs=1,\n",
    "  callbacks=[\n",
    "    metrics,\n",
    "  ],\n",
    "  deterministic=True,\n",
    "  default_root_dir=here(\"cache/lightning\"),\n",
    "  enable_checkpointing=True,\n",
    ")\n",
    "trainer"
   ]
  },
  {
   "cell_type": "code",
   "execution_count": 49,
   "id": "485b7740",
   "metadata": {},
   "outputs": [
    {
     "name": "stderr",
     "output_type": "stream",
     "text": [
      "LOCAL_RANK: 0 - CUDA_VISIBLE_DEVICES: [0]\n",
      "\n",
      "  | Name     | Type                                | Params | Mode \n",
      "-------------------------------------------------------------------------\n",
      "0 | model    | DistilBertForSequenceClassification | 67.0 M | train\n",
      "1 | sigmoid  | Sigmoid                             | 0      | train\n",
      "2 | sig_loss | BCEWithLogitsLoss                   | 0      | train\n",
      "3 | f1       | MultilabelF1Score                   | 0      | train\n",
      "4 | rmse     | MeanSquaredError                    | 0      | train\n",
      "-------------------------------------------------------------------------\n",
      "592 K     Trainable params\n",
      "66.4 M    Non-trainable params\n",
      "67.0 M    Total params\n",
      "267.823   Total estimated model params size (MB)\n",
      "100       Modules in train mode\n",
      "0         Modules in eval mode\n"
     ]
    },
    {
     "data": {
      "application/vnd.jupyter.widget-view+json": {
       "model_id": "2b2f852460bc4065976ed8f674493c4d",
       "version_major": 2,
       "version_minor": 0
      },
      "text/plain": [
       "Sanity Checking: |          | 0/? [00:00<?, ?it/s]"
      ]
     },
     "metadata": {},
     "output_type": "display_data"
    },
    {
     "name": "stderr",
     "output_type": "stream",
     "text": [
      "c:\\Users\\Plancha\\emotion-temp\\.pixi\\envs\\gpu\\Lib\\site-packages\\lightning\\pytorch\\trainer\\connectors\\data_connector.py:425: The 'val_dataloader' does not have many workers which may be a bottleneck. Consider increasing the value of the `num_workers` argument` to `num_workers=15` in the `DataLoader` to improve performance.\n",
      "c:\\Users\\Plancha\\emotion-temp\\.pixi\\envs\\gpu\\Lib\\site-packages\\lightning\\pytorch\\trainer\\connectors\\data_connector.py:425: The 'train_dataloader' does not have many workers which may be a bottleneck. Consider increasing the value of the `num_workers` argument` to `num_workers=15` in the `DataLoader` to improve performance.\n"
     ]
    },
    {
     "data": {
      "application/vnd.jupyter.widget-view+json": {
       "model_id": "19a94bbb8cb145dd848b131bf3959caf",
       "version_major": 2,
       "version_minor": 0
      },
      "text/plain": [
       "Training: |          | 0/? [00:00<?, ?it/s]"
      ]
     },
     "metadata": {},
     "output_type": "display_data"
    },
    {
     "data": {
      "application/vnd.jupyter.widget-view+json": {
       "model_id": "84e2a8d6c14540e4b3f7bf244666d67a",
       "version_major": 2,
       "version_minor": 0
      },
      "text/plain": [
       "Validation: |          | 0/? [00:00<?, ?it/s]"
      ]
     },
     "metadata": {},
     "output_type": "display_data"
    },
    {
     "name": "stderr",
     "output_type": "stream",
     "text": [
      "`Trainer.fit` stopped: `max_epochs=1` reached.\n"
     ]
    }
   ],
   "source": [
    "trainer.fit(\n",
    "  model_3,\n",
    "  datamodule=data_module,\n",
    ")"
   ]
  },
  {
   "cell_type": "code",
   "execution_count": 69,
   "id": "9a59d5c9",
   "metadata": {},
   "outputs": [
    {
     "data": {
      "text/plain": [
       "tensor([[0.4363, 0.3697, 0.4708]], device='cuda:0')"
      ]
     },
     "execution_count": 69,
     "metadata": {},
     "output_type": "execute_result"
    }
   ],
   "source": [
    "# make a sample prediction using model_3\n",
    "\n",
    "sample_text = \"Hello, Mosm\"\n",
    "with torch.no_grad():\n",
    "  out = model_3.foward(sample_text)  # Forward pass through the model\n",
    "out"
   ]
  },
  {
   "cell_type": "code",
   "execution_count": 63,
   "id": "a4eb2b3f",
   "metadata": {},
   "outputs": [
    {
     "data": {
      "text/plain": [
       "tensor([[0.4363, 0.3697, 0.4708]], device='cuda:0', grad_fn=<SigmoidBackward0>)"
      ]
     },
     "execution_count": 63,
     "metadata": {},
     "output_type": "execute_result"
    }
   ],
   "source": [
    "model_3.foward(sample_text)  # Forward pass through the model"
   ]
  }
 ],
 "metadata": {
  "kernelspec": {
   "display_name": "gpu",
   "language": "python",
   "name": "python3"
  },
  "language_info": {
   "codemirror_mode": {
    "name": "ipython",
    "version": 3
   },
   "file_extension": ".py",
   "mimetype": "text/x-python",
   "name": "python",
   "nbconvert_exporter": "python",
   "pygments_lexer": "ipython3",
   "version": "3.13.3"
  }
 },
 "nbformat": 4,
 "nbformat_minor": 5
}
