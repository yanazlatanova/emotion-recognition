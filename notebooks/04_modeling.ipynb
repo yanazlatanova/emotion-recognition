{
 "cells": [
  {
   "cell_type": "code",
   "execution_count": 1,
   "id": "77956231",
   "metadata": {},
   "outputs": [
    {
     "data": {
      "text/plain": [
       "Index(['id', 'text', 'n_raters', 'emotions', 'author', 'subreddit', 'link_id',\n",
       "       'parent_id', 'created_utc', 'emotion_positive', 'emotion_negative',\n",
       "       'emotion_ambiguous'],\n",
       "      dtype='object')"
      ]
     },
     "execution_count": 1,
     "metadata": {},
     "output_type": "execute_result"
    }
   ],
   "source": [
    "import pandas as pd\n",
    "import numpy as np\n",
    "from pyprojroot import here\n",
    "\n",
    "data_3 = pd.read_parquet(here(\"data/goemotions_3.parquet\"))\n",
    "data_3.columns"
   ]
  },
  {
   "cell_type": "code",
   "execution_count": 2,
   "id": "0b57e5ff",
   "metadata": {},
   "outputs": [
    {
     "data": {
      "text/plain": [
       "0        [[disappointment], [disappointment], [disappoi...\n",
       "1                        [[curiosity], [curiosity], [joy]]\n",
       "2        [[unclear], [sadness], [disapproval], [unclear...\n",
       "3        [[sadness], [embarrassment, sadness], [unclear...\n",
       "4        [[gratitude], [excitement, gratitude], [gratit...\n",
       "                               ...                        \n",
       "57344         [[disappointment], [confusion], [confusion]]\n",
       "57345    [[realization], [annoyance, disappointment], [...\n",
       "57346                    [[unclear], [unclear], [unclear]]\n",
       "57347    [[admiration, amusement], [excitement], [admir...\n",
       "57348                 [[unclear], [admiration], [unclear]]\n",
       "Name: emotions, Length: 57349, dtype: object"
      ]
     },
     "execution_count": 2,
     "metadata": {},
     "output_type": "execute_result"
    }
   ],
   "source": [
    "data_3.emotions"
   ]
  },
  {
   "cell_type": "code",
   "execution_count": 3,
   "id": "3235dabe",
   "metadata": {},
   "outputs": [
    {
     "name": "stderr",
     "output_type": "stream",
     "text": [
      "Some weights of DistilBertForSequenceClassification were not initialized from the model checkpoint at distilbert-base-uncased and are newly initialized: ['classifier.bias', 'classifier.weight', 'pre_classifier.bias', 'pre_classifier.weight']\n",
      "You should probably TRAIN this model on a down-stream task to be able to use it for predictions and inference.\n"
     ]
    },
    {
     "data": {
      "text/plain": [
       "DistilBertForSequenceClassification(\n",
       "  (distilbert): DistilBertModel(\n",
       "    (embeddings): Embeddings(\n",
       "      (word_embeddings): Embedding(30522, 768, padding_idx=0)\n",
       "      (position_embeddings): Embedding(512, 768)\n",
       "      (LayerNorm): LayerNorm((768,), eps=1e-12, elementwise_affine=True)\n",
       "      (dropout): Dropout(p=0.1, inplace=False)\n",
       "    )\n",
       "    (transformer): Transformer(\n",
       "      (layer): ModuleList(\n",
       "        (0-5): 6 x TransformerBlock(\n",
       "          (attention): DistilBertSdpaAttention(\n",
       "            (dropout): Dropout(p=0.1, inplace=False)\n",
       "            (q_lin): Linear(in_features=768, out_features=768, bias=True)\n",
       "            (k_lin): Linear(in_features=768, out_features=768, bias=True)\n",
       "            (v_lin): Linear(in_features=768, out_features=768, bias=True)\n",
       "            (out_lin): Linear(in_features=768, out_features=768, bias=True)\n",
       "          )\n",
       "          (sa_layer_norm): LayerNorm((768,), eps=1e-12, elementwise_affine=True)\n",
       "          (ffn): FFN(\n",
       "            (dropout): Dropout(p=0.1, inplace=False)\n",
       "            (lin1): Linear(in_features=768, out_features=3072, bias=True)\n",
       "            (lin2): Linear(in_features=3072, out_features=768, bias=True)\n",
       "            (activation): GELUActivation()\n",
       "          )\n",
       "          (output_layer_norm): LayerNorm((768,), eps=1e-12, elementwise_affine=True)\n",
       "        )\n",
       "      )\n",
       "    )\n",
       "  )\n",
       "  (pre_classifier): Linear(in_features=768, out_features=768, bias=True)\n",
       "  (classifier): Linear(in_features=768, out_features=3, bias=True)\n",
       "  (dropout): Dropout(p=0.2, inplace=False)\n",
       ")"
      ]
     },
     "execution_count": 3,
     "metadata": {},
     "output_type": "execute_result"
    }
   ],
   "source": [
    "# load distilbert\n",
    "import os\n",
    "os.environ[\"HF_HOME\"] = str(here(\"cache/huggingface\"))\n",
    "from transformers import DistilBertForSequenceClassification, DistilBertTokenizer\n",
    "\n",
    "model_3 = DistilBertForSequenceClassification.from_pretrained(\"distilbert-base-uncased\", num_labels=3)\n",
    "tokenizer = DistilBertTokenizer.from_pretrained(\"distilbert-base-uncased\")\n",
    "model_3"
   ]
  },
  {
   "cell_type": "code",
   "execution_count": 34,
   "id": "077777eb",
   "metadata": {},
   "outputs": [
    {
     "data": {
      "text/plain": [
       "===========================================================================================================================================================\n",
       "Layer (type:depth-idx)                                  Input Shape               Output Shape              Param #                   Trainable\n",
       "===========================================================================================================================================================\n",
       "DistilBertForSequenceClassification                     --                        [[1, 3, 1]]               --                        True\n",
       "├─DistilBertModel: 1-1                                  --                        [[1, 12, 768, 1]]         --                        True\n",
       "│    └─Embeddings: 2-1                                  [1, 12, 1]                [1, 12, 768]              --                        True\n",
       "│    │    └─Embedding: 3-1                              [1, 12, 1]                [1, 12, 768]              23,440,896                True\n",
       "│    │    └─Embedding: 3-2                              [1, 12, 1]                [1, 12, 768]              393,216                   True\n",
       "│    │    └─LayerNorm: 3-3                              [1, 12, 768, 1]           [1, 12, 768]              1,536                     True\n",
       "│    │    └─Dropout: 3-4                                [1, 12, 768, 1]           [1, 12, 768]              --                        --\n",
       "│    └─Transformer: 2-2                                 --                        [[1, 12, 768, 1]]         --                        True\n",
       "│    │    └─ModuleList: 3-5                             --                        --                        42,527,232                True\n",
       "├─Linear: 1-2                                           [1, 768, 1]               [1, 768]                  590,592                   True\n",
       "├─Dropout: 1-3                                          [1, 768, 1]               [1, 768]                  --                        --\n",
       "├─Linear: 1-4                                           [1, 768, 1]               [1, 3]                    2,307                     True\n",
       "===========================================================================================================================================================\n",
       "Total params: 66,955,779\n",
       "Trainable params: 66,955,779\n",
       "Non-trainable params: 0\n",
       "Total mult-adds (Units.MEGABYTES): 66.96\n",
       "===========================================================================================================================================================\n",
       "Input size (MB): 0.00\n",
       "Forward/backward pass size (MB): 5.09\n",
       "Params size (MB): 267.82\n",
       "Estimated Total Size (MB): 272.92\n",
       "==========================================================================================================================================================="
      ]
     },
     "execution_count": 34,
     "metadata": {},
     "output_type": "execute_result"
    }
   ],
   "source": [
    "import torch\n",
    "from torchinfo import summary\n",
    "DEVICE = \"cuda\" if torch.cuda.is_available() else \"cpu\"\n",
    "\n",
    "with torch.no_grad():\n",
    "  dummy_text = \"This is a dummy text for testing the model.\"\n",
    "  dummy_inputs = tokenizer(\n",
    "    dummy_text,\n",
    "    return_tensors=\"pt\",\n",
    "    padding=True,\n",
    "    truncation=True,\n",
    "    max_length=512\n",
    "  )\n",
    "  out = summary(\n",
    "    model_3,\n",
    "    input_data={\n",
    "      \"input_ids\": dummy_inputs[\"input_ids\"].to(DEVICE).long(),\n",
    "      \"attention_mask\": dummy_inputs[\"attention_mask\"].to(DEVICE).long()\n",
    "    },\n",
    "    col_names=[\"input_size\", \"output_size\", \"num_params\", \"trainable\"],\n",
    "    device=DEVICE,\n",
    "    batch_dim=64\n",
    "  )\n",
    "out"
   ]
  },
  {
   "cell_type": "code",
   "execution_count": null,
   "id": "f5d2b910",
   "metadata": {},
   "outputs": [
    {
     "data": {
      "text/plain": [
       "SequenceClassifierOutput(loss=None, logits=tensor([[ 0.0250, -0.1824,  0.1597]]), hidden_states=None, attentions=None)"
      ]
     },
     "execution_count": 13,
     "metadata": {},
     "output_type": "execute_result"
    }
   ],
   "source": [
    "import torch\n",
    "# try out a random example\n",
    "example = data_3.iloc[0].text\n",
    "with torch.no_grad():\n",
    "  inputs = tokenizer(example, return_tensors=\"pt\", truncation=True, padding=True)\n",
    "  outputs = model_3(**inputs)\n",
    "outputs"
   ]
  },
  {
   "cell_type": "code",
   "execution_count": null,
   "id": "ff073fa4",
   "metadata": {},
   "outputs": [
    {
     "data": {
      "text/plain": [
       "transformers.models.distilbert.modeling_distilbert.DistilBertForSequenceClassification"
      ]
     },
     "execution_count": 7,
     "metadata": {},
     "output_type": "execute_result"
    }
   ],
   "source": [
    "import lightning as L\n",
    "\n",
    "class DistilBertFinetune(L.LightningModule):\n",
    "  def __init__(self, distilbert_model, tokenizer, n_emotions=3):\n",
    "    super().__init__()\n",
    "    self.tokenizer = tokenizer\n",
    "    self.model = distilbert_model\n",
    "    self.model.classifier = torch.nn.Sequential(\n",
    "      torch.nn.Linear(in_features=768, out_features=n_emotions, bias=True),\n",
    "      torch.nn.Sigmoid()\n",
    "    )\n",
    "  def training_step(self, batch, batch_idx):\n",
    "    x, _ = batch\n",
    "    tokens = self.tokenizer( # TODO not sure what the args do\n",
    "      x,\n",
    "      return_tensors=\"pt\",\n",
    "      padding=True,\n",
    "      truncation=True,\n",
    "      max_length=512\n",
    "    )\n",
    "    y = self.model(\n",
    "      input_ids=tokens[\"input_ids\"],\n",
    "      attention_mask=tokens[\"attention_mask\"]\n",
    "    )\n",
    "    loss = torch.nn.functional.binary_cross_entropy_with_logits( # TODO see which one to use\n",
    "      y.logits,\n",
    "      batch[1].float() # TODO see what this does\n",
    "    )\n",
    "    return loss\n",
    "  def configure_optimizers(self):\n",
    "    optimizer = torch.optim.Adam(self.parameters(), lr=1e-3)\n",
    "    return optimizer\n",
    "  \n",
    "  def test_step(self, batch, batch_idx):\n",
    "    x, _ = batch\n",
    "    tokens = self.tokenizer(\n",
    "      x,\n",
    "      return_tensors=\"pt\",\n",
    "      padding=True,\n",
    "      truncation=True,\n",
    "      max_length=512\n",
    "    )\n",
    "    y = self.model(\n",
    "      input_ids=tokens[\"input_ids\"],\n",
    "      attention_mask=tokens[\"attention_mask\"]\n",
    "    )\n",
    "    loss = torch.nn.functional.binary_cross_entropy_with_logits(\n",
    "      y.logits,\n",
    "      batch[1].float()\n",
    "    )\n",
    "    self.log(\"test_loss\", loss)\n",
    "    return loss\n",
    "    \n",
    "  def validation_step(self, batch, batch_idx):\n",
    "    x, _ = batch\n",
    "    tokens = self.tokenizer(\n",
    "      x,\n",
    "      return_tensors=\"pt\",\n",
    "      padding=True,\n",
    "      truncation=True,\n",
    "      max_length=512\n",
    "    )\n",
    "    y = self.model(\n",
    "      input_ids=tokens[\"input_ids\"],\n",
    "      attention_mask=tokens[\"attention_mask\"]\n",
    "    )\n",
    "    loss = torch.nn.functional.binary_cross_entropy_with_logits(\n",
    "      y.logits,\n",
    "      batch[1].float()\n",
    "    )\n",
    "    self.log(\"val_loss\", loss)\n",
    "    return loss"
   ]
  }
 ],
 "metadata": {
  "kernelspec": {
   "display_name": "gpu",
   "language": "python",
   "name": "python3"
  },
  "language_info": {
   "codemirror_mode": {
    "name": "ipython",
    "version": 3
   },
   "file_extension": ".py",
   "mimetype": "text/x-python",
   "name": "python",
   "nbconvert_exporter": "python",
   "pygments_lexer": "ipython3",
   "version": "3.13.3"
  }
 },
 "nbformat": 4,
 "nbformat_minor": 5
}
