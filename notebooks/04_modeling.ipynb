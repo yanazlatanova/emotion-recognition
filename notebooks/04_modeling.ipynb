{
 "cells": [
  {
   "cell_type": "code",
   "execution_count": 36,
   "id": "77956231",
   "metadata": {},
   "outputs": [
    {
     "data": {
      "text/plain": [
       "Index(['id', 'text', 'n_raters', 'emotions', 'author', 'subreddit', 'link_id',\n",
       "       'parent_id', 'created_utc', 'emotion_positive', 'emotion_negative',\n",
       "       'emotion_ambiguous'],\n",
       "      dtype='object')"
      ]
     },
     "execution_count": 36,
     "metadata": {},
     "output_type": "execute_result"
    }
   ],
   "source": [
    "import pandas as pd\n",
    "import numpy as np\n",
    "from pyprojroot import here\n",
    "\n",
    "TRAINED = True\n",
    "\n",
    "data_3 = pd.read_parquet(here(\"data/goemotions_3.parquet\"))\n",
    "data_3.columns"
   ]
  },
  {
   "cell_type": "code",
   "execution_count": 6,
   "id": "0b57e5ff",
   "metadata": {},
   "outputs": [
    {
     "data": {
      "text/plain": [
       "0        [[disappointment], [disappointment], [disappoi...\n",
       "1                        [[curiosity], [curiosity], [joy]]\n",
       "2        [[unclear], [sadness], [disapproval], [unclear...\n",
       "3        [[sadness], [embarrassment, sadness], [unclear...\n",
       "4        [[gratitude], [excitement, gratitude], [gratit...\n",
       "                               ...                        \n",
       "57344         [[disappointment], [confusion], [confusion]]\n",
       "57345    [[realization], [annoyance, disappointment], [...\n",
       "57346                    [[unclear], [unclear], [unclear]]\n",
       "57347    [[admiration, amusement], [excitement], [admir...\n",
       "57348                 [[unclear], [admiration], [unclear]]\n",
       "Name: emotions, Length: 57349, dtype: object"
      ]
     },
     "execution_count": 6,
     "metadata": {},
     "output_type": "execute_result"
    }
   ],
   "source": [
    "data_3.emotions"
   ]
  },
  {
   "cell_type": "code",
   "execution_count": 7,
   "id": "a06b7dd0",
   "metadata": {},
   "outputs": [
    {
     "data": {
      "text/plain": [
       "(57349, 12)"
      ]
     },
     "execution_count": 7,
     "metadata": {},
     "output_type": "execute_result"
    }
   ],
   "source": [
    "data_3.shape"
   ]
  },
  {
   "cell_type": "code",
   "execution_count": null,
   "id": "3235dabe",
   "metadata": {},
   "outputs": [
    {
     "name": "stderr",
     "output_type": "stream",
     "text": [
      "Some weights of DistilBertForSequenceClassification were not initialized from the model checkpoint at distilbert-base-uncased and are newly initialized: ['classifier.bias', 'classifier.weight', 'pre_classifier.bias', 'pre_classifier.weight']\n",
      "You should probably TRAIN this model on a down-stream task to be able to use it for predictions and inference.\n"
     ]
    },
    {
     "data": {
      "text/plain": [
       "DistilBertForSequenceClassification(\n",
       "  (distilbert): DistilBertModel(\n",
       "    (embeddings): Embeddings(\n",
       "      (word_embeddings): Embedding(30522, 768, padding_idx=0)\n",
       "      (position_embeddings): Embedding(512, 768)\n",
       "      (LayerNorm): LayerNorm((768,), eps=1e-12, elementwise_affine=True)\n",
       "      (dropout): Dropout(p=0.1, inplace=False)\n",
       "    )\n",
       "    (transformer): Transformer(\n",
       "      (layer): ModuleList(\n",
       "        (0-5): 6 x TransformerBlock(\n",
       "          (attention): DistilBertSdpaAttention(\n",
       "            (dropout): Dropout(p=0.1, inplace=False)\n",
       "            (q_lin): Linear(in_features=768, out_features=768, bias=True)\n",
       "            (k_lin): Linear(in_features=768, out_features=768, bias=True)\n",
       "            (v_lin): Linear(in_features=768, out_features=768, bias=True)\n",
       "            (out_lin): Linear(in_features=768, out_features=768, bias=True)\n",
       "          )\n",
       "          (sa_layer_norm): LayerNorm((768,), eps=1e-12, elementwise_affine=True)\n",
       "          (ffn): FFN(\n",
       "            (dropout): Dropout(p=0.1, inplace=False)\n",
       "            (lin1): Linear(in_features=768, out_features=3072, bias=True)\n",
       "            (lin2): Linear(in_features=3072, out_features=768, bias=True)\n",
       "            (activation): GELUActivation()\n",
       "          )\n",
       "          (output_layer_norm): LayerNorm((768,), eps=1e-12, elementwise_affine=True)\n",
       "        )\n",
       "      )\n",
       "    )\n",
       "  )\n",
       "  (pre_classifier): Linear(in_features=768, out_features=768, bias=True)\n",
       "  (classifier): Linear(in_features=768, out_features=3, bias=True)\n",
       "  (dropout): Dropout(p=0.2, inplace=False)\n",
       ")"
      ]
     },
     "execution_count": 10,
     "metadata": {},
     "output_type": "execute_result"
    }
   ],
   "source": [
    "import os\n",
    "os.environ[\"HF_HOME\"] = str(here(\"cache/huggingface\"))\n",
    "from transformers import AutoModelForSequenceClassification, AutoTokenizer\n",
    "import torch\n",
    "DEVICE = \"cuda\" if torch.cuda.is_available() else \"cpu\"\n",
    "distill_3 = AutoModelForSequenceClassification.from_pretrained(\"distilbert-base-uncased\", num_labels=3)\n",
    "distill_3 = distill_3.to(DEVICE)  # Move model to device\n",
    "tokenizer = AutoTokenizer.from_pretrained(\"distilbert-base-uncased\")\n",
    "distill_3"
   ]
  },
  {
   "cell_type": "code",
   "execution_count": 11,
   "id": "6c6c2616",
   "metadata": {},
   "outputs": [
    {
     "name": "stdout",
     "output_type": "stream",
     "text": [
      "['[CLS]', 'i', 'love', 'programming', 'in', 'python', '!', 'the', 'o', 'un', '##bel', '##ie', '##va', '##bling', '##y', '[SEP]']\n"
     ]
    }
   ],
   "source": [
    "# see tokenization in process\n",
    "\"\"\"\n",
    "DistilBERT tokenizer return whole tokens if they exist in the vocabulary, \n",
    "but falls back to WordPiece subwords if not\n",
    "\"\"\"\n",
    "tokens = tokenizer(\"I love programming in Python! The ö Unbelievablingy\")\n",
    "print(tokenizer.convert_ids_to_tokens(tokens[\"input_ids\"]))\n"
   ]
  },
  {
   "cell_type": "code",
   "execution_count": 12,
   "id": "077777eb",
   "metadata": {},
   "outputs": [
    {
     "data": {
      "text/plain": [
       "===========================================================================================================================================================\n",
       "Layer (type:depth-idx)                                  Input Shape               Output Shape              Param #                   Trainable\n",
       "===========================================================================================================================================================\n",
       "DistilBertForSequenceClassification                     --                        [[1, 3, 1]]               --                        True\n",
       "├─DistilBertModel: 1-1                                  --                        [[1, 12, 768, 1]]         --                        True\n",
       "│    └─Embeddings: 2-1                                  [1, 12, 1]                [1, 12, 768]              --                        True\n",
       "│    │    └─Embedding: 3-1                              [1, 12, 1]                [1, 12, 768]              23,440,896                True\n",
       "│    │    └─Embedding: 3-2                              [1, 12, 1]                [1, 12, 768]              393,216                   True\n",
       "│    │    └─LayerNorm: 3-3                              [1, 12, 768, 1]           [1, 12, 768]              1,536                     True\n",
       "│    │    └─Dropout: 3-4                                [1, 12, 768, 1]           [1, 12, 768]              --                        --\n",
       "│    └─Transformer: 2-2                                 --                        [[1, 12, 768, 1]]         --                        True\n",
       "│    │    └─ModuleList: 3-5                             --                        --                        42,527,232                True\n",
       "├─Linear: 1-2                                           [1, 768, 1]               [1, 768]                  590,592                   True\n",
       "├─Dropout: 1-3                                          [1, 768, 1]               [1, 768]                  --                        --\n",
       "├─Linear: 1-4                                           [1, 768, 1]               [1, 3]                    2,307                     True\n",
       "===========================================================================================================================================================\n",
       "Total params: 66,955,779\n",
       "Trainable params: 66,955,779\n",
       "Non-trainable params: 0\n",
       "Total mult-adds (Units.MEGABYTES): 66.96\n",
       "===========================================================================================================================================================\n",
       "Input size (MB): 0.00\n",
       "Forward/backward pass size (MB): 5.09\n",
       "Params size (MB): 267.82\n",
       "Estimated Total Size (MB): 272.92\n",
       "==========================================================================================================================================================="
      ]
     },
     "execution_count": 12,
     "metadata": {},
     "output_type": "execute_result"
    }
   ],
   "source": [
    "import torch\n",
    "from torchinfo import summary\n",
    "DEVICE = \"cuda\" if torch.cuda.is_available() else \"cpu\"\n",
    "\n",
    "with torch.no_grad():\n",
    "  dummy_text = \"This is a dummy text for testing the model.\"\n",
    "  dummy_inputs = tokenizer(\n",
    "    dummy_text,\n",
    "    return_tensors=\"pt\",\n",
    "    padding=True,\n",
    "    truncation=True,\n",
    "    max_length=512\n",
    "  )\n",
    "  dummy_inputs = {k: v.to(DEVICE) for k, v in dummy_inputs.items()}  # Move inputs to device\n",
    "  out = summary(\n",
    "    distill_3,\n",
    "    input_data={\n",
    "      \"input_ids\": dummy_inputs[\"input_ids\"].long(),\n",
    "      \"attention_mask\": dummy_inputs[\"attention_mask\"].long()\n",
    "    },\n",
    "    col_names=[\"input_size\", \"output_size\", \"num_params\", \"trainable\"],\n",
    "    device=DEVICE,\n",
    "    batch_dim=64\n",
    "  )\n",
    "out"
   ]
  },
  {
   "cell_type": "code",
   "execution_count": null,
   "id": "ff073fa4",
   "metadata": {},
   "outputs": [
    {
     "data": {
      "text/plain": [
       "DistilBertFinetune(\n",
       "  (model): DistilBertForSequenceClassification(\n",
       "    (distilbert): DistilBertModel(\n",
       "      (embeddings): Embeddings(\n",
       "        (word_embeddings): Embedding(30522, 768, padding_idx=0)\n",
       "        (position_embeddings): Embedding(512, 768)\n",
       "        (LayerNorm): LayerNorm((768,), eps=1e-12, elementwise_affine=True)\n",
       "        (dropout): Dropout(p=0.1, inplace=False)\n",
       "      )\n",
       "      (transformer): Transformer(\n",
       "        (layer): ModuleList(\n",
       "          (0-5): 6 x TransformerBlock(\n",
       "            (attention): DistilBertSdpaAttention(\n",
       "              (dropout): Dropout(p=0.1, inplace=False)\n",
       "              (q_lin): Linear(in_features=768, out_features=768, bias=True)\n",
       "              (k_lin): Linear(in_features=768, out_features=768, bias=True)\n",
       "              (v_lin): Linear(in_features=768, out_features=768, bias=True)\n",
       "              (out_lin): Linear(in_features=768, out_features=768, bias=True)\n",
       "            )\n",
       "            (sa_layer_norm): LayerNorm((768,), eps=1e-12, elementwise_affine=True)\n",
       "            (ffn): FFN(\n",
       "              (dropout): Dropout(p=0.1, inplace=False)\n",
       "              (lin1): Linear(in_features=768, out_features=3072, bias=True)\n",
       "              (lin2): Linear(in_features=3072, out_features=768, bias=True)\n",
       "              (activation): GELUActivation()\n",
       "            )\n",
       "            (output_layer_norm): LayerNorm((768,), eps=1e-12, elementwise_affine=True)\n",
       "          )\n",
       "        )\n",
       "      )\n",
       "    )\n",
       "    (pre_classifier): Linear(in_features=768, out_features=768, bias=True)\n",
       "    (classifier): Linear(in_features=768, out_features=3, bias=True)\n",
       "    (dropout): Dropout(p=0.2, inplace=False)\n",
       "  )\n",
       "  (sigmoid): Sigmoid()\n",
       "  (sig_loss): BCEWithLogitsLoss()\n",
       "  (f1): MultilabelF1Score()\n",
       "  (rmse): MeanSquaredError()\n",
       ")"
      ]
     },
     "execution_count": 13,
     "metadata": {},
     "output_type": "execute_result"
    }
   ],
   "source": [
    "import lightning as L\n",
    "import torchmetrics\n",
    "from icecream import ic\n",
    "import torchmetrics.classification\n",
    "import torchmetrics.regression\n",
    "import torchmetrics.text\n",
    "\n",
    "class DistilBertFinetune(L.LightningModule):\n",
    "  def __init__(self, distilbert_model, tokenizer, n_emotions=3):\n",
    "    super().__init__()\n",
    "    self.tokenizer = tokenizer\n",
    "    self.model = distilbert_model.to(DEVICE)  # Ensure model is on device\n",
    "    self.model.train()\n",
    "    self.model.classifier = torch.nn.Linear(in_features=768, out_features=n_emotions, bias=True).to(DEVICE)\n",
    "    # Freeze all layers except classifier and pre-classifier\n",
    "    for param in self.model.parameters():\n",
    "      param.requires_grad = False\n",
    "    for param in self.model.classifier.parameters():\n",
    "      param.requires_grad = True\n",
    "    for param in self.model.pre_classifier.parameters():\n",
    "      param.requires_grad = True\n",
    "    self.sigmoid = torch.nn.Sigmoid()\n",
    "    self.sig_loss = torch.nn.BCEWithLogitsLoss()\n",
    "    self.f1 = torchmetrics.classification.MultilabelF1Score(num_labels=n_emotions, average=\"macro\") # macro is average of f1s, micro is global f1\n",
    "    self.rmse = torchmetrics.regression.MeanSquaredError(squared=False)\n",
    "  \n",
    "  def training_step(self, batch):\n",
    "    x, target = batch\n",
    "    tokens = self.tokenizer(\n",
    "      x,\n",
    "      return_tensors=\"pt\",\n",
    "      padding=True,\n",
    "      truncation=True,\n",
    "      max_length=512\n",
    "    )\n",
    "    tokens = {k: v.to(DEVICE) for k, v in tokens.items()}\n",
    "    target = target.to(DEVICE)\n",
    "    logits = self.model(\n",
    "      input_ids=tokens[\"input_ids\"],\n",
    "      attention_mask=tokens[\"attention_mask\"]\n",
    "    )\n",
    "    loss = self.sig_loss(\n",
    "      logits.logits,\n",
    "      target\n",
    "    )\n",
    "    return loss\n",
    "\n",
    "  def validation_step(self, batch):\n",
    "    x, target = batch\n",
    "    tokens = self.tokenizer(\n",
    "      x,\n",
    "      return_tensors=\"pt\",\n",
    "      padding=True,\n",
    "      truncation=True,\n",
    "      max_length=512\n",
    "    )\n",
    "    tokens = {k: v.to(DEVICE) for k, v in tokens.items()}\n",
    "    target = target.to(DEVICE)\n",
    "    logits = self.model(\n",
    "      input_ids=tokens[\"input_ids\"],\n",
    "      attention_mask=tokens[\"attention_mask\"]\n",
    "    )\n",
    "    loss = self.sig_loss(\n",
    "      logits.logits,\n",
    "      target\n",
    "    )\n",
    "    y = self.sigmoid(logits.logits)\n",
    "    self.log_dict({\n",
    "      \"val_loss\": loss, \n",
    "      \"val_rmse\": self.rmse(y, target),\n",
    "    }, on_step=False, on_epoch=True, prog_bar=True, logger=False)\n",
    "    return loss\n",
    "  \n",
    "  def test_step(self, batch):\n",
    "    x, target = batch\n",
    "    tokens = self.tokenizer(\n",
    "      x,\n",
    "      return_tensors=\"pt\",\n",
    "      padding=True,\n",
    "      truncation=True,\n",
    "      max_length=512\n",
    "    )\n",
    "    tokens = {k: v.to(DEVICE) for k, v in tokens.items()}\n",
    "    target = target.to(DEVICE)\n",
    "    logits = self.model(\n",
    "      input_ids=tokens[\"input_ids\"],\n",
    "      attention_mask=tokens[\"attention_mask\"]\n",
    "    )\n",
    "    loss = self.sig_loss(\n",
    "      logits.logits,\n",
    "      target\n",
    "    )\n",
    "    y = self.sigmoid(logits.logits)\n",
    "    rmse = self.rmse(y, target)\n",
    "    # if target > 0 then 1\n",
    "    # if target == 0 then 0\n",
    "    y = (y > 0.5).int() # thresholding at 0.5 # TODO possibly change this later\n",
    "    target = (target > 0.01).int()\n",
    "    f1 = self.f1(y, target)\n",
    "    self.log_dict({\n",
    "      \"test_loss\": loss,\n",
    "      \"test_f1\": f1,\n",
    "      \"test_rmse\": rmse\n",
    "    }, on_step=False, on_epoch=True, prog_bar=True, logger=False)\n",
    "    return loss\n",
    "  \n",
    "  def predict_step(self, batch):\n",
    "    x = batch\n",
    "    tokens = self.tokenizer(\n",
    "      x,\n",
    "      return_tensors=\"pt\",\n",
    "      padding=True,\n",
    "      truncation=True,\n",
    "      max_length=512\n",
    "    )\n",
    "    tokens = {k: v.to(DEVICE) for k, v in tokens.items()}\n",
    "    logits = self.model(\n",
    "      input_ids=tokens[\"input_ids\"],\n",
    "      attention_mask=tokens[\"attention_mask\"]\n",
    "    )\n",
    "    y = self.sigmoid(logits.logits)\n",
    "    return y\n",
    "  \n",
    "  def configure_optimizers(self):\n",
    "    optimizer = torch.optim.Adam(self.parameters(), lr=1e-3)\n",
    "    return optimizer\n",
    "  \n",
    "  def foward(self, x):\n",
    "    tokens = self.tokenizer(\n",
    "      x,\n",
    "      return_tensors=\"pt\",\n",
    "      padding=True,\n",
    "      truncation=True,\n",
    "      max_length=512\n",
    "    )\n",
    "    tokens = {k: v.to(DEVICE) for k, v in tokens.items()}  # Move tokens to device\n",
    "    logits = self.model(\n",
    "      input_ids=tokens[\"input_ids\"],\n",
    "      attention_mask=tokens[\"attention_mask\"]\n",
    "    )\n",
    "    y = self.sigmoid(logits.logits)\n",
    "    return y\n",
    "  \n",
    "model_3 = DistilBertFinetune(\n",
    "  distilbert_model=distill_3,\n",
    "  tokenizer=tokenizer,\n",
    "  n_emotions=3\n",
    ")\n",
    "model_3 = model_3.to(DEVICE)  # Move LightningModule to device\n",
    "model_3"
   ]
  },
  {
   "cell_type": "code",
   "execution_count": 40,
   "id": "1c92b78f",
   "metadata": {},
   "outputs": [
    {
     "data": {
      "text/plain": [
       "<__main__.MetricsCallback at 0x216f9948830>"
      ]
     },
     "execution_count": 40,
     "metadata": {},
     "output_type": "execute_result"
    }
   ],
   "source": [
    "# collect eval with callbacks\n",
    "from lightning.pytorch.callbacks import Callback\n",
    "\n",
    "class MetricsCallback(Callback):\n",
    "  def __init__(self):\n",
    "    self.val_losses = []\n",
    "    self.epochs = []\n",
    "    \n",
    "  def on_validation_epoch_end(self, trainer, pl_module):\n",
    "    self.val_losses.append(trainer.callback_metrics[\"val_loss\"].item())\n",
    "    self.epochs.append(trainer.current_epoch)\n",
    "    \n",
    "metrics = MetricsCallback()\n",
    "metrics"
   ]
  },
  {
   "cell_type": "code",
   "execution_count": 37,
   "id": "03f6f850",
   "metadata": {},
   "outputs": [
    {
     "data": {
      "text/plain": [
       "<__main__.GoEmotionsDataModule at 0x216b354a900>"
      ]
     },
     "execution_count": 37,
     "metadata": {},
     "output_type": "execute_result"
    }
   ],
   "source": [
    "# make dataloader using Lightning's DataLoader\n",
    "from lightning.pytorch import LightningDataModule\n",
    "from sklearn.model_selection import train_test_split\n",
    "from lightning.pytorch import seed_everything\n",
    "\n",
    "class GoEmotionsDataset(torch.utils.data.Dataset):\n",
    "  def __init__(self, dataframe):\n",
    "    self.dataframe = dataframe\n",
    "\n",
    "  def __len__(self):\n",
    "    return len(self.dataframe)\n",
    "\n",
    "  def __getitem__(self, idx):\n",
    "    text = self.dataframe.iloc[idx].text\n",
    "    # Select all columns that start with \"emotion_\"\n",
    "    emotions = self.dataframe.iloc[idx].filter(like=\"emotion_\").values\n",
    "    return text, torch.tensor(np.array(emotions, dtype=np.float32), dtype=torch.float32).to(DEVICE)\n",
    "\n",
    "# Move the split logic into the DataModule class\n",
    "class GoEmotionsDataModule(L.LightningDataModule):\n",
    "  def __init__(self, dataframe, batch_size=64):\n",
    "    super().__init__()\n",
    "    self.dataframe = dataframe\n",
    "    self.batch_size = batch_size\n",
    "  \n",
    "  def prepare_data(self):\n",
    "    self.train_df, temp_df = train_test_split(self.dataframe, test_size=0.1)\n",
    "    self.val_df, self.test_df = train_test_split(temp_df, test_size=0.8)\n",
    "\n",
    "  def setup(self, stage=None):\n",
    "    self.train_dataset = GoEmotionsDataset(self.train_df)\n",
    "    self.val_dataset = GoEmotionsDataset(self.val_df)\n",
    "    self.test_dataset = GoEmotionsDataset(self.test_df)\n",
    "\n",
    "  def train_dataloader(self):\n",
    "    return torch.utils.data.DataLoader(self.train_dataset, batch_size=self.batch_size, shuffle=True)\n",
    "\n",
    "  def val_dataloader(self):\n",
    "    return torch.utils.data.DataLoader(self.val_dataset, batch_size=self.batch_size, shuffle=False)\n",
    "\n",
    "  def test_dataloader(self):\n",
    "    return torch.utils.data.DataLoader(self.test_dataset, batch_size=self.batch_size, shuffle=False)\n",
    "\n",
    "data_module = GoEmotionsDataModule(data_3, batch_size=64)\n",
    "data_module"
   ]
  },
  {
   "cell_type": "code",
   "execution_count": null,
   "id": "aa25d72f",
   "metadata": {},
   "outputs": [],
   "source": [
    "seed_everything(42, workers=True)\n",
    "# train\n",
    "trainer = L.Trainer(\n",
    "  max_epochs=15,\n",
    "  max_time={\"minutes\": 10},\n",
    "  callbacks=[\n",
    "    metrics,\n",
    "  ],\n",
    "  deterministic=True,\n",
    "  default_root_dir=here(\"cache/lightning\"),\n",
    "  enable_checkpointing=True,\n",
    "  fast_dev_run=True\n",
    ")\n",
    "trainer"
   ]
  },
  {
   "cell_type": "code",
   "execution_count": null,
   "id": "9a59d5c9",
   "metadata": {},
   "outputs": [
    {
     "name": "stderr",
     "output_type": "stream",
     "text": [
      "LOCAL_RANK: 0 - CUDA_VISIBLE_DEVICES: [0]\n"
     ]
    },
    {
     "data": {
      "application/vnd.jupyter.widget-view+json": {
       "model_id": "d835c20d23a04813b8abfd1ef68507bf",
       "version_major": 2,
       "version_minor": 0
      },
      "text/plain": [
       "Predicting: |          | 0/? [00:00<?, ?it/s]"
      ]
     },
     "metadata": {},
     "output_type": "display_data"
    },
    {
     "data": {
      "text/plain": [
       "[tensor([[0.0339, 0.9709, 0.0156]]),\n",
       " tensor([[0.9878, 0.0034, 0.0120]]),\n",
       " tensor([[0.0703, 0.1861, 0.7806]])]"
      ]
     },
     "execution_count": 29,
     "metadata": {},
     "output_type": "execute_result"
    }
   ],
   "source": [
    "with torch.no_grad():\n",
    "  out = trainer.predict(model_3, [\n",
    "    \"I hate you\",\n",
    "    \"I love you\",\n",
    "    \"I'm not sure what you mean\"\n",
    "]) \n",
    "out"
   ]
  },
  {
   "cell_type": "code",
   "execution_count": 30,
   "id": "a29e4fa6",
   "metadata": {},
   "outputs": [
    {
     "name": "stderr",
     "output_type": "stream",
     "text": [
      "LOCAL_RANK: 0 - CUDA_VISIBLE_DEVICES: [0]\n"
     ]
    },
    {
     "name": "stderr",
     "output_type": "stream",
     "text": [
      "c:\\Users\\Plancha\\emotion-recognition\\.pixi\\envs\\gpu\\Lib\\site-packages\\lightning\\pytorch\\trainer\\connectors\\data_connector.py:425: The 'test_dataloader' does not have many workers which may be a bottleneck. Consider increasing the value of the `num_workers` argument` to `num_workers=15` in the `DataLoader` to improve performance.\n"
     ]
    },
    {
     "data": {
      "application/vnd.jupyter.widget-view+json": {
       "model_id": "645aa2b72a1842a5b291a8574debdf3a",
       "version_major": 2,
       "version_minor": 0
      },
      "text/plain": [
       "Testing: |          | 0/? [00:00<?, ?it/s]"
      ]
     },
     "metadata": {},
     "output_type": "display_data"
    },
    {
     "data": {
      "text/plain": [
       "[{}]"
      ]
     },
     "execution_count": 30,
     "metadata": {},
     "output_type": "execute_result"
    }
   ],
   "source": [
    "trainer.test(\n",
    "  model_3,\n",
    "  datamodule=data_module\n",
    ")"
   ]
  },
  {
   "cell_type": "code",
   "execution_count": 1,
   "id": "f685beca",
   "metadata": {},
   "outputs": [
    {
     "ename": "NameError",
     "evalue": "name 'metrics' is not defined",
     "output_type": "error",
     "traceback": [
      "\u001b[31m---------------------------------------------------------------------------\u001b[39m",
      "\u001b[31mNameError\u001b[39m                                 Traceback (most recent call last)",
      "\u001b[36mCell\u001b[39m\u001b[36m \u001b[39m\u001b[32mIn[1]\u001b[39m\u001b[32m, line 4\u001b[39m\n\u001b[32m      2\u001b[39m \u001b[38;5;28;01mimport\u001b[39;00m\u001b[38;5;250m \u001b[39m\u001b[34;01mmatplotlib\u001b[39;00m\u001b[34;01m.\u001b[39;00m\u001b[34;01mpyplot\u001b[39;00m\u001b[38;5;250m \u001b[39m\u001b[38;5;28;01mas\u001b[39;00m\u001b[38;5;250m \u001b[39m\u001b[34;01mplt\u001b[39;00m\n\u001b[32m      3\u001b[39m plt.figure(figsize=(\u001b[32m10\u001b[39m, \u001b[32m5\u001b[39m))\n\u001b[32m----> \u001b[39m\u001b[32m4\u001b[39m plt.plot(\u001b[43mmetrics\u001b[49m.epochs[\u001b[32m1\u001b[39m:], metrics.val_losses[\u001b[32m1\u001b[39m:], marker=\u001b[33m'\u001b[39m\u001b[33mo\u001b[39m\u001b[33m'\u001b[39m, label=\u001b[33m'\u001b[39m\u001b[33mValidation Loss\u001b[39m\u001b[33m'\u001b[39m)\n\u001b[32m      5\u001b[39m plt.xlabel(\u001b[33m'\u001b[39m\u001b[33mEpoch\u001b[39m\u001b[33m'\u001b[39m)\n\u001b[32m      6\u001b[39m plt.ylabel(\u001b[33m'\u001b[39m\u001b[33mLoss\u001b[39m\u001b[33m'\u001b[39m)\n",
      "\u001b[31mNameError\u001b[39m: name 'metrics' is not defined"
     ]
    },
    {
     "data": {
      "text/plain": [
       "<Figure size 1000x500 with 0 Axes>"
      ]
     },
     "metadata": {},
     "output_type": "display_data"
    }
   ],
   "source": [
    "# plot loss without the first observation\n",
    "import matplotlib.pyplot as plt\n",
    "plt.figure(figsize=(10, 5))\n",
    "plt.plot(metrics.epochs[1:], metrics.val_losses[1:], marker='o', label='Validation Loss')\n",
    "plt.xlabel('Epoch')\n",
    "plt.ylabel('Loss')\n",
    "plt.title('Validation Loss Over Epochs')\n",
    "plt.legend()\n",
    "plt.grid()\n",
    "plt.show()"
   ]
  },
  {
   "cell_type": "code",
   "execution_count": 3,
   "id": "4f6263c1",
   "metadata": {},
   "outputs": [
    {
     "name": "stderr",
     "output_type": "stream",
     "text": [
      "Some weights of DistilBertForSequenceClassification were not initialized from the model checkpoint at distilbert-base-uncased and are newly initialized: ['classifier.bias', 'classifier.weight', 'pre_classifier.bias', 'pre_classifier.weight']\n",
      "You should probably TRAIN this model on a down-stream task to be able to use it for predictions and inference.\n"
     ]
    },
    {
     "data": {
      "text/plain": [
       "DistilBertFinetune(\n",
       "  (model): DistilBertForSequenceClassification(\n",
       "    (distilbert): DistilBertModel(\n",
       "      (embeddings): Embeddings(\n",
       "        (word_embeddings): Embedding(30522, 768, padding_idx=0)\n",
       "        (position_embeddings): Embedding(512, 768)\n",
       "        (LayerNorm): LayerNorm((768,), eps=1e-12, elementwise_affine=True)\n",
       "        (dropout): Dropout(p=0.1, inplace=False)\n",
       "      )\n",
       "      (transformer): Transformer(\n",
       "        (layer): ModuleList(\n",
       "          (0-5): 6 x TransformerBlock(\n",
       "            (attention): DistilBertSdpaAttention(\n",
       "              (dropout): Dropout(p=0.1, inplace=False)\n",
       "              (q_lin): Linear(in_features=768, out_features=768, bias=True)\n",
       "              (k_lin): Linear(in_features=768, out_features=768, bias=True)\n",
       "              (v_lin): Linear(in_features=768, out_features=768, bias=True)\n",
       "              (out_lin): Linear(in_features=768, out_features=768, bias=True)\n",
       "            )\n",
       "            (sa_layer_norm): LayerNorm((768,), eps=1e-12, elementwise_affine=True)\n",
       "            (ffn): FFN(\n",
       "              (dropout): Dropout(p=0.1, inplace=False)\n",
       "              (lin1): Linear(in_features=768, out_features=3072, bias=True)\n",
       "              (lin2): Linear(in_features=3072, out_features=768, bias=True)\n",
       "              (activation): GELUActivation()\n",
       "            )\n",
       "            (output_layer_norm): LayerNorm((768,), eps=1e-12, elementwise_affine=True)\n",
       "          )\n",
       "        )\n",
       "      )\n",
       "    )\n",
       "    (pre_classifier): Linear(in_features=768, out_features=768, bias=True)\n",
       "    (classifier): Linear(in_features=768, out_features=3, bias=True)\n",
       "    (dropout): Dropout(p=0.2, inplace=False)\n",
       "  )\n",
       "  (sigmoid): Sigmoid()\n",
       "  (sig_loss): BCEWithLogitsLoss()\n",
       "  (f1): MultilabelF1Score()\n",
       "  (rmse): MeanSquaredError()\n",
       ")"
      ]
     },
     "execution_count": 3,
     "metadata": {},
     "output_type": "execute_result"
    }
   ],
   "source": [
    "## temp\n",
    "# load the checkpoint\n",
    "import sys\n",
    "import os\n",
    "from pyprojroot import here\n",
    "sys.path.append(str(here()))\n",
    "from importlib import reload\n",
    "from models import model_definitions as MD\n",
    "reload(MD)  # Reload the module to ensure it has the latest changes\n",
    "model = MD.DistilBertFinetune.load_from_checkpoint(here(r\"cache\\lightning\\lightning_logs\\version_0\\checkpoints\\epoch=14-step=12105.ckpt\"))\n",
    "model"
   ]
  },
  {
   "cell_type": "code",
   "execution_count": 4,
   "id": "53a11567",
   "metadata": {},
   "outputs": [
    {
     "name": "stderr",
     "output_type": "stream",
     "text": [
      "Using default `ModelCheckpoint`. Consider installing `litmodels` package to enable `LitModelCheckpoint` for automatic upload to the Lightning model registry.\n",
      "GPU available: True (cuda), used: False\n",
      "TPU available: False, using: 0 TPU cores\n",
      "HPU available: False, using: 0 HPUs\n",
      "c:\\Users\\Plancha\\emotion-recognition\\.pixi\\envs\\gpu\\Lib\\site-packages\\lightning\\pytorch\\trainer\\setup.py:177: GPU available but not used. You can set it by doing `Trainer(accelerator='gpu')`.\n",
      "c:\\Users\\Plancha\\emotion-recognition\\.pixi\\envs\\gpu\\Lib\\site-packages\\lightning\\pytorch\\trainer\\connectors\\logger_connector\\logger_connector.py:76: Starting from v1.9.0, `tensorboardX` has been removed as a dependency of the `lightning.pytorch` package, due to potential conflicts with other packages in the ML ecosystem. For this reason, `logger=True` will use `CSVLogger` as the default logger, unless the `tensorboard` or `tensorboardX` packages are found. Please `pip install lightning[extra]` or one of them to enable TensorBoard support by default\n"
     ]
    },
    {
     "data": {
      "application/vnd.jupyter.widget-view+json": {
       "model_id": "6219c5f8dc064881be6deb105db4ccc6",
       "version_major": 2,
       "version_minor": 0
      },
      "text/plain": [
       "Predicting: |          | 0/? [00:00<?, ?it/s]"
      ]
     },
     "metadata": {},
     "output_type": "display_data"
    },
    {
     "data": {
      "text/plain": [
       "[tensor([[0.0339, 0.9709, 0.0156]]),\n",
       " tensor([[0.9878, 0.0034, 0.0120]]),\n",
       " tensor([[0.0703, 0.1861, 0.7806]])]"
      ]
     },
     "execution_count": 4,
     "metadata": {},
     "output_type": "execute_result"
    }
   ],
   "source": [
    "import torch\n",
    "import lightning as L\n",
    "trainer = L.Trainer(\n",
    "  max_epochs=15,\n",
    "  max_time={\"minutes\": 10},\n",
    "  deterministic=True,\n",
    "  default_root_dir=here(\"cache/lightning\"),\n",
    "  enable_checkpointing=True,\n",
    "  fast_dev_run=False,\n",
    "  accelerator=\"cpu\",\n",
    ")\n",
    "with torch.no_grad():\n",
    "  out = trainer.predict(model, [\n",
    "    \"I hate you\",\n",
    "    \"I love you\",\n",
    "    \"I'm not sure what you mean\"\n",
    "]) \n",
    "out"
   ]
  },
  {
   "cell_type": "code",
   "execution_count": 5,
   "id": "5ce4fcfc",
   "metadata": {},
   "outputs": [
    {
     "ename": "NameError",
     "evalue": "name 'data_module' is not defined",
     "output_type": "error",
     "traceback": [
      "\u001b[31m---------------------------------------------------------------------------\u001b[39m",
      "\u001b[31mNameError\u001b[39m                                 Traceback (most recent call last)",
      "\u001b[36mCell\u001b[39m\u001b[36m \u001b[39m\u001b[32mIn[5]\u001b[39m\u001b[32m, line 5\u001b[39m\n\u001b[32m      1\u001b[39m DEVICE = \u001b[33m\"\u001b[39m\u001b[33mcpu\u001b[39m\u001b[33m\"\u001b[39m\n\u001b[32m      3\u001b[39m trainer.test(\n\u001b[32m      4\u001b[39m   model,\n\u001b[32m----> \u001b[39m\u001b[32m5\u001b[39m   datamodule=\u001b[43mdata_module\u001b[49m\n\u001b[32m      6\u001b[39m )\n",
      "\u001b[31mNameError\u001b[39m: name 'data_module' is not defined"
     ]
    }
   ],
   "source": [
    "DEVICE = \"cpu\"\n",
    "\n",
    "trainer.test(\n",
    "  model,\n",
    "  datamodule=data_module\n",
    ")"
   ]
  },
  {
   "cell_type": "code",
   "execution_count": null,
   "id": "2604dbc9",
   "metadata": {},
   "outputs": [
    {
     "ename": "NameError",
     "evalue": "name 'trainer' is not defined",
     "output_type": "error",
     "traceback": [
      "\u001b[31m---------------------------------------------------------------------------\u001b[39m",
      "\u001b[31mNameError\u001b[39m                                 Traceback (most recent call last)",
      "\u001b[36mCell\u001b[39m\u001b[36m \u001b[39m\u001b[32mIn[1]\u001b[39m\u001b[32m, line 1\u001b[39m\n\u001b[32m----> \u001b[39m\u001b[32m1\u001b[39m temo = \u001b[43mtrainer\u001b[49m.validate(\n\u001b[32m      2\u001b[39m   model,\n\u001b[32m      3\u001b[39m   datamodule=data_module\n\u001b[32m      4\u001b[39m )\n\u001b[32m      5\u001b[39m \u001b[38;5;28mprint\u001b[39m(temo)\n",
      "\u001b[31mNameError\u001b[39m: name 'trainer' is not defined"
     ]
    }
   ],
   "source": [
    "temo = trainer.validate(\n",
    "  model,\n",
    "  datamodule=data_module\n",
    ")\n",
    "print(temo)"
   ]
  }
 ],
 "metadata": {
  "kernelspec": {
   "display_name": "gpu",
   "language": "python",
   "name": "python3"
  },
  "language_info": {
   "codemirror_mode": {
    "name": "ipython",
    "version": 3
   },
   "file_extension": ".py",
   "mimetype": "text/x-python",
   "name": "python",
   "nbconvert_exporter": "python",
   "pygments_lexer": "ipython3",
   "version": "3.13.3"
  }
 },
 "nbformat": 4,
 "nbformat_minor": 5
}
