{
 "cells": [
  {
   "cell_type": "code",
   "execution_count": 1,
   "id": "ea84244b",
   "metadata": {},
   "outputs": [
    {
     "name": "stderr",
     "output_type": "stream",
     "text": [
      "Using default `ModelCheckpoint`. Consider installing `litmodels` package to enable `LitModelCheckpoint` for automatic upload to the Lightning model registry.\n",
      "GPU available: True (cuda), used: True\n",
      "TPU available: False, using: 0 TPU cores\n",
      "HPU available: False, using: 0 HPUs\n",
      "c:\\Users\\Plancha\\emotion-recognition\\.pixi\\envs\\gpu\\Lib\\site-packages\\lightning\\pytorch\\trainer\\connectors\\logger_connector\\logger_connector.py:76: Starting from v1.9.0, `tensorboardX` has been removed as a dependency of the `lightning.pytorch` package, due to potential conflicts with other packages in the ML ecosystem. For this reason, `logger=True` will use `CSVLogger` as the default logger, unless the `tensorboard` or `tensorboardX` packages are found. Please `pip install lightning[extra]` or one of them to enable TensorBoard support by default\n"
     ]
    },
    {
     "data": {
      "text/plain": [
       "<lightning.pytorch.trainer.trainer.Trainer at 0x2873a42bb60>"
      ]
     },
     "execution_count": 1,
     "metadata": {},
     "output_type": "execute_result"
    }
   ],
   "source": [
    "import os\n",
    "from pyprojroot import here\n",
    "os.environ[\"HF_HOME\"] = str(here(\"cache/huggingface\"))\n",
    "import lightning as L\n",
    "from importlib import reload\n",
    "import sys\n",
    "sys.path.append(str(here()))\n",
    "from models import model_definitions as MD\n",
    "import torch\n",
    "import pandas as pd\n",
    "reload(MD)\n",
    "torch.set_float32_matmul_precision('medium')\n",
    "data_module_3 = MD.GoEmotionsDataModule(pd.read_parquet(here(\"data/goemotions_3.parquet\")))\n",
    "data_module_7 = MD.GoEmotionsDataModule(pd.read_parquet(here(\"data/goemotions_7.parquet\")))\n",
    "data_module_28 = MD.GoEmotionsDataModule(pd.read_parquet(here(\"data/goemotions_28.parquet\")))\n",
    "metrics = MD.MetricsCallback()\n",
    "\n",
    "def make_trainer():\n",
    "  return L.Trainer(\n",
    "    max_epochs=15,\n",
    "    max_time={\"minutes\": 10},\n",
    "    callbacks=[\n",
    "      # metrics,\n",
    "    ],\n",
    "    deterministic=True,\n",
    "    default_root_dir=here(\"cache/lightning\"),\n",
    "    enable_checkpointing=True,\n",
    "    fast_dev_run=False,\n",
    "    accelerator=\"auto\", \n",
    "  )\n",
    "\n",
    "trainer = make_trainer()\n",
    "trainer"
   ]
  },
  {
   "cell_type": "markdown",
   "id": "c2aff64c",
   "metadata": {},
   "source": [
    "# Distil Bert finetuned (cross entropy loss)"
   ]
  },
  {
   "cell_type": "markdown",
   "id": "1da517a3",
   "metadata": {},
   "source": [
    "## 3 classes"
   ]
  },
  {
   "cell_type": "code",
   "execution_count": 2,
   "id": "77b532df",
   "metadata": {},
   "outputs": [
    {
     "name": "stderr",
     "output_type": "stream",
     "text": [
      "Some weights of DistilBertForSequenceClassification were not initialized from the model checkpoint at distilbert-base-uncased and are newly initialized: ['classifier.bias', 'classifier.weight', 'pre_classifier.bias', 'pre_classifier.weight']\n",
      "You should probably TRAIN this model on a down-stream task to be able to use it for predictions and inference.\n",
      "Some weights of DistilBertForSequenceClassification were not initialized from the model checkpoint at distilbert-base-uncased and are newly initialized: ['classifier.bias', 'classifier.weight', 'pre_classifier.bias', 'pre_classifier.weight']\n",
      "You should probably TRAIN this model on a down-stream task to be able to use it for predictions and inference.\n",
      "LOCAL_RANK: 0 - CUDA_VISIBLE_DEVICES: [0]\n",
      "c:\\Users\\Plancha\\emotion-recognition\\.pixi\\envs\\gpu\\Lib\\site-packages\\lightning\\pytorch\\trainer\\connectors\\data_connector.py:425: The 'test_dataloader' does not have many workers which may be a bottleneck. Consider increasing the value of the `num_workers` argument` to `num_workers=15` in the `DataLoader` to improve performance.\n"
     ]
    },
    {
     "data": {
      "application/vnd.jupyter.widget-view+json": {
       "model_id": "6343fe8976644e5bbb02635882147521",
       "version_major": 2,
       "version_minor": 0
      },
      "text/plain": [
       "Testing: |          | 0/? [00:00<?, ?it/s]"
      ]
     },
     "metadata": {},
     "output_type": "display_data"
    },
    {
     "name": "stdout",
     "output_type": "stream",
     "text": [
      "────────────────────────────────────────────────────────────────────────────────────────────────────────────────────────\n",
      "       Test metric             DataLoader 0\n",
      "────────────────────────────────────────────────────────────────────────────────────────────────────────────────────────\n",
      "   test_cross_entropy       0.4721657335758209\n",
      "    test_expectedNDCG       0.6351519227027893\n",
      "    test_f1_interest        0.5440922379493713\n",
      "      test_f1_stand         0.5834985971450806\n",
      "        test_nDGC           0.9334059357643127\n",
      "        test_rmse           0.25550487637519836\n",
      "────────────────────────────────────────────────────────────────────────────────────────────────────────────────────────\n"
     ]
    },
    {
     "data": {
      "text/plain": [
       "[{'test_cross_entropy': 0.4721657335758209,\n",
       "  'test_f1_stand': 0.5834985971450806,\n",
       "  'test_f1_interest': 0.5440922379493713,\n",
       "  'test_rmse': 0.25550487637519836,\n",
       "  'test_nDGC': 0.9334059357643127,\n",
       "  'test_expectedNDCG': 0.6351519227027893}]"
      ]
     },
     "execution_count": 2,
     "metadata": {},
     "output_type": "execute_result"
    }
   ],
   "source": [
    "reload(MD)\n",
    "distil_3 = MD.DistilBertFinetune(n_emotions=3)\n",
    "if False:    \n",
    "  trainer.fit(\n",
    "    distil_3,\n",
    "    datamodule=data_module_3,\n",
    "  )\n",
    "else:\n",
    "  distil_3 = MD.DistilBertFinetune.load_from_checkpoint(\n",
    "    here(\"models/model_checkpoints/distil_bert_finetuned_3_14epchs.ckpt\"),\n",
    "    n_emotions=3,\n",
    "  )\n",
    "out = trainer.test(\n",
    "  distil_3,\n",
    "  datamodule=data_module_3,\n",
    ")\n",
    "del distil_3\n",
    "out"
   ]
  },
  {
   "cell_type": "markdown",
   "id": "81704917",
   "metadata": {},
   "source": [
    "## 7 classes"
   ]
  },
  {
   "cell_type": "code",
   "execution_count": 3,
   "id": "0136d052",
   "metadata": {},
   "outputs": [
    {
     "name": "stderr",
     "output_type": "stream",
     "text": [
      "Some weights of DistilBertForSequenceClassification were not initialized from the model checkpoint at distilbert-base-uncased and are newly initialized: ['classifier.bias', 'classifier.weight', 'pre_classifier.bias', 'pre_classifier.weight']\n",
      "You should probably TRAIN this model on a down-stream task to be able to use it for predictions and inference.\n",
      "Some weights of DistilBertForSequenceClassification were not initialized from the model checkpoint at distilbert-base-uncased and are newly initialized: ['classifier.bias', 'classifier.weight', 'pre_classifier.bias', 'pre_classifier.weight']\n",
      "You should probably TRAIN this model on a down-stream task to be able to use it for predictions and inference.\n",
      "LOCAL_RANK: 0 - CUDA_VISIBLE_DEVICES: [0]\n"
     ]
    },
    {
     "data": {
      "application/vnd.jupyter.widget-view+json": {
       "model_id": "617f694832d74977a4a33905f3822509",
       "version_major": 2,
       "version_minor": 0
      },
      "text/plain": [
       "Testing: |          | 0/? [00:00<?, ?it/s]"
      ]
     },
     "metadata": {},
     "output_type": "display_data"
    },
    {
     "name": "stdout",
     "output_type": "stream",
     "text": [
      "────────────────────────────────────────────────────────────────────────────────────────────────────────────────────────\n",
      "       Test metric             DataLoader 0\n",
      "────────────────────────────────────────────────────────────────────────────────────────────────────────────────────────\n",
      "   test_cross_entropy       0.2804671823978424\n",
      "    test_expectedNDCG       0.4182862639427185\n",
      "    test_f1_interest        0.2835002541542053\n",
      "      test_f1_stand         0.23864038288593292\n",
      "        test_nDGC           0.8956641554832458\n",
      "        test_rmse            0.186847522854805\n",
      "────────────────────────────────────────────────────────────────────────────────────────────────────────────────────────\n"
     ]
    },
    {
     "data": {
      "text/plain": [
       "[{'test_cross_entropy': 0.2804671823978424,\n",
       "  'test_f1_stand': 0.23864038288593292,\n",
       "  'test_f1_interest': 0.2835002541542053,\n",
       "  'test_rmse': 0.186847522854805,\n",
       "  'test_nDGC': 0.8956641554832458,\n",
       "  'test_expectedNDCG': 0.4182862639427185}]"
      ]
     },
     "execution_count": 3,
     "metadata": {},
     "output_type": "execute_result"
    }
   ],
   "source": [
    "reload(MD)\n",
    "distil_7 = MD.DistilBertFinetune(n_emotions=7)\n",
    "if False:    \n",
    "  trainer.fit(\n",
    "    distil_7,\n",
    "    data_module=data_module_7,\n",
    "  )\n",
    "else:\n",
    "  distil_7 = MD.DistilBertFinetune.load_from_checkpoint(\n",
    "    here(\"models/model_checkpoints/distil_bert_finetuned_7_14epchs.ckpt\"),\n",
    "    n_emotions=7,\n",
    "  )\n",
    "out = trainer.test(\n",
    "  distil_7,\n",
    "  datamodule=data_module_7\n",
    ")\n",
    "del distil_7\n",
    "out"
   ]
  },
  {
   "cell_type": "markdown",
   "id": "c8a04f0b",
   "metadata": {},
   "source": [
    "## 28 classes"
   ]
  },
  {
   "cell_type": "code",
   "execution_count": 7,
   "id": "bd11ff3c",
   "metadata": {},
   "outputs": [
    {
     "name": "stderr",
     "output_type": "stream",
     "text": [
      "Some weights of DistilBertForSequenceClassification were not initialized from the model checkpoint at distilbert-base-uncased and are newly initialized: ['classifier.bias', 'classifier.weight', 'pre_classifier.bias', 'pre_classifier.weight']\n",
      "You should probably TRAIN this model on a down-stream task to be able to use it for predictions and inference.\n",
      "Using default `ModelCheckpoint`. Consider installing `litmodels` package to enable `LitModelCheckpoint` for automatic upload to the Lightning model registry.\n",
      "GPU available: True (cuda), used: True\n",
      "TPU available: False, using: 0 TPU cores\n",
      "HPU available: False, using: 0 HPUs\n",
      "Some weights of DistilBertForSequenceClassification were not initialized from the model checkpoint at distilbert-base-uncased and are newly initialized: ['classifier.bias', 'classifier.weight', 'pre_classifier.bias', 'pre_classifier.weight']\n",
      "You should probably TRAIN this model on a down-stream task to be able to use it for predictions and inference.\n",
      "LOCAL_RANK: 0 - CUDA_VISIBLE_DEVICES: [0]\n"
     ]
    },
    {
     "data": {
      "application/vnd.jupyter.widget-view+json": {
       "model_id": "2456c976e5a34f038222546ecb892eca",
       "version_major": 2,
       "version_minor": 0
      },
      "text/plain": [
       "Testing: |          | 0/? [00:00<?, ?it/s]"
      ]
     },
     "metadata": {},
     "output_type": "display_data"
    },
    {
     "name": "stdout",
     "output_type": "stream",
     "text": [
      "────────────────────────────────────────────────────────────────────────────────────────────────────────────────────────\n",
      "       Test metric             DataLoader 0\n",
      "────────────────────────────────────────────────────────────────────────────────────────────────────────────────────────\n",
      "     test_approxNDCG        0.6911609172821045\n",
      "   test_cross_entropy       0.11740745604038239\n",
      "    test_f1_interest        0.09376711398363113\n",
      "      test_f1_stand         0.0886179506778717\n",
      "        test_nDGC           0.8142855167388916\n",
      "        test_rmse           0.11035352200269699\n",
      "────────────────────────────────────────────────────────────────────────────────────────────────────────────────────────\n"
     ]
    },
    {
     "data": {
      "text/plain": [
       "[{'test_cross_entropy': 0.11740745604038239,\n",
       "  'test_f1_stand': 0.0886179506778717,\n",
       "  'test_f1_interest': 0.09376711398363113,\n",
       "  'test_rmse': 0.11035352200269699,\n",
       "  'test_nDGC': 0.8142855167388916,\n",
       "  'test_approxNDCG': 0.6911609172821045}]"
      ]
     },
     "execution_count": 7,
     "metadata": {},
     "output_type": "execute_result"
    }
   ],
   "source": [
    "reload(MD)\n",
    "distil_28 = MD.DistilBertFinetune(n_emotions=28)\n",
    "trainer = make_trainer()\n",
    "if False:    \n",
    "  trainer.fit(\n",
    "    distil_28,\n",
    "    datamodule=data_module_28,\n",
    "  )\n",
    "else:\n",
    "  distil_28 = MD.DistilBertFinetune.load_from_checkpoint(\n",
    "    here(\"models/model_checkpoints/distil_bert_finetuned_28_11epchs.ckpt\"),\n",
    "    n_emotions=28,\n",
    "  )\n",
    "out = trainer.test(\n",
    "  distil_28,\n",
    "  datamodule=data_module_28,\n",
    ")\n",
    "del distil_28\n",
    "out"
   ]
  },
  {
   "cell_type": "markdown",
   "id": "c4624fea",
   "metadata": {},
   "source": [
    "# Distil Bert finetuned (DCG loss)"
   ]
  },
  {
   "cell_type": "markdown",
   "id": "04e3961d",
   "metadata": {},
   "source": [
    "## 3 classes"
   ]
  },
  {
   "cell_type": "code",
   "execution_count": 5,
   "id": "c8999fac",
   "metadata": {},
   "outputs": [
    {
     "name": "stderr",
     "output_type": "stream",
     "text": [
      "Some weights of DistilBertForSequenceClassification were not initialized from the model checkpoint at distilbert-base-uncased and are newly initialized: ['classifier.bias', 'classifier.weight', 'pre_classifier.bias', 'pre_classifier.weight']\n",
      "You should probably TRAIN this model on a down-stream task to be able to use it for predictions and inference.\n",
      "Using default `ModelCheckpoint`. Consider installing `litmodels` package to enable `LitModelCheckpoint` for automatic upload to the Lightning model registry.\n",
      "GPU available: True (cuda), used: True\n",
      "TPU available: False, using: 0 TPU cores\n",
      "HPU available: False, using: 0 HPUs\n",
      "LOCAL_RANK: 0 - CUDA_VISIBLE_DEVICES: [0]\n",
      "\n",
      "  | Name          | Type                                | Params | Mode \n",
      "------------------------------------------------------------------------------\n",
      "0 | model         | DistilBertForSequenceClassification | 67.0 M | train\n",
      "1 | sigmoid       | Sigmoid                             | 0      | train\n",
      "2 | sig_loss      | BCEWithLogitsLoss                   | 0      | train\n",
      "3 | nDGC          | NDCG                                | 0      | train\n",
      "4 | expected_nDGC | SoftRankExpectedNDCG                | 0      | train\n",
      "5 | f1_stand      | MultilabelF1Score                   | 0      | train\n",
      "6 | f1_interest   | MultilabelF1Score                   | 0      | train\n",
      "7 | rmse          | MeanSquaredError                    | 0      | train\n",
      "------------------------------------------------------------------------------\n",
      "592 K     Trainable params\n",
      "66.4 M    Non-trainable params\n",
      "67.0 M    Total params\n",
      "267.823   Total estimated model params size (MB)\n",
      "103       Modules in train mode\n",
      "0         Modules in eval mode\n"
     ]
    },
    {
     "data": {
      "application/vnd.jupyter.widget-view+json": {
       "model_id": "b40a45a0dc6747bb83345220acfa16db",
       "version_major": 2,
       "version_minor": 0
      },
      "text/plain": [
       "Sanity Checking: |          | 0/? [00:00<?, ?it/s]"
      ]
     },
     "metadata": {},
     "output_type": "display_data"
    },
    {
     "name": "stderr",
     "output_type": "stream",
     "text": [
      "c:\\Users\\Plancha\\emotion-recognition\\.pixi\\envs\\gpu\\Lib\\site-packages\\lightning\\pytorch\\trainer\\connectors\\data_connector.py:425: The 'val_dataloader' does not have many workers which may be a bottleneck. Consider increasing the value of the `num_workers` argument` to `num_workers=15` in the `DataLoader` to improve performance.\n",
      "c:\\Users\\Plancha\\emotion-recognition\\.pixi\\envs\\gpu\\Lib\\site-packages\\lightning\\pytorch\\trainer\\connectors\\data_connector.py:425: The 'train_dataloader' does not have many workers which may be a bottleneck. Consider increasing the value of the `num_workers` argument` to `num_workers=15` in the `DataLoader` to improve performance.\n"
     ]
    },
    {
     "data": {
      "application/vnd.jupyter.widget-view+json": {
       "model_id": "eead3e7cb2474b7bb2b235f82ffa2329",
       "version_major": 2,
       "version_minor": 0
      },
      "text/plain": [
       "Training: |          | 0/? [00:00<?, ?it/s]"
      ]
     },
     "metadata": {},
     "output_type": "display_data"
    },
    {
     "data": {
      "application/vnd.jupyter.widget-view+json": {
       "model_id": "e4a9996aec9d47828a2bb97c061d4391",
       "version_major": 2,
       "version_minor": 0
      },
      "text/plain": [
       "Validation: |          | 0/? [00:00<?, ?it/s]"
      ]
     },
     "metadata": {},
     "output_type": "display_data"
    },
    {
     "data": {
      "application/vnd.jupyter.widget-view+json": {
       "model_id": "53023fdba43c4ca0bbd7e703a4a9540a",
       "version_major": 2,
       "version_minor": 0
      },
      "text/plain": [
       "Validation: |          | 0/? [00:00<?, ?it/s]"
      ]
     },
     "metadata": {},
     "output_type": "display_data"
    },
    {
     "data": {
      "application/vnd.jupyter.widget-view+json": {
       "model_id": "85f6e1a3b8604e968f6cf1f743b3c768",
       "version_major": 2,
       "version_minor": 0
      },
      "text/plain": [
       "Validation: |          | 0/? [00:00<?, ?it/s]"
      ]
     },
     "metadata": {},
     "output_type": "display_data"
    },
    {
     "data": {
      "application/vnd.jupyter.widget-view+json": {
       "model_id": "cb95cad531c84404b53cbf669a6bf203",
       "version_major": 2,
       "version_minor": 0
      },
      "text/plain": [
       "Validation: |          | 0/? [00:00<?, ?it/s]"
      ]
     },
     "metadata": {},
     "output_type": "display_data"
    },
    {
     "data": {
      "application/vnd.jupyter.widget-view+json": {
       "model_id": "40f56ad66d0d47af9ab2adf30857540a",
       "version_major": 2,
       "version_minor": 0
      },
      "text/plain": [
       "Validation: |          | 0/? [00:00<?, ?it/s]"
      ]
     },
     "metadata": {},
     "output_type": "display_data"
    },
    {
     "data": {
      "application/vnd.jupyter.widget-view+json": {
       "model_id": "081356494e2f485483d0663ff834dd54",
       "version_major": 2,
       "version_minor": 0
      },
      "text/plain": [
       "Validation: |          | 0/? [00:00<?, ?it/s]"
      ]
     },
     "metadata": {},
     "output_type": "display_data"
    },
    {
     "data": {
      "application/vnd.jupyter.widget-view+json": {
       "model_id": "7fc039a3f2d040cca4db72f06a07a118",
       "version_major": 2,
       "version_minor": 0
      },
      "text/plain": [
       "Validation: |          | 0/? [00:00<?, ?it/s]"
      ]
     },
     "metadata": {},
     "output_type": "display_data"
    },
    {
     "data": {
      "application/vnd.jupyter.widget-view+json": {
       "model_id": "8c1451925f6141af95de771827f80192",
       "version_major": 2,
       "version_minor": 0
      },
      "text/plain": [
       "Validation: |          | 0/? [00:00<?, ?it/s]"
      ]
     },
     "metadata": {},
     "output_type": "display_data"
    },
    {
     "data": {
      "application/vnd.jupyter.widget-view+json": {
       "model_id": "8a09ff104fed41069164242bae2d2470",
       "version_major": 2,
       "version_minor": 0
      },
      "text/plain": [
       "Validation: |          | 0/? [00:00<?, ?it/s]"
      ]
     },
     "metadata": {},
     "output_type": "display_data"
    },
    {
     "data": {
      "application/vnd.jupyter.widget-view+json": {
       "model_id": "86220458bcc94cdba9c0a77c3514f84c",
       "version_major": 2,
       "version_minor": 0
      },
      "text/plain": [
       "Validation: |          | 0/? [00:00<?, ?it/s]"
      ]
     },
     "metadata": {},
     "output_type": "display_data"
    },
    {
     "name": "stderr",
     "output_type": "stream",
     "text": [
      "Time limit reached. Elapsed time is 0:10:00. Signaling Trainer to stop.\n"
     ]
    },
    {
     "data": {
      "application/vnd.jupyter.widget-view+json": {
       "model_id": "9dc0b6e430ba4087a1d8f1abcfcc4233",
       "version_major": 2,
       "version_minor": 0
      },
      "text/plain": [
       "Validation: |          | 0/? [00:00<?, ?it/s]"
      ]
     },
     "metadata": {},
     "output_type": "display_data"
    },
    {
     "name": "stderr",
     "output_type": "stream",
     "text": [
      "LOCAL_RANK: 0 - CUDA_VISIBLE_DEVICES: [0]\n"
     ]
    },
    {
     "data": {
      "application/vnd.jupyter.widget-view+json": {
       "model_id": "c6180acaf2da44eb96ce750916995dc5",
       "version_major": 2,
       "version_minor": 0
      },
      "text/plain": [
       "Testing: |          | 0/? [00:00<?, ?it/s]"
      ]
     },
     "metadata": {},
     "output_type": "display_data"
    },
    {
     "name": "stdout",
     "output_type": "stream",
     "text": [
      "────────────────────────────────────────────────────────────────────────────────────────────────────────────────────────\n",
      "       Test metric             DataLoader 0\n",
      "────────────────────────────────────────────────────────────────────────────────────────────────────────────────────────\n",
      "   test_cross_entropy       0.5865071415901184\n",
      "    test_expectedNDCG       0.6287815570831299\n",
      "    test_f1_interest        0.45578745007514954\n",
      "      test_f1_stand         0.7278568744659424\n",
      "        test_nDGC           0.9333325028419495\n",
      "        test_rmse           0.33281922340393066\n",
      "────────────────────────────────────────────────────────────────────────────────────────────────────────────────────────\n"
     ]
    },
    {
     "data": {
      "text/plain": [
       "[{'test_cross_entropy': 0.5865071415901184,\n",
       "  'test_f1_stand': 0.7278568744659424,\n",
       "  'test_f1_interest': 0.45578745007514954,\n",
       "  'test_rmse': 0.33281922340393066,\n",
       "  'test_nDGC': 0.9333325028419495,\n",
       "  'test_expectedNDCG': 0.6287815570831299}]"
      ]
     },
     "execution_count": 5,
     "metadata": {},
     "output_type": "execute_result"
    }
   ],
   "source": [
    "reload(MD) # DistilBertFinetuneOnDCG\n",
    "distil_dcg_3 = MD.DistilBertFinetuneOnDCG(n_emotions=3)\n",
    "trainer = make_trainer()\n",
    "if True:    \n",
    "  trainer.fit(\n",
    "    distil_dcg_3,\n",
    "    datamodule=data_module_3,\n",
    "  )\n",
    "else:\n",
    "  distil_dcg_3 = MD.DistilBertFinetuneOnDCG.load_from_checkpoint(\n",
    "    here(\"models/model_checkpoints/distil_bert_finetuned_dcg_3.ckpt\"),\n",
    "    n_emotions=3,\n",
    "  ) \n",
    "out = trainer.test(\n",
    "  distil_dcg_3,\n",
    "  datamodule=data_module_3,\n",
    ")\n",
    "del distil_dcg_3\n",
    "out"
   ]
  },
  {
   "cell_type": "markdown",
   "id": "866509f9",
   "metadata": {},
   "source": [
    "## 7 classes"
   ]
  },
  {
   "cell_type": "code",
   "execution_count": 6,
   "id": "4a86f17a",
   "metadata": {},
   "outputs": [
    {
     "name": "stderr",
     "output_type": "stream",
     "text": [
      "Some weights of DistilBertForSequenceClassification were not initialized from the model checkpoint at distilbert-base-uncased and are newly initialized: ['classifier.bias', 'classifier.weight', 'pre_classifier.bias', 'pre_classifier.weight']\n",
      "You should probably TRAIN this model on a down-stream task to be able to use it for predictions and inference.\n",
      "Using default `ModelCheckpoint`. Consider installing `litmodels` package to enable `LitModelCheckpoint` for automatic upload to the Lightning model registry.\n",
      "GPU available: True (cuda), used: True\n",
      "TPU available: False, using: 0 TPU cores\n",
      "HPU available: False, using: 0 HPUs\n",
      "LOCAL_RANK: 0 - CUDA_VISIBLE_DEVICES: [0]\n",
      "\n",
      "  | Name          | Type                                | Params | Mode \n",
      "------------------------------------------------------------------------------\n",
      "0 | model         | DistilBertForSequenceClassification | 67.0 M | train\n",
      "1 | sigmoid       | Sigmoid                             | 0      | train\n",
      "2 | sig_loss      | BCEWithLogitsLoss                   | 0      | train\n",
      "3 | nDGC          | NDCG                                | 0      | train\n",
      "4 | expected_nDGC | SoftRankExpectedNDCG                | 0      | train\n",
      "5 | f1_stand      | MultilabelF1Score                   | 0      | train\n",
      "6 | f1_interest   | MultilabelF1Score                   | 0      | train\n",
      "7 | rmse          | MeanSquaredError                    | 0      | train\n",
      "------------------------------------------------------------------------------\n",
      "595 K     Trainable params\n",
      "66.4 M    Non-trainable params\n",
      "67.0 M    Total params\n",
      "267.835   Total estimated model params size (MB)\n",
      "103       Modules in train mode\n",
      "0         Modules in eval mode\n"
     ]
    },
    {
     "data": {
      "application/vnd.jupyter.widget-view+json": {
       "model_id": "e366f80a34fc45c8869f6c43a137c0f6",
       "version_major": 2,
       "version_minor": 0
      },
      "text/plain": [
       "Sanity Checking: |          | 0/? [00:00<?, ?it/s]"
      ]
     },
     "metadata": {},
     "output_type": "display_data"
    },
    {
     "data": {
      "application/vnd.jupyter.widget-view+json": {
       "model_id": "ffacd00920ba42b18b4829c7cd03dc1e",
       "version_major": 2,
       "version_minor": 0
      },
      "text/plain": [
       "Training: |          | 0/? [00:00<?, ?it/s]"
      ]
     },
     "metadata": {},
     "output_type": "display_data"
    },
    {
     "data": {
      "application/vnd.jupyter.widget-view+json": {
       "model_id": "5fc65c17e9704cf4bccd3a1e5551c76a",
       "version_major": 2,
       "version_minor": 0
      },
      "text/plain": [
       "Validation: |          | 0/? [00:00<?, ?it/s]"
      ]
     },
     "metadata": {},
     "output_type": "display_data"
    },
    {
     "data": {
      "application/vnd.jupyter.widget-view+json": {
       "model_id": "928d5f40fe574ea280114070bf7248fe",
       "version_major": 2,
       "version_minor": 0
      },
      "text/plain": [
       "Validation: |          | 0/? [00:00<?, ?it/s]"
      ]
     },
     "metadata": {},
     "output_type": "display_data"
    },
    {
     "data": {
      "application/vnd.jupyter.widget-view+json": {
       "model_id": "9cf90c4f18c2486786ee6e1317512dbe",
       "version_major": 2,
       "version_minor": 0
      },
      "text/plain": [
       "Validation: |          | 0/? [00:00<?, ?it/s]"
      ]
     },
     "metadata": {},
     "output_type": "display_data"
    },
    {
     "data": {
      "application/vnd.jupyter.widget-view+json": {
       "model_id": "c9057b6afc754a1ea895a3224b7044f8",
       "version_major": 2,
       "version_minor": 0
      },
      "text/plain": [
       "Validation: |          | 0/? [00:00<?, ?it/s]"
      ]
     },
     "metadata": {},
     "output_type": "display_data"
    },
    {
     "data": {
      "application/vnd.jupyter.widget-view+json": {
       "model_id": "982c2e3fe7f54903929c6e5e20e7072b",
       "version_major": 2,
       "version_minor": 0
      },
      "text/plain": [
       "Validation: |          | 0/? [00:00<?, ?it/s]"
      ]
     },
     "metadata": {},
     "output_type": "display_data"
    },
    {
     "data": {
      "application/vnd.jupyter.widget-view+json": {
       "model_id": "9bbfe69f2bae468d83dce38de627a859",
       "version_major": 2,
       "version_minor": 0
      },
      "text/plain": [
       "Validation: |          | 0/? [00:00<?, ?it/s]"
      ]
     },
     "metadata": {},
     "output_type": "display_data"
    },
    {
     "data": {
      "application/vnd.jupyter.widget-view+json": {
       "model_id": "f01d5284f527403ebb949a052210cf3b",
       "version_major": 2,
       "version_minor": 0
      },
      "text/plain": [
       "Validation: |          | 0/? [00:00<?, ?it/s]"
      ]
     },
     "metadata": {},
     "output_type": "display_data"
    },
    {
     "data": {
      "application/vnd.jupyter.widget-view+json": {
       "model_id": "12e03336012a4dae8607e1ea13bdb5cc",
       "version_major": 2,
       "version_minor": 0
      },
      "text/plain": [
       "Validation: |          | 0/? [00:00<?, ?it/s]"
      ]
     },
     "metadata": {},
     "output_type": "display_data"
    },
    {
     "data": {
      "application/vnd.jupyter.widget-view+json": {
       "model_id": "72c4bd5914f9464e8a914831ca21318d",
       "version_major": 2,
       "version_minor": 0
      },
      "text/plain": [
       "Validation: |          | 0/? [00:00<?, ?it/s]"
      ]
     },
     "metadata": {},
     "output_type": "display_data"
    },
    {
     "data": {
      "application/vnd.jupyter.widget-view+json": {
       "model_id": "768a5c51d52e4b2ab3d1b53486b97939",
       "version_major": 2,
       "version_minor": 0
      },
      "text/plain": [
       "Validation: |          | 0/? [00:00<?, ?it/s]"
      ]
     },
     "metadata": {},
     "output_type": "display_data"
    },
    {
     "name": "stderr",
     "output_type": "stream",
     "text": [
      "Time limit reached. Elapsed time is 0:10:00. Signaling Trainer to stop.\n"
     ]
    },
    {
     "data": {
      "application/vnd.jupyter.widget-view+json": {
       "model_id": "b61c4961a2fe4f609ae3219f1c75193a",
       "version_major": 2,
       "version_minor": 0
      },
      "text/plain": [
       "Validation: |          | 0/? [00:00<?, ?it/s]"
      ]
     },
     "metadata": {},
     "output_type": "display_data"
    },
    {
     "name": "stderr",
     "output_type": "stream",
     "text": [
      "LOCAL_RANK: 0 - CUDA_VISIBLE_DEVICES: [0]\n"
     ]
    },
    {
     "data": {
      "application/vnd.jupyter.widget-view+json": {
       "model_id": "911bace97cd245ea8b3fe3627b466316",
       "version_major": 2,
       "version_minor": 0
      },
      "text/plain": [
       "Testing: |          | 0/? [00:00<?, ?it/s]"
      ]
     },
     "metadata": {},
     "output_type": "display_data"
    },
    {
     "name": "stdout",
     "output_type": "stream",
     "text": [
      "────────────────────────────────────────────────────────────────────────────────────────────────────────────────────────\n",
      "       Test metric             DataLoader 0\n",
      "────────────────────────────────────────────────────────────────────────────────────────────────────────────────────────\n",
      "   test_cross_entropy       0.42345064878463745\n",
      "    test_expectedNDCG       0.4156492054462433\n",
      "    test_f1_interest        0.18776972591876984\n",
      "      test_f1_stand         0.38860616087913513\n",
      "        test_nDGC           0.8896769881248474\n",
      "        test_rmse           0.28936758637428284\n",
      "────────────────────────────────────────────────────────────────────────────────────────────────────────────────────────\n"
     ]
    },
    {
     "data": {
      "text/plain": [
       "[{'test_cross_entropy': 0.42345064878463745,\n",
       "  'test_f1_stand': 0.38860616087913513,\n",
       "  'test_f1_interest': 0.18776972591876984,\n",
       "  'test_rmse': 0.28936758637428284,\n",
       "  'test_nDGC': 0.8896769881248474,\n",
       "  'test_expectedNDCG': 0.4156492054462433}]"
      ]
     },
     "execution_count": 6,
     "metadata": {},
     "output_type": "execute_result"
    }
   ],
   "source": [
    "reload(MD)\n",
    "distil_dcg_7 = MD.DistilBertFinetuneOnDCG(n_emotions=7)\n",
    "trainer = make_trainer()\n",
    "if True:    \n",
    "  trainer.fit(\n",
    "    distil_dcg_7,\n",
    "    datamodule=data_module_7,\n",
    "  )\n",
    "else:\n",
    "  distil_dcg_7 = MD.DistilBertFinetuneOnDCG.load_from_checkpoint(\n",
    "    here(\"models/model_checkpoints/distil_bert_finetuned_dcg_7.ckpt\"),\n",
    "    n_emotions=7,\n",
    "  )\n",
    "  \n",
    "out = trainer.test(\n",
    "  distil_dcg_7,\n",
    "  datamodule=data_module_7,\n",
    ")\n",
    "del distil_dcg_7\n",
    "out"
   ]
  },
  {
   "cell_type": "markdown",
   "id": "641c7a7b",
   "metadata": {},
   "source": [
    "## 28 classes"
   ]
  },
  {
   "cell_type": "code",
   "execution_count": 33,
   "id": "f3641944",
   "metadata": {},
   "outputs": [
    {
     "name": "stderr",
     "output_type": "stream",
     "text": [
      "Some weights of DistilBertForSequenceClassification were not initialized from the model checkpoint at distilbert-base-uncased and are newly initialized: ['classifier.bias', 'classifier.weight', 'pre_classifier.bias', 'pre_classifier.weight']\n",
      "You should probably TRAIN this model on a down-stream task to be able to use it for predictions and inference.\n",
      "Using default `ModelCheckpoint`. Consider installing `litmodels` package to enable `LitModelCheckpoint` for automatic upload to the Lightning model registry.\n",
      "GPU available: True (cuda), used: True\n",
      "TPU available: False, using: 0 TPU cores\n",
      "HPU available: False, using: 0 HPUs\n",
      "LOCAL_RANK: 0 - CUDA_VISIBLE_DEVICES: [0]\n",
      "\n",
      "  | Name          | Type                                | Params | Mode \n",
      "------------------------------------------------------------------------------\n",
      "0 | model         | DistilBertForSequenceClassification | 67.0 M | train\n",
      "1 | sigmoid       | Sigmoid                             | 0      | train\n",
      "2 | sig_loss      | BCEWithLogitsLoss                   | 0      | train\n",
      "3 | nDGC          | NDCG                                | 0      | train\n",
      "4 | expected_nDGC | SoftRankNDCGLoss                    | 0      | train\n",
      "5 | f1_stand      | MultilabelF1Score                   | 0      | train\n",
      "6 | f1_interest   | MultilabelF1Score                   | 0      | train\n",
      "7 | rmse          | MeanSquaredError                    | 0      | train\n",
      "------------------------------------------------------------------------------\n",
      "612 K     Trainable params\n",
      "66.4 M    Non-trainable params\n",
      "67.0 M    Total params\n",
      "267.900   Total estimated model params size (MB)\n",
      "103       Modules in train mode\n",
      "0         Modules in eval mode\n"
     ]
    },
    {
     "data": {
      "application/vnd.jupyter.widget-view+json": {
       "model_id": "1156fb3b869b4086a97799edcfc78d0a",
       "version_major": 2,
       "version_minor": 0
      },
      "text/plain": [
       "Sanity Checking: |          | 0/? [00:00<?, ?it/s]"
      ]
     },
     "metadata": {},
     "output_type": "display_data"
    },
    {
     "data": {
      "application/vnd.jupyter.widget-view+json": {
       "model_id": "539d80c67d2a4272883c5d946445c951",
       "version_major": 2,
       "version_minor": 0
      },
      "text/plain": [
       "Training: |          | 0/? [00:00<?, ?it/s]"
      ]
     },
     "metadata": {},
     "output_type": "display_data"
    },
    {
     "data": {
      "application/vnd.jupyter.widget-view+json": {
       "model_id": "7f5a88f935fd4061a4356e8d41648bc0",
       "version_major": 2,
       "version_minor": 0
      },
      "text/plain": [
       "Validation: |          | 0/? [00:00<?, ?it/s]"
      ]
     },
     "metadata": {},
     "output_type": "display_data"
    },
    {
     "data": {
      "application/vnd.jupyter.widget-view+json": {
       "model_id": "dc00a68e4d564169942f1970f8100ce0",
       "version_major": 2,
       "version_minor": 0
      },
      "text/plain": [
       "Validation: |          | 0/? [00:00<?, ?it/s]"
      ]
     },
     "metadata": {},
     "output_type": "display_data"
    },
    {
     "data": {
      "application/vnd.jupyter.widget-view+json": {
       "model_id": "2be415ec20144e65be8c0a21dfecf0c8",
       "version_major": 2,
       "version_minor": 0
      },
      "text/plain": [
       "Validation: |          | 0/? [00:00<?, ?it/s]"
      ]
     },
     "metadata": {},
     "output_type": "display_data"
    },
    {
     "data": {
      "application/vnd.jupyter.widget-view+json": {
       "model_id": "c880a1cd93e24c7c924b7aa43c1e0114",
       "version_major": 2,
       "version_minor": 0
      },
      "text/plain": [
       "Validation: |          | 0/? [00:00<?, ?it/s]"
      ]
     },
     "metadata": {},
     "output_type": "display_data"
    },
    {
     "data": {
      "application/vnd.jupyter.widget-view+json": {
       "model_id": "4d4153d74f0a4f4b9b76b8b595cbc277",
       "version_major": 2,
       "version_minor": 0
      },
      "text/plain": [
       "Validation: |          | 0/? [00:00<?, ?it/s]"
      ]
     },
     "metadata": {},
     "output_type": "display_data"
    },
    {
     "data": {
      "application/vnd.jupyter.widget-view+json": {
       "model_id": "d37456abf82f4883978717d1b9e237c2",
       "version_major": 2,
       "version_minor": 0
      },
      "text/plain": [
       "Validation: |          | 0/? [00:00<?, ?it/s]"
      ]
     },
     "metadata": {},
     "output_type": "display_data"
    },
    {
     "data": {
      "application/vnd.jupyter.widget-view+json": {
       "model_id": "134dd5aa829743d799947dafa6494ebc",
       "version_major": 2,
       "version_minor": 0
      },
      "text/plain": [
       "Validation: |          | 0/? [00:00<?, ?it/s]"
      ]
     },
     "metadata": {},
     "output_type": "display_data"
    },
    {
     "data": {
      "application/vnd.jupyter.widget-view+json": {
       "model_id": "d830514e9ceb4ea5b157b55cfbaf9ece",
       "version_major": 2,
       "version_minor": 0
      },
      "text/plain": [
       "Validation: |          | 0/? [00:00<?, ?it/s]"
      ]
     },
     "metadata": {},
     "output_type": "display_data"
    },
    {
     "data": {
      "application/vnd.jupyter.widget-view+json": {
       "model_id": "b43e7e92c759442c976e1786a7d9d416",
       "version_major": 2,
       "version_minor": 0
      },
      "text/plain": [
       "Validation: |          | 0/? [00:00<?, ?it/s]"
      ]
     },
     "metadata": {},
     "output_type": "display_data"
    },
    {
     "data": {
      "application/vnd.jupyter.widget-view+json": {
       "model_id": "a8b660f98b6d49079a551beb28f09b69",
       "version_major": 2,
       "version_minor": 0
      },
      "text/plain": [
       "Validation: |          | 0/? [00:00<?, ?it/s]"
      ]
     },
     "metadata": {},
     "output_type": "display_data"
    },
    {
     "data": {
      "application/vnd.jupyter.widget-view+json": {
       "model_id": "2409a354f078412aab90450ddf283088",
       "version_major": 2,
       "version_minor": 0
      },
      "text/plain": [
       "Validation: |          | 0/? [00:00<?, ?it/s]"
      ]
     },
     "metadata": {},
     "output_type": "display_data"
    },
    {
     "name": "stderr",
     "output_type": "stream",
     "text": [
      "Time limit reached. Elapsed time is 0:10:00. Signaling Trainer to stop.\n"
     ]
    },
    {
     "data": {
      "application/vnd.jupyter.widget-view+json": {
       "model_id": "ec650955132a4678982d03e7e2dfe0b3",
       "version_major": 2,
       "version_minor": 0
      },
      "text/plain": [
       "Validation: |          | 0/? [00:00<?, ?it/s]"
      ]
     },
     "metadata": {},
     "output_type": "display_data"
    },
    {
     "name": "stderr",
     "output_type": "stream",
     "text": [
      "LOCAL_RANK: 0 - CUDA_VISIBLE_DEVICES: [0]\n"
     ]
    },
    {
     "data": {
      "application/vnd.jupyter.widget-view+json": {
       "model_id": "280710d2c0e94a89bc4717e280bb01ee",
       "version_major": 2,
       "version_minor": 0
      },
      "text/plain": [
       "Testing: |          | 0/? [00:00<?, ?it/s]"
      ]
     },
     "metadata": {},
     "output_type": "display_data"
    },
    {
     "name": "stdout",
     "output_type": "stream",
     "text": [
      "────────────────────────────────────────────────────────────────────────────────────────────────────────────────────────\n",
      "       Test metric             DataLoader 0\n",
      "────────────────────────────────────────────────────────────────────────────────────────────────────────────────────────\n",
      "   test_cross_entropy        4.521604061126709\n",
      "    test_expectedNDCG       -0.7796319127082825\n",
      "    test_f1_interest       0.002629304537549615\n",
      "      test_f1_stand         0.11393599212169647\n",
      "        test_nDGC           0.27577853202819824\n",
      "        test_rmse           0.8888556957244873\n",
      "────────────────────────────────────────────────────────────────────────────────────────────────────────────────────────\n"
     ]
    },
    {
     "data": {
      "text/plain": [
       "[{'test_cross_entropy': 4.521604061126709,\n",
       "  'test_f1_stand': 0.11393599212169647,\n",
       "  'test_f1_interest': 0.002629304537549615,\n",
       "  'test_rmse': 0.8888556957244873,\n",
       "  'test_nDGC': 0.27577853202819824,\n",
       "  'test_expectedNDCG': -0.7796319127082825}]"
      ]
     },
     "execution_count": 33,
     "metadata": {},
     "output_type": "execute_result"
    }
   ],
   "source": [
    "reload(MD)\n",
    "distil_dcg_28 = MD.DistilBertFinetuneOnDCG(n_emotions=28)\n",
    "trainer = make_trainer()\n",
    "if True:\n",
    "  trainer.fit(\n",
    "    distil_dcg_28,\n",
    "    datamodule=data_module_28,\n",
    "  )\n",
    "else:\n",
    "  distil_dcg_28 = MD.DistilBertFinetuneOnDCG.load_from_checkpoint(\n",
    "    here(\"models/model_checkpoints/distil_bert_finetuned_dcg_28.ckpt\"),\n",
    "    n_emotions=28,\n",
    "  )\n",
    "out = trainer.test(\n",
    "  distil_dcg_28,\n",
    "  datamodule=data_module_28,\n",
    ")\n",
    "del distil_dcg_28\n",
    "out"
   ]
  },
  {
   "cell_type": "code",
   "execution_count": 34,
   "id": "b6a697b5",
   "metadata": {},
   "outputs": [
    {
     "name": "stderr",
     "output_type": "stream",
     "text": [
      "Some weights of DistilBertForSequenceClassification were not initialized from the model checkpoint at distilbert-base-uncased and are newly initialized: ['classifier.bias', 'classifier.weight', 'pre_classifier.bias', 'pre_classifier.weight']\n",
      "You should probably TRAIN this model on a down-stream task to be able to use it for predictions and inference.\n",
      "LOCAL_RANK: 0 - CUDA_VISIBLE_DEVICES: [0]\n"
     ]
    },
    {
     "data": {
      "application/vnd.jupyter.widget-view+json": {
       "model_id": "f901b3b4d5744e3bbf155cd6bf0f3af3",
       "version_major": 2,
       "version_minor": 0
      },
      "text/plain": [
       "Predicting: |          | 0/? [00:00<?, ?it/s]"
      ]
     },
     "metadata": {},
     "output_type": "display_data"
    },
    {
     "data": {
      "text/plain": [
       "[tensor([[0.6589, 0.3216, 0.7078, 0.9860, 0.4544, 0.9787, 0.5586, 0.4466, 0.8023,\n",
       "          0.8213, 0.4673, 0.9567, 0.9553, 0.9852, 0.9550, 0.9620, 0.9652, 0.9376,\n",
       "          0.7288, 0.9664, 0.8362, 0.9381, 0.4679, 0.9998, 0.9996, 0.9432, 0.9994,\n",
       "          0.8037]])]"
      ]
     },
     "execution_count": 34,
     "metadata": {},
     "output_type": "execute_result"
    }
   ],
   "source": [
    "# test sample\n",
    "trainer.predict(\n",
    "  MD.DistilBertFinetuneOnDCG.load_from_checkpoint(r\"C:\\Users\\Plancha\\emotion-recognition\\cache/lightning/lightning_logs/version_13/checkpoints/epoch=2-step=2421.ckpt\", n_emotions=28),\n",
    "  [\"I Dislike this\"],\n",
    ")"
   ]
  }
 ],
 "metadata": {
  "kernelspec": {
   "display_name": "gpu",
   "language": "python",
   "name": "python3"
  },
  "language_info": {
   "codemirror_mode": {
    "name": "ipython",
    "version": 3
   },
   "file_extension": ".py",
   "mimetype": "text/x-python",
   "name": "python",
   "nbconvert_exporter": "python",
   "pygments_lexer": "ipython3",
   "version": "3.13.3"
  }
 },
 "nbformat": 4,
 "nbformat_minor": 5
}
