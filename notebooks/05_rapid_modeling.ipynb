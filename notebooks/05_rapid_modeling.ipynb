{
 "cells": [
  {
   "cell_type": "code",
   "execution_count": 14,
   "id": "ea84244b",
   "metadata": {},
   "outputs": [
    {
     "name": "stderr",
     "output_type": "stream",
     "text": [
      "Using default `ModelCheckpoint`. Consider installing `litmodels` package to enable `LitModelCheckpoint` for automatic upload to the Lightning model registry.\n",
      "GPU available: True (cuda), used: True\n",
      "TPU available: False, using: 0 TPU cores\n",
      "HPU available: False, using: 0 HPUs\n",
      "Running in `fast_dev_run` mode: will run the requested loop using 1 batch(es). Logging and checkpointing is suppressed.\n"
     ]
    },
    {
     "data": {
      "text/plain": [
       "<lightning.pytorch.trainer.trainer.Trainer at 0x263e55a4cd0>"
      ]
     },
     "execution_count": 14,
     "metadata": {},
     "output_type": "execute_result"
    }
   ],
   "source": [
    "import os\n",
    "from pyprojroot import here\n",
    "os.environ[\"HF_HOME\"] = str(here(\"cache/huggingface\"))\n",
    "import lightning as L\n",
    "from importlib import reload\n",
    "import sys\n",
    "sys.path.append(str(here()))\n",
    "from models import model_definitions as MD\n",
    "import torch\n",
    "import pandas as pd\n",
    "reload(MD)\n",
    "torch.set_float32_matmul_precision('medium')\n",
    "data_module_3 = MD.GoEmotionsDataModule(pd.read_parquet(here(\"data/goemotions_3.parquet\")))\n",
    "data_module_7 = MD.GoEmotionsDataModule(pd.read_parquet(here(\"data/goemotions_7.parquet\")))\n",
    "data_module_28 = MD.GoEmotionsDataModule(pd.read_parquet(here(\"data/goemotions_28.parquet\")))\n",
    "metrics = MD.MetricsCallback()\n",
    "\n",
    "def make_trainer():\n",
    "  return L.Trainer(\n",
    "    max_epochs=15,\n",
    "    max_time={\"minutes\": 10},\n",
    "    callbacks=[\n",
    "      # metrics,\n",
    "    ],\n",
    "    deterministic=True,\n",
    "    default_root_dir=here(\"cache/lightning\"),\n",
    "    enable_checkpointing=True,\n",
    "    fast_dev_run=True,\n",
    "    accelerator=\"auto\", \n",
    "  )\n",
    "\n",
    "trainer = make_trainer()\n",
    "trainer"
   ]
  },
  {
   "cell_type": "code",
   "execution_count": null,
   "id": "77b532df",
   "metadata": {},
   "outputs": [
    {
     "name": "stderr",
     "output_type": "stream",
     "text": [
      "Some weights of DistilBertForSequenceClassification were not initialized from the model checkpoint at distilbert-base-uncased and are newly initialized: ['classifier.bias', 'classifier.weight', 'pre_classifier.bias', 'pre_classifier.weight']\n",
      "You should probably TRAIN this model on a down-stream task to be able to use it for predictions and inference.\n",
      "Some weights of DistilBertForSequenceClassification were not initialized from the model checkpoint at distilbert-base-uncased and are newly initialized: ['classifier.bias', 'classifier.weight', 'pre_classifier.bias', 'pre_classifier.weight']\n",
      "You should probably TRAIN this model on a down-stream task to be able to use it for predictions and inference.\n",
      "LOCAL_RANK: 0 - CUDA_VISIBLE_DEVICES: [0]\n",
      "c:\\Users\\Plancha\\emotion-recognition\\.pixi\\envs\\gpu\\Lib\\site-packages\\lightning\\pytorch\\trainer\\connectors\\data_connector.py:425: The 'test_dataloader' does not have many workers which may be a bottleneck. Consider increasing the value of the `num_workers` argument` to `num_workers=15` in the `DataLoader` to improve performance.\n"
     ]
    },
    {
     "data": {
      "application/vnd.jupyter.widget-view+json": {
       "model_id": "7a03dd6f7c8e4c96af5728aa5e188b6a",
       "version_major": 2,
       "version_minor": 0
      },
      "text/plain": [
       "Testing: |          | 0/? [00:00<?, ?it/s]"
      ]
     },
     "metadata": {},
     "output_type": "display_data"
    },
    {
     "name": "stdout",
     "output_type": "stream",
     "text": [
      "────────────────────────────────────────────────────────────────────────────────────────────────────────────────────────\n",
      "       Test metric             DataLoader 0\n",
      "────────────────────────────────────────────────────────────────────────────────────────────────────────────────────────\n",
      "    test_f1_interest        0.5431039929389954\n",
      "      test_f1_stand         0.5898196697235107\n",
      "        test_loss           0.4733329713344574\n",
      "        test_rmse           0.25767073035240173\n",
      "────────────────────────────────────────────────────────────────────────────────────────────────────────────────────────\n"
     ]
    },
    {
     "data": {
      "text/plain": [
       "[{'test_loss': 0.4733329713344574,\n",
       "  'test_f1_stand': 0.5898196697235107,\n",
       "  'test_f1_interest': 0.5431039929389954,\n",
       "  'test_rmse': 0.25767073035240173}]"
      ]
     },
     "execution_count": 3,
     "metadata": {},
     "output_type": "execute_result"
    }
   ],
   "source": [
    "reload(MD)\n",
    "distil_3 = MD.DistilBertFinetune(n_emotions=3)\n",
    "if False:    \n",
    "  trainer.fit(\n",
    "    distil_3,\n",
    "    datamodule=data_module_3,\n",
    "  )\n",
    "else:\n",
    "  distil_3 = MD.DistilBertFinetune.load_from_checkpoint(\n",
    "    here(\"models/model_checkpoints/distil_bert_finetuned_3_14epchs.ckpt\"),\n",
    "    n_emotions=3,\n",
    "  )\n",
    "out = trainer.test(\n",
    "  distil_3,\n",
    "  datamodule=data_module_3,\n",
    ")\n",
    "del distil_3\n",
    "out"
   ]
  },
  {
   "cell_type": "code",
   "execution_count": null,
   "id": "0136d052",
   "metadata": {},
   "outputs": [
    {
     "name": "stderr",
     "output_type": "stream",
     "text": [
      "Some weights of DistilBertForSequenceClassification were not initialized from the model checkpoint at distilbert-base-uncased and are newly initialized: ['classifier.bias', 'classifier.weight', 'pre_classifier.bias', 'pre_classifier.weight']\n",
      "You should probably TRAIN this model on a down-stream task to be able to use it for predictions and inference.\n",
      "Some weights of DistilBertForSequenceClassification were not initialized from the model checkpoint at distilbert-base-uncased and are newly initialized: ['classifier.bias', 'classifier.weight', 'pre_classifier.bias', 'pre_classifier.weight']\n",
      "You should probably TRAIN this model on a down-stream task to be able to use it for predictions and inference.\n",
      "LOCAL_RANK: 0 - CUDA_VISIBLE_DEVICES: [0]\n"
     ]
    },
    {
     "data": {
      "application/vnd.jupyter.widget-view+json": {
       "model_id": "a7f56330199a4a51a081a6bb00ad8dee",
       "version_major": 2,
       "version_minor": 0
      },
      "text/plain": [
       "Testing: |          | 0/? [00:00<?, ?it/s]"
      ]
     },
     "metadata": {},
     "output_type": "display_data"
    },
    {
     "name": "stdout",
     "output_type": "stream",
     "text": [
      "────────────────────────────────────────────────────────────────────────────────────────────────────────────────────────\n",
      "       Test metric             DataLoader 0\n",
      "────────────────────────────────────────────────────────────────────────────────────────────────────────────────────────\n",
      "    test_f1_interest        0.2703874707221985\n",
      "      test_f1_stand         0.22714023292064667\n",
      "        test_loss           0.28195345401763916\n",
      "        test_rmse           0.18735003471374512\n",
      "────────────────────────────────────────────────────────────────────────────────────────────────────────────────────────\n"
     ]
    },
    {
     "data": {
      "text/plain": [
       "[{'test_loss': 0.28195345401763916,\n",
       "  'test_f1_stand': 0.22714023292064667,\n",
       "  'test_f1_interest': 0.2703874707221985,\n",
       "  'test_rmse': 0.18735003471374512}]"
      ]
     },
     "execution_count": 4,
     "metadata": {},
     "output_type": "execute_result"
    }
   ],
   "source": [
    "reload(MD)\n",
    "distil_7 = MD.DistilBertFinetune(n_emotions=7)\n",
    "if False:    \n",
    "  trainer.fit(\n",
    "    distil_7,\n",
    "    data_module=data_module_7,\n",
    "  )\n",
    "else:\n",
    "  distil_7 = MD.DistilBertFinetune.load_from_checkpoint(\n",
    "    here(\"models/model_checkpoints/distil_bert_finetuned_7_14epchs.ckpt\"),\n",
    "    n_emotions=7,\n",
    "  )\n",
    "out = trainer.test(\n",
    "  distil_7,\n",
    "  datamodule=data_module_7\n",
    ")\n",
    "del distil_7\n",
    "out"
   ]
  },
  {
   "cell_type": "code",
   "execution_count": 6,
   "id": "bd11ff3c",
   "metadata": {},
   "outputs": [
    {
     "name": "stderr",
     "output_type": "stream",
     "text": [
      "Some weights of DistilBertForSequenceClassification were not initialized from the model checkpoint at distilbert-base-uncased and are newly initialized: ['classifier.bias', 'classifier.weight', 'pre_classifier.bias', 'pre_classifier.weight']\n",
      "You should probably TRAIN this model on a down-stream task to be able to use it for predictions and inference.\n",
      "Some weights of DistilBertForSequenceClassification were not initialized from the model checkpoint at distilbert-base-uncased and are newly initialized: ['classifier.bias', 'classifier.weight', 'pre_classifier.bias', 'pre_classifier.weight']\n",
      "You should probably TRAIN this model on a down-stream task to be able to use it for predictions and inference.\n",
      "LOCAL_RANK: 0 - CUDA_VISIBLE_DEVICES: [0]\n"
     ]
    },
    {
     "data": {
      "application/vnd.jupyter.widget-view+json": {
       "model_id": "3bd8c6ab4034435fbb008e60deaf89cb",
       "version_major": 2,
       "version_minor": 0
      },
      "text/plain": [
       "Testing: |          | 0/? [00:00<?, ?it/s]"
      ]
     },
     "metadata": {},
     "output_type": "display_data"
    },
    {
     "name": "stdout",
     "output_type": "stream",
     "text": [
      "────────────────────────────────────────────────────────────────────────────────────────────────────────────────────────\n",
      "       Test metric             DataLoader 0\n",
      "────────────────────────────────────────────────────────────────────────────────────────────────────────────────────────\n",
      "    test_f1_interest        0.08144357800483704\n",
      "      test_f1_stand         0.0910865068435669\n",
      "        test_loss           0.11788760870695114\n",
      "        test_rmse           0.11157042533159256\n",
      "────────────────────────────────────────────────────────────────────────────────────────────────────────────────────────\n"
     ]
    },
    {
     "data": {
      "text/plain": [
       "[{'test_loss': 0.11788760870695114,\n",
       "  'test_f1_stand': 0.0910865068435669,\n",
       "  'test_f1_interest': 0.08144357800483704,\n",
       "  'test_rmse': 0.11157042533159256}]"
      ]
     },
     "execution_count": 6,
     "metadata": {},
     "output_type": "execute_result"
    }
   ],
   "source": [
    "reload(MD)\n",
    "distil_28 = MD.DistilBertFinetune(n_emotions=28)\n",
    "if False:    \n",
    "  trainer.fit(\n",
    "    distil_28,\n",
    "    datamodule=data_module_28,\n",
    "  )\n",
    "else:\n",
    "  distil_28 = MD.DistilBertFinetune.load_from_checkpoint(\n",
    "    here(\"models/model_checkpoints/distil_bert_finetuned_28_11epchs.ckpt\"),\n",
    "    n_emotions=28,\n",
    "  )\n",
    "out = trainer.test(\n",
    "  distil_28,\n",
    "  datamodule=data_module_28,\n",
    ")\n",
    "del distil_28\n",
    "out"
   ]
  },
  {
   "cell_type": "code",
   "execution_count": null,
   "id": "c8999fac",
   "metadata": {},
   "outputs": [
    {
     "name": "stderr",
     "output_type": "stream",
     "text": [
      "Some weights of DistilBertForSequenceClassification were not initialized from the model checkpoint at distilbert-base-uncased and are newly initialized: ['classifier.bias', 'classifier.weight', 'pre_classifier.bias', 'pre_classifier.weight']\n",
      "You should probably TRAIN this model on a down-stream task to be able to use it for predictions and inference.\n",
      "LOCAL_RANK: 0 - CUDA_VISIBLE_DEVICES: [0]\n",
      "\n",
      "  | Name          | Type                                | Params | Mode \n",
      "------------------------------------------------------------------------------\n",
      "0 | model         | DistilBertForSequenceClassification | 67.0 M | train\n",
      "1 | sigmoid       | Sigmoid                             | 0      | train\n",
      "2 | sig_loss      | BCEWithLogitsLoss                   | 0      | train\n",
      "3 | nDGC          | NDCG                                | 0      | train\n",
      "4 | expected_nDGC | SoftRankExpectedNDCG                | 0      | train\n",
      "5 | f1_stand      | MultilabelF1Score                   | 0      | train\n",
      "6 | f1_interest   | MultilabelF1Score                   | 0      | train\n",
      "7 | rmse          | MeanSquaredError                    | 0      | train\n",
      "------------------------------------------------------------------------------\n",
      "592 K     Trainable params\n",
      "66.4 M    Non-trainable params\n",
      "67.0 M    Total params\n",
      "267.823   Total estimated model params size (MB)\n",
      "103       Modules in train mode\n",
      "0         Modules in eval mode\n"
     ]
    },
    {
     "data": {
      "application/vnd.jupyter.widget-view+json": {
       "model_id": "4c8a0f7a6c1d495b82d1a993975f2a3c",
       "version_major": 2,
       "version_minor": 0
      },
      "text/plain": [
       "Training: |          | 0/? [00:00<?, ?it/s]"
      ]
     },
     "metadata": {},
     "output_type": "display_data"
    },
    {
     "data": {
      "application/vnd.jupyter.widget-view+json": {
       "model_id": "b6aefd684ffe41e19bbd9e309b3d1d1c",
       "version_major": 2,
       "version_minor": 0
      },
      "text/plain": [
       "Validation: |          | 0/? [00:00<?, ?it/s]"
      ]
     },
     "metadata": {},
     "output_type": "display_data"
    },
    {
     "name": "stderr",
     "output_type": "stream",
     "text": [
      "`Trainer.fit` stopped: `max_steps=1` reached.\n",
      "LOCAL_RANK: 0 - CUDA_VISIBLE_DEVICES: [0]\n",
      "c:\\Users\\Plancha\\emotion-recognition\\.pixi\\envs\\gpu\\Lib\\site-packages\\lightning\\pytorch\\trainer\\connectors\\data_connector.py:425: The 'test_dataloader' does not have many workers which may be a bottleneck. Consider increasing the value of the `num_workers` argument` to `num_workers=15` in the `DataLoader` to improve performance.\n"
     ]
    },
    {
     "data": {
      "application/vnd.jupyter.widget-view+json": {
       "model_id": "e0930fdd7d514f478ab242a0adf33ab5",
       "version_major": 2,
       "version_minor": 0
      },
      "text/plain": [
       "Testing: |          | 0/? [00:00<?, ?it/s]"
      ]
     },
     "metadata": {},
     "output_type": "display_data"
    },
    {
     "name": "stdout",
     "output_type": "stream",
     "text": [
      "────────────────────────────────────────────────────────────────────────────────────────────────────────────────────────\n",
      "       Test metric             DataLoader 0\n",
      "────────────────────────────────────────────────────────────────────────────────────────────────────────────────────────\n",
      "   test_cross_entropy       0.6764426231384277\n",
      "    test_expectedNDCG       0.7026176452636719\n",
      "    test_f1_interest        0.13991768658161163\n",
      "      test_f1_stand         0.2442244291305542\n",
      "        test_nDGC           0.7973607182502747\n",
      "        test_rmse           0.40463322401046753\n",
      "────────────────────────────────────────────────────────────────────────────────────────────────────────────────────────\n"
     ]
    }
   ],
   "source": [
    "reload(MD) # DistilBertFinetuneOnDCG\n",
    "distil_dcg_3 = MD.DistilBertFinetuneOnDCG(n_emotions=3)\n",
    "trainer = make_trainer()\n",
    "if True:    \n",
    "  trainer.fit(\n",
    "    distil_dcg_3,\n",
    "    datamodule=data_module_3,\n",
    "  )\n",
    "else:\n",
    "  distil_dcg_3 = MD.DistilBertFinetuneOnDCG.load_from_checkpoint(\n",
    "    here(\"models/model_checkpoints/distil_bert_finetuned_dcg_3.ckpt\"),\n",
    "    n_emotions=3,\n",
    "  ) \n",
    "out = trainer.test(\n",
    "  distil_dcg_3,\n",
    "  datamodule=data_module_3,\n",
    ")\n",
    "del distil_dcg_3\n",
    "out"
   ]
  },
  {
   "cell_type": "code",
   "execution_count": null,
   "id": "4a86f17a",
   "metadata": {},
   "outputs": [],
   "source": [
    "reload(MD)\n",
    "distil_dcg_7 = MD.DistilBertFinetuneOnDCG(n_emotions=7)\n",
    "trainer = make_trainer()\n",
    "if True:    \n",
    "  trainer.fit(\n",
    "    distil_dcg_7,\n",
    "    datamodule=data_module_7,\n",
    "  )\n",
    "else:\n",
    "  distil_dcg_7 = MD.DistilBertFinetuneOnDCG.load_from_checkpoint(\n",
    "    here(\"models/model_checkpoints/distil_bert_finetuned_dcg_7.ckpt\"),\n",
    "    n_emotions=7,\n",
    "  )\n",
    "  \n",
    "out = trainer.test(\n",
    "  distil_dcg_7,\n",
    "  datamodule=data_module_7,\n",
    ")\n",
    "del distil_dcg_7\n",
    "out"
   ]
  },
  {
   "cell_type": "code",
   "execution_count": null,
   "id": "f3641944",
   "metadata": {},
   "outputs": [],
   "source": [
    "reload(MD)\n",
    "distil_dcg_28 = MD.DistilBertFinetuneOnDCG(n_emotions=28)\n",
    "trainer = make_trainer()\n",
    "if True:    \n",
    "  trainer.fit(\n",
    "    distil_dcg_28,\n",
    "    datamodule=data_module_28,\n",
    "  )\n",
    "else:\n",
    "  distil_dcg_28 = MD.DistilBertFinetuneOnDCG.load_from_checkpoint(\n",
    "    here(\"models/model_checkpoints/distil_bert_finetuned_dcg_28.ckpt\"),\n",
    "    n_emotions=28,\n",
    "  )\n",
    "out = trainer.test(\n",
    "  distil_dcg_28,\n",
    "  datamodule=data_module_28,\n",
    ")\n",
    "del distil_dcg_28\n",
    "out"
   ]
  }
 ],
 "metadata": {
  "kernelspec": {
   "display_name": "gpu",
   "language": "python",
   "name": "python3"
  },
  "language_info": {
   "codemirror_mode": {
    "name": "ipython",
    "version": 3
   },
   "file_extension": ".py",
   "mimetype": "text/x-python",
   "name": "python",
   "nbconvert_exporter": "python",
   "pygments_lexer": "ipython3",
   "version": "3.13.3"
  }
 },
 "nbformat": 4,
 "nbformat_minor": 5
}
