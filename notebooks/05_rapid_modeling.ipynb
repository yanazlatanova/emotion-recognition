{
 "cells": [
  {
   "cell_type": "code",
   "execution_count": 17,
   "id": "ea84244b",
   "metadata": {},
   "outputs": [
    {
     "name": "stderr",
     "output_type": "stream",
     "text": [
      "Using default `ModelCheckpoint`. Consider installing `litmodels` package to enable `LitModelCheckpoint` for automatic upload to the Lightning model registry.\n",
      "GPU available: True (cuda), used: True\n",
      "TPU available: False, using: 0 TPU cores\n",
      "HPU available: False, using: 0 HPUs\n"
     ]
    },
    {
     "data": {
      "text/plain": [
       "<lightning.pytorch.trainer.trainer.Trainer at 0x1bbb08dca50>"
      ]
     },
     "execution_count": 17,
     "metadata": {},
     "output_type": "execute_result"
    }
   ],
   "source": [
    "import os\n",
    "from pyprojroot import here\n",
    "os.environ[\"HF_HOME\"] = str(here(\"cache/huggingface\"))\n",
    "import lightning as L\n",
    "from importlib import reload\n",
    "import sys\n",
    "sys.path.append(str(here()))\n",
    "from models import model_definitions as MD\n",
    "import torch\n",
    "import pandas as pd\n",
    "reload(MD)\n",
    "torch.set_float32_matmul_precision('medium')\n",
    "data_module_3 = MD.GoEmotionsDataModule(pd.read_parquet(here(\"data/goemotions_3.parquet\")))\n",
    "data_module_7 = MD.GoEmotionsDataModule(pd.read_parquet(here(\"data/goemotions_7.parquet\")))\n",
    "data_module_28 = MD.GoEmotionsDataModule(pd.read_parquet(here(\"data/goemotions_28.parquet\")))\n",
    "metrics = MD.MetricsCallback()\n",
    "\n",
    "def make_trainer():\n",
    "  return L.Trainer(\n",
    "    max_epochs=15,\n",
    "    max_time={\"minutes\": 10},\n",
    "    callbacks=[\n",
    "      # metrics,\n",
    "    ],\n",
    "    deterministic=True,\n",
    "    default_root_dir=here(\"cache/lightning\"),\n",
    "    enable_checkpointing=True,\n",
    "    fast_dev_run=False,\n",
    "    accelerator=\"auto\", \n",
    "  )\n",
    "\n",
    "trainer = make_trainer()\n",
    "trainer"
   ]
  },
  {
   "cell_type": "markdown",
   "id": "c2aff64c",
   "metadata": {},
   "source": [
    "# Distil Bert finetuned (cross entropy loss)"
   ]
  },
  {
   "cell_type": "markdown",
   "id": "1da517a3",
   "metadata": {},
   "source": [
    "## 3 classes"
   ]
  },
  {
   "cell_type": "code",
   "execution_count": 18,
   "id": "77b532df",
   "metadata": {},
   "outputs": [
    {
     "name": "stderr",
     "output_type": "stream",
     "text": [
      "Some weights of DistilBertForSequenceClassification were not initialized from the model checkpoint at distilbert-base-uncased and are newly initialized: ['classifier.bias', 'classifier.weight', 'pre_classifier.bias', 'pre_classifier.weight']\n",
      "You should probably TRAIN this model on a down-stream task to be able to use it for predictions and inference.\n",
      "Seed set to 1\n",
      "LOCAL_RANK: 0 - CUDA_VISIBLE_DEVICES: [0]\n",
      "\n",
      "  | Name           | Type                                | Params | Mode \n",
      "-------------------------------------------------------------------------------\n",
      "0 | model          | DistilBertForSequenceClassification | 67.0 M | eval \n",
      "1 | sigmoid        | Sigmoid                             | 0      | train\n",
      "2 | sig_loss       | BCEWithLogitsLoss                   | 0      | train\n",
      "3 | f1_standard    | MultilabelF1Score                   | 0      | train\n",
      "4 | f1_interesting | MultilabelF1Score                   | 0      | train\n",
      "5 | rmse           | MeanSquaredError                    | 0      | train\n",
      "6 | ndcg           | NDCG                                | 0      | train\n",
      "7 | expected_ndcg  | SoftRankExpectedNDCG                | 0      | train\n",
      "8 | weighted_mse   | ExponentialWeightedMSELoss          | 0      | train\n",
      "-------------------------------------------------------------------------------\n",
      "592 K     Trainable params\n",
      "66.4 M    Non-trainable params\n",
      "67.0 M    Total params\n",
      "267.823   Total estimated model params size (MB)\n",
      "9         Modules in train mode\n",
      "95        Modules in eval mode\n"
     ]
    },
    {
     "data": {
      "application/vnd.jupyter.widget-view+json": {
       "model_id": "c0c77709535f40e880676b0f3b4b29a4",
       "version_major": 2,
       "version_minor": 0
      },
      "text/plain": [
       "Sanity Checking: |          | 0/? [00:00<?, ?it/s]"
      ]
     },
     "metadata": {},
     "output_type": "display_data"
    },
    {
     "data": {
      "application/vnd.jupyter.widget-view+json": {
       "model_id": "aa86586029d24158bacee7376de56355",
       "version_major": 2,
       "version_minor": 0
      },
      "text/plain": [
       "Training: |          | 0/? [00:00<?, ?it/s]"
      ]
     },
     "metadata": {},
     "output_type": "display_data"
    },
    {
     "data": {
      "application/vnd.jupyter.widget-view+json": {
       "model_id": "055474682443487a86e0dad53b41b017",
       "version_major": 2,
       "version_minor": 0
      },
      "text/plain": [
       "Validation: |          | 0/? [00:00<?, ?it/s]"
      ]
     },
     "metadata": {},
     "output_type": "display_data"
    },
    {
     "data": {
      "application/vnd.jupyter.widget-view+json": {
       "model_id": "65eafdf2d74348d0a2f9045259e84a61",
       "version_major": 2,
       "version_minor": 0
      },
      "text/plain": [
       "Validation: |          | 0/? [00:00<?, ?it/s]"
      ]
     },
     "metadata": {},
     "output_type": "display_data"
    },
    {
     "data": {
      "application/vnd.jupyter.widget-view+json": {
       "model_id": "66fc810dff3d49838fedd3f26521ca29",
       "version_major": 2,
       "version_minor": 0
      },
      "text/plain": [
       "Validation: |          | 0/? [00:00<?, ?it/s]"
      ]
     },
     "metadata": {},
     "output_type": "display_data"
    },
    {
     "data": {
      "application/vnd.jupyter.widget-view+json": {
       "model_id": "c2cac5f4ed3e475db60be68211cf5ecd",
       "version_major": 2,
       "version_minor": 0
      },
      "text/plain": [
       "Validation: |          | 0/? [00:00<?, ?it/s]"
      ]
     },
     "metadata": {},
     "output_type": "display_data"
    },
    {
     "data": {
      "application/vnd.jupyter.widget-view+json": {
       "model_id": "859a06dc3bc24f5bb4b3dbbcc1f7b9c7",
       "version_major": 2,
       "version_minor": 0
      },
      "text/plain": [
       "Validation: |          | 0/? [00:00<?, ?it/s]"
      ]
     },
     "metadata": {},
     "output_type": "display_data"
    },
    {
     "data": {
      "application/vnd.jupyter.widget-view+json": {
       "model_id": "5117787aa23a4c8fa58c85b6f7d50a7b",
       "version_major": 2,
       "version_minor": 0
      },
      "text/plain": [
       "Validation: |          | 0/? [00:00<?, ?it/s]"
      ]
     },
     "metadata": {},
     "output_type": "display_data"
    },
    {
     "data": {
      "application/vnd.jupyter.widget-view+json": {
       "model_id": "c580bc750252433e8c4f23a77805fd61",
       "version_major": 2,
       "version_minor": 0
      },
      "text/plain": [
       "Validation: |          | 0/? [00:00<?, ?it/s]"
      ]
     },
     "metadata": {},
     "output_type": "display_data"
    },
    {
     "data": {
      "application/vnd.jupyter.widget-view+json": {
       "model_id": "fe8d63bd449c446a9b9138a569a9e309",
       "version_major": 2,
       "version_minor": 0
      },
      "text/plain": [
       "Validation: |          | 0/? [00:00<?, ?it/s]"
      ]
     },
     "metadata": {},
     "output_type": "display_data"
    },
    {
     "data": {
      "application/vnd.jupyter.widget-view+json": {
       "model_id": "ca1ceda7ae3440388aea368ed9afa7e6",
       "version_major": 2,
       "version_minor": 0
      },
      "text/plain": [
       "Validation: |          | 0/? [00:00<?, ?it/s]"
      ]
     },
     "metadata": {},
     "output_type": "display_data"
    },
    {
     "data": {
      "application/vnd.jupyter.widget-view+json": {
       "model_id": "6b1eae97736a49dea9712cc824611e7a",
       "version_major": 2,
       "version_minor": 0
      },
      "text/plain": [
       "Validation: |          | 0/? [00:00<?, ?it/s]"
      ]
     },
     "metadata": {},
     "output_type": "display_data"
    },
    {
     "data": {
      "application/vnd.jupyter.widget-view+json": {
       "model_id": "f516429d44f54086a43d0edbcbeb21de",
       "version_major": 2,
       "version_minor": 0
      },
      "text/plain": [
       "Validation: |          | 0/? [00:00<?, ?it/s]"
      ]
     },
     "metadata": {},
     "output_type": "display_data"
    },
    {
     "data": {
      "application/vnd.jupyter.widget-view+json": {
       "model_id": "f30d8498c9de400d92fcf0c82afbf52b",
       "version_major": 2,
       "version_minor": 0
      },
      "text/plain": [
       "Validation: |          | 0/? [00:00<?, ?it/s]"
      ]
     },
     "metadata": {},
     "output_type": "display_data"
    },
    {
     "name": "stderr",
     "output_type": "stream",
     "text": [
      "Time limit reached. Elapsed time is 0:10:01. Signaling Trainer to stop.\n"
     ]
    },
    {
     "data": {
      "application/vnd.jupyter.widget-view+json": {
       "model_id": "65f4816cec794e64b02487e18c997253",
       "version_major": 2,
       "version_minor": 0
      },
      "text/plain": [
       "Validation: |          | 0/? [00:00<?, ?it/s]"
      ]
     },
     "metadata": {},
     "output_type": "display_data"
    },
    {
     "name": "stderr",
     "output_type": "stream",
     "text": [
      "Seed set to 1\n",
      "LOCAL_RANK: 0 - CUDA_VISIBLE_DEVICES: [0]\n"
     ]
    },
    {
     "data": {
      "application/vnd.jupyter.widget-view+json": {
       "model_id": "5207a113e7394d9c9873d060cf4d140a",
       "version_major": 2,
       "version_minor": 0
      },
      "text/plain": [
       "Testing: |          | 0/? [00:00<?, ?it/s]"
      ]
     },
     "metadata": {},
     "output_type": "display_data"
    },
    {
     "name": "stdout",
     "output_type": "stream",
     "text": [
      "────────────────────────────────────────────────────────────────────────────────────────────────────────────────────────\n",
      "       Test metric             DataLoader 0\n",
      "────────────────────────────────────────────────────────────────────────────────────────────────────────────────────────\n",
      "   test_cross_entropy       0.4887070953845978\n",
      "   test_expected_ndcg       0.6423622369766235\n",
      "   test_f1_interesting       0.511014461517334\n",
      "    test_f1_standard        0.5605985522270203\n",
      "        test_ndcg            0.923658013343811\n",
      "        test_rmse           0.2684585750102997\n",
      "    test_weighted_mse       0.13115161657333374\n",
      "────────────────────────────────────────────────────────────────────────────────────────────────────────────────────────\n"
     ]
    },
    {
     "data": {
      "text/plain": [
       "[{'test_cross_entropy': 0.4887070953845978,\n",
       "  'test_rmse': 0.2684585750102997,\n",
       "  'test_ndcg': 0.923658013343811,\n",
       "  'test_expected_ndcg': 0.6423622369766235,\n",
       "  'test_f1_standard': 0.5605985522270203,\n",
       "  'test_f1_interesting': 0.511014461517334,\n",
       "  'test_weighted_mse': 0.13115161657333374}]"
      ]
     },
     "execution_count": 18,
     "metadata": {},
     "output_type": "execute_result"
    }
   ],
   "source": [
    "reload(MD)\n",
    "distil_3 = MD.DistilBertFinetune(n_emotions=3)\n",
    "if True:    \n",
    "  trainer.fit(\n",
    "    distil_3,\n",
    "    datamodule=data_module_3,\n",
    "  )\n",
    "else:\n",
    "  distil_3 = MD.DistilBertFinetune.load_from_checkpoint(\n",
    "    here(\"models/model_checkpoints/distil_bert_finetuned_3_14epchs.ckpt\"),\n",
    "    n_emotions=3,\n",
    "  )\n",
    "out = trainer.test(\n",
    "  distil_3,\n",
    "  datamodule=data_module_3,\n",
    ")\n",
    "del distil_3\n",
    "out"
   ]
  },
  {
   "cell_type": "markdown",
   "id": "81704917",
   "metadata": {},
   "source": [
    "## 7 classes"
   ]
  },
  {
   "cell_type": "code",
   "execution_count": 19,
   "id": "0136d052",
   "metadata": {},
   "outputs": [
    {
     "name": "stderr",
     "output_type": "stream",
     "text": [
      "Some weights of DistilBertForSequenceClassification were not initialized from the model checkpoint at distilbert-base-uncased and are newly initialized: ['classifier.bias', 'classifier.weight', 'pre_classifier.bias', 'pre_classifier.weight']\n",
      "You should probably TRAIN this model on a down-stream task to be able to use it for predictions and inference.\n",
      "Using default `ModelCheckpoint`. Consider installing `litmodels` package to enable `LitModelCheckpoint` for automatic upload to the Lightning model registry.\n",
      "GPU available: True (cuda), used: True\n",
      "TPU available: False, using: 0 TPU cores\n",
      "HPU available: False, using: 0 HPUs\n",
      "Seed set to 1\n",
      "LOCAL_RANK: 0 - CUDA_VISIBLE_DEVICES: [0]\n",
      "\n",
      "  | Name           | Type                                | Params | Mode \n",
      "-------------------------------------------------------------------------------\n",
      "0 | model          | DistilBertForSequenceClassification | 67.0 M | eval \n",
      "1 | sigmoid        | Sigmoid                             | 0      | train\n",
      "2 | sig_loss       | BCEWithLogitsLoss                   | 0      | train\n",
      "3 | f1_standard    | MultilabelF1Score                   | 0      | train\n",
      "4 | f1_interesting | MultilabelF1Score                   | 0      | train\n",
      "5 | rmse           | MeanSquaredError                    | 0      | train\n",
      "6 | ndcg           | NDCG                                | 0      | train\n",
      "7 | expected_ndcg  | SoftRankExpectedNDCG                | 0      | train\n",
      "8 | weighted_mse   | ExponentialWeightedMSELoss          | 0      | train\n",
      "-------------------------------------------------------------------------------\n",
      "595 K     Trainable params\n",
      "66.4 M    Non-trainable params\n",
      "67.0 M    Total params\n",
      "267.835   Total estimated model params size (MB)\n",
      "9         Modules in train mode\n",
      "95        Modules in eval mode\n"
     ]
    },
    {
     "data": {
      "application/vnd.jupyter.widget-view+json": {
       "model_id": "539f4c1338964f9480d96a5982e01c7c",
       "version_major": 2,
       "version_minor": 0
      },
      "text/plain": [
       "Sanity Checking: |          | 0/? [00:00<?, ?it/s]"
      ]
     },
     "metadata": {},
     "output_type": "display_data"
    },
    {
     "data": {
      "application/vnd.jupyter.widget-view+json": {
       "model_id": "4206a01e6736480595e48004ae4f6617",
       "version_major": 2,
       "version_minor": 0
      },
      "text/plain": [
       "Training: |          | 0/? [00:00<?, ?it/s]"
      ]
     },
     "metadata": {},
     "output_type": "display_data"
    },
    {
     "data": {
      "application/vnd.jupyter.widget-view+json": {
       "model_id": "3fdae55b23e746d1a524e9cc42283ccf",
       "version_major": 2,
       "version_minor": 0
      },
      "text/plain": [
       "Validation: |          | 0/? [00:00<?, ?it/s]"
      ]
     },
     "metadata": {},
     "output_type": "display_data"
    },
    {
     "data": {
      "application/vnd.jupyter.widget-view+json": {
       "model_id": "397187114ba64f8b864a556f9de2149b",
       "version_major": 2,
       "version_minor": 0
      },
      "text/plain": [
       "Validation: |          | 0/? [00:00<?, ?it/s]"
      ]
     },
     "metadata": {},
     "output_type": "display_data"
    },
    {
     "data": {
      "application/vnd.jupyter.widget-view+json": {
       "model_id": "e25312b1f7e8466db404f42baaf0149a",
       "version_major": 2,
       "version_minor": 0
      },
      "text/plain": [
       "Validation: |          | 0/? [00:00<?, ?it/s]"
      ]
     },
     "metadata": {},
     "output_type": "display_data"
    },
    {
     "data": {
      "application/vnd.jupyter.widget-view+json": {
       "model_id": "ff87622119ea4dd183a4b774f5ac4a87",
       "version_major": 2,
       "version_minor": 0
      },
      "text/plain": [
       "Validation: |          | 0/? [00:00<?, ?it/s]"
      ]
     },
     "metadata": {},
     "output_type": "display_data"
    },
    {
     "data": {
      "application/vnd.jupyter.widget-view+json": {
       "model_id": "62b13e7dd96f44e5997bd8b520929004",
       "version_major": 2,
       "version_minor": 0
      },
      "text/plain": [
       "Validation: |          | 0/? [00:00<?, ?it/s]"
      ]
     },
     "metadata": {},
     "output_type": "display_data"
    },
    {
     "data": {
      "application/vnd.jupyter.widget-view+json": {
       "model_id": "dcd75cf06d2c48469597af0f4d8e2742",
       "version_major": 2,
       "version_minor": 0
      },
      "text/plain": [
       "Validation: |          | 0/? [00:00<?, ?it/s]"
      ]
     },
     "metadata": {},
     "output_type": "display_data"
    },
    {
     "data": {
      "application/vnd.jupyter.widget-view+json": {
       "model_id": "bf96ef424ac048c3a81e4c16b856d15f",
       "version_major": 2,
       "version_minor": 0
      },
      "text/plain": [
       "Validation: |          | 0/? [00:00<?, ?it/s]"
      ]
     },
     "metadata": {},
     "output_type": "display_data"
    },
    {
     "data": {
      "application/vnd.jupyter.widget-view+json": {
       "model_id": "02d6471a767b44299296b58e683bd9ce",
       "version_major": 2,
       "version_minor": 0
      },
      "text/plain": [
       "Validation: |          | 0/? [00:00<?, ?it/s]"
      ]
     },
     "metadata": {},
     "output_type": "display_data"
    },
    {
     "data": {
      "application/vnd.jupyter.widget-view+json": {
       "model_id": "8cb9945ca66245cc8ad8b2ccce403b0e",
       "version_major": 2,
       "version_minor": 0
      },
      "text/plain": [
       "Validation: |          | 0/? [00:00<?, ?it/s]"
      ]
     },
     "metadata": {},
     "output_type": "display_data"
    },
    {
     "data": {
      "application/vnd.jupyter.widget-view+json": {
       "model_id": "a9b52bd7008944adaeb33d298c2c07e8",
       "version_major": 2,
       "version_minor": 0
      },
      "text/plain": [
       "Validation: |          | 0/? [00:00<?, ?it/s]"
      ]
     },
     "metadata": {},
     "output_type": "display_data"
    },
    {
     "data": {
      "application/vnd.jupyter.widget-view+json": {
       "model_id": "79a9bc2d005a46a7b7b0012b0c99b82f",
       "version_major": 2,
       "version_minor": 0
      },
      "text/plain": [
       "Validation: |          | 0/? [00:00<?, ?it/s]"
      ]
     },
     "metadata": {},
     "output_type": "display_data"
    },
    {
     "data": {
      "application/vnd.jupyter.widget-view+json": {
       "model_id": "d5666bdf0e124f0680ad5579509f89fc",
       "version_major": 2,
       "version_minor": 0
      },
      "text/plain": [
       "Validation: |          | 0/? [00:00<?, ?it/s]"
      ]
     },
     "metadata": {},
     "output_type": "display_data"
    },
    {
     "name": "stderr",
     "output_type": "stream",
     "text": [
      "Time limit reached. Elapsed time is 0:10:00. Signaling Trainer to stop.\n"
     ]
    },
    {
     "data": {
      "application/vnd.jupyter.widget-view+json": {
       "model_id": "e9ee0062aed14374a6a846fc233eae8a",
       "version_major": 2,
       "version_minor": 0
      },
      "text/plain": [
       "Validation: |          | 0/? [00:00<?, ?it/s]"
      ]
     },
     "metadata": {},
     "output_type": "display_data"
    },
    {
     "name": "stderr",
     "output_type": "stream",
     "text": [
      "Seed set to 1\n",
      "LOCAL_RANK: 0 - CUDA_VISIBLE_DEVICES: [0]\n"
     ]
    },
    {
     "data": {
      "application/vnd.jupyter.widget-view+json": {
       "model_id": "76bcd7dcd1b341ed97eeaded8fa9b6d9",
       "version_major": 2,
       "version_minor": 0
      },
      "text/plain": [
       "Testing: |          | 0/? [00:00<?, ?it/s]"
      ]
     },
     "metadata": {},
     "output_type": "display_data"
    },
    {
     "name": "stdout",
     "output_type": "stream",
     "text": [
      "────────────────────────────────────────────────────────────────────────────────────────────────────────────────────────\n",
      "       Test metric             DataLoader 0\n",
      "────────────────────────────────────────────────────────────────────────────────────────────────────────────────────────\n",
      "   test_cross_entropy       0.2862784266471863\n",
      "   test_expected_ndcg       0.4194100499153137\n",
      "   test_f1_interesting      0.27856186032295227\n",
      "    test_f1_standard        0.2524093687534332\n",
      "        test_ndcg           0.8904078006744385\n",
      "        test_rmse           0.1913556456565857\n",
      "    test_weighted_mse       0.06533249467611313\n",
      "────────────────────────────────────────────────────────────────────────────────────────────────────────────────────────\n"
     ]
    },
    {
     "data": {
      "text/plain": [
       "[{'test_cross_entropy': 0.2862784266471863,\n",
       "  'test_rmse': 0.1913556456565857,\n",
       "  'test_ndcg': 0.8904078006744385,\n",
       "  'test_expected_ndcg': 0.4194100499153137,\n",
       "  'test_f1_standard': 0.2524093687534332,\n",
       "  'test_f1_interesting': 0.27856186032295227,\n",
       "  'test_weighted_mse': 0.06533249467611313}]"
      ]
     },
     "execution_count": 19,
     "metadata": {},
     "output_type": "execute_result"
    }
   ],
   "source": [
    "reload(MD)\n",
    "distil_7 = MD.DistilBertFinetune(n_emotions=7)\n",
    "trainer = make_trainer()\n",
    "if True:    \n",
    "  trainer.fit(\n",
    "    distil_7,\n",
    "    datamodule=data_module_7,\n",
    "  )\n",
    "else:\n",
    "  distil_7 = MD.DistilBertFinetune.load_from_checkpoint(\n",
    "    here(\"models/model_checkpoints/distil_bert_finetuned_7_14epchs.ckpt\"),\n",
    "    n_emotions=7,\n",
    "  )\n",
    "out = trainer.test(\n",
    "  distil_7,\n",
    "  datamodule=data_module_7\n",
    ")\n",
    "del distil_7\n",
    "out"
   ]
  },
  {
   "cell_type": "markdown",
   "id": "c8a04f0b",
   "metadata": {},
   "source": [
    "## 28 classes"
   ]
  },
  {
   "cell_type": "code",
   "execution_count": 20,
   "id": "bd11ff3c",
   "metadata": {},
   "outputs": [
    {
     "name": "stderr",
     "output_type": "stream",
     "text": [
      "Some weights of DistilBertForSequenceClassification were not initialized from the model checkpoint at distilbert-base-uncased and are newly initialized: ['classifier.bias', 'classifier.weight', 'pre_classifier.bias', 'pre_classifier.weight']\n",
      "You should probably TRAIN this model on a down-stream task to be able to use it for predictions and inference.\n",
      "Using default `ModelCheckpoint`. Consider installing `litmodels` package to enable `LitModelCheckpoint` for automatic upload to the Lightning model registry.\n",
      "GPU available: True (cuda), used: True\n",
      "TPU available: False, using: 0 TPU cores\n",
      "HPU available: False, using: 0 HPUs\n",
      "Seed set to 1\n",
      "LOCAL_RANK: 0 - CUDA_VISIBLE_DEVICES: [0]\n",
      "\n",
      "  | Name           | Type                                | Params | Mode \n",
      "-------------------------------------------------------------------------------\n",
      "0 | model          | DistilBertForSequenceClassification | 67.0 M | eval \n",
      "1 | sigmoid        | Sigmoid                             | 0      | train\n",
      "2 | sig_loss       | BCEWithLogitsLoss                   | 0      | train\n",
      "3 | f1_standard    | MultilabelF1Score                   | 0      | train\n",
      "4 | f1_interesting | MultilabelF1Score                   | 0      | train\n",
      "5 | rmse           | MeanSquaredError                    | 0      | train\n",
      "6 | ndcg           | NDCG                                | 0      | train\n",
      "7 | expected_ndcg  | SoftRankExpectedNDCG                | 0      | train\n",
      "8 | weighted_mse   | ExponentialWeightedMSELoss          | 0      | train\n",
      "-------------------------------------------------------------------------------\n",
      "612 K     Trainable params\n",
      "66.4 M    Non-trainable params\n",
      "67.0 M    Total params\n",
      "267.900   Total estimated model params size (MB)\n",
      "9         Modules in train mode\n",
      "95        Modules in eval mode\n"
     ]
    },
    {
     "data": {
      "application/vnd.jupyter.widget-view+json": {
       "model_id": "dae268737a154c0c8d3809b4e36b3104",
       "version_major": 2,
       "version_minor": 0
      },
      "text/plain": [
       "Sanity Checking: |          | 0/? [00:00<?, ?it/s]"
      ]
     },
     "metadata": {},
     "output_type": "display_data"
    },
    {
     "data": {
      "application/vnd.jupyter.widget-view+json": {
       "model_id": "b4a45a8c8ced4825ba8a9d948f8802af",
       "version_major": 2,
       "version_minor": 0
      },
      "text/plain": [
       "Training: |          | 0/? [00:00<?, ?it/s]"
      ]
     },
     "metadata": {},
     "output_type": "display_data"
    },
    {
     "data": {
      "application/vnd.jupyter.widget-view+json": {
       "model_id": "96e8140b7e764a27a1f60d17ec1f0be6",
       "version_major": 2,
       "version_minor": 0
      },
      "text/plain": [
       "Validation: |          | 0/? [00:00<?, ?it/s]"
      ]
     },
     "metadata": {},
     "output_type": "display_data"
    },
    {
     "data": {
      "application/vnd.jupyter.widget-view+json": {
       "model_id": "e4f189e127a14565859ae3f1a645d6fa",
       "version_major": 2,
       "version_minor": 0
      },
      "text/plain": [
       "Validation: |          | 0/? [00:00<?, ?it/s]"
      ]
     },
     "metadata": {},
     "output_type": "display_data"
    },
    {
     "data": {
      "application/vnd.jupyter.widget-view+json": {
       "model_id": "cd84c0d0eb734658908796900fae3e82",
       "version_major": 2,
       "version_minor": 0
      },
      "text/plain": [
       "Validation: |          | 0/? [00:00<?, ?it/s]"
      ]
     },
     "metadata": {},
     "output_type": "display_data"
    },
    {
     "data": {
      "application/vnd.jupyter.widget-view+json": {
       "model_id": "c0bcfba3da8d41d0b687342c46fc56d9",
       "version_major": 2,
       "version_minor": 0
      },
      "text/plain": [
       "Validation: |          | 0/? [00:00<?, ?it/s]"
      ]
     },
     "metadata": {},
     "output_type": "display_data"
    },
    {
     "data": {
      "application/vnd.jupyter.widget-view+json": {
       "model_id": "7f0f07b911744dbbb5821c14bbdfd847",
       "version_major": 2,
       "version_minor": 0
      },
      "text/plain": [
       "Validation: |          | 0/? [00:00<?, ?it/s]"
      ]
     },
     "metadata": {},
     "output_type": "display_data"
    },
    {
     "data": {
      "application/vnd.jupyter.widget-view+json": {
       "model_id": "cb04fef3488d453382efab47f8972b8e",
       "version_major": 2,
       "version_minor": 0
      },
      "text/plain": [
       "Validation: |          | 0/? [00:00<?, ?it/s]"
      ]
     },
     "metadata": {},
     "output_type": "display_data"
    },
    {
     "data": {
      "application/vnd.jupyter.widget-view+json": {
       "model_id": "a6f9dc27db13486ea51c6f96c3c3cfde",
       "version_major": 2,
       "version_minor": 0
      },
      "text/plain": [
       "Validation: |          | 0/? [00:00<?, ?it/s]"
      ]
     },
     "metadata": {},
     "output_type": "display_data"
    },
    {
     "data": {
      "application/vnd.jupyter.widget-view+json": {
       "model_id": "0ed1b79a2b644b5884ed9a193d5a056a",
       "version_major": 2,
       "version_minor": 0
      },
      "text/plain": [
       "Validation: |          | 0/? [00:00<?, ?it/s]"
      ]
     },
     "metadata": {},
     "output_type": "display_data"
    },
    {
     "data": {
      "application/vnd.jupyter.widget-view+json": {
       "model_id": "1946787a1fcf43739fb1a55d7db9f514",
       "version_major": 2,
       "version_minor": 0
      },
      "text/plain": [
       "Validation: |          | 0/? [00:00<?, ?it/s]"
      ]
     },
     "metadata": {},
     "output_type": "display_data"
    },
    {
     "data": {
      "application/vnd.jupyter.widget-view+json": {
       "model_id": "476160a6a4e9465fa7af0e91dd3139a1",
       "version_major": 2,
       "version_minor": 0
      },
      "text/plain": [
       "Validation: |          | 0/? [00:00<?, ?it/s]"
      ]
     },
     "metadata": {},
     "output_type": "display_data"
    },
    {
     "data": {
      "application/vnd.jupyter.widget-view+json": {
       "model_id": "be56d570d77c4bb98f43f87797222a91",
       "version_major": 2,
       "version_minor": 0
      },
      "text/plain": [
       "Validation: |          | 0/? [00:00<?, ?it/s]"
      ]
     },
     "metadata": {},
     "output_type": "display_data"
    },
    {
     "data": {
      "application/vnd.jupyter.widget-view+json": {
       "model_id": "cdeb5ed2eafa42a0a04fe31cdcdbf611",
       "version_major": 2,
       "version_minor": 0
      },
      "text/plain": [
       "Validation: |          | 0/? [00:00<?, ?it/s]"
      ]
     },
     "metadata": {},
     "output_type": "display_data"
    },
    {
     "name": "stderr",
     "output_type": "stream",
     "text": [
      "Time limit reached. Elapsed time is 0:10:00. Signaling Trainer to stop.\n"
     ]
    },
    {
     "data": {
      "application/vnd.jupyter.widget-view+json": {
       "model_id": "cf6a0d7847764464a36d5b12759be1c5",
       "version_major": 2,
       "version_minor": 0
      },
      "text/plain": [
       "Validation: |          | 0/? [00:00<?, ?it/s]"
      ]
     },
     "metadata": {},
     "output_type": "display_data"
    },
    {
     "name": "stderr",
     "output_type": "stream",
     "text": [
      "Seed set to 1\n",
      "LOCAL_RANK: 0 - CUDA_VISIBLE_DEVICES: [0]\n"
     ]
    },
    {
     "data": {
      "application/vnd.jupyter.widget-view+json": {
       "model_id": "e4752f3e5c714541ae2e2f10b16c1681",
       "version_major": 2,
       "version_minor": 0
      },
      "text/plain": [
       "Testing: |          | 0/? [00:00<?, ?it/s]"
      ]
     },
     "metadata": {},
     "output_type": "display_data"
    },
    {
     "name": "stdout",
     "output_type": "stream",
     "text": [
      "────────────────────────────────────────────────────────────────────────────────────────────────────────────────────────\n",
      "       Test metric             DataLoader 0\n",
      "────────────────────────────────────────────────────────────────────────────────────────────────────────────────────────\n",
      "   test_cross_entropy       0.12032134085893631\n",
      "   test_expected_ndcg       0.27468523383140564\n",
      "   test_f1_interesting      0.0868084579706192\n",
      "    test_f1_standard        0.09487314522266388\n",
      "        test_ndcg           0.8013240694999695\n",
      "        test_rmse           0.11360271275043488\n",
      "    test_weighted_mse       0.02303914725780487\n",
      "────────────────────────────────────────────────────────────────────────────────────────────────────────────────────────\n"
     ]
    },
    {
     "data": {
      "text/plain": [
       "[{'test_cross_entropy': 0.12032134085893631,\n",
       "  'test_rmse': 0.11360271275043488,\n",
       "  'test_ndcg': 0.8013240694999695,\n",
       "  'test_expected_ndcg': 0.27468523383140564,\n",
       "  'test_f1_standard': 0.09487314522266388,\n",
       "  'test_f1_interesting': 0.0868084579706192,\n",
       "  'test_weighted_mse': 0.02303914725780487}]"
      ]
     },
     "execution_count": 20,
     "metadata": {},
     "output_type": "execute_result"
    }
   ],
   "source": [
    "reload(MD)\n",
    "distil_28 = MD.DistilBertFinetune(n_emotions=28)\n",
    "trainer = make_trainer()\n",
    "if True:    \n",
    "  trainer.fit(\n",
    "    distil_28,\n",
    "    datamodule=data_module_28,\n",
    "  )\n",
    "else:\n",
    "  distil_28 = MD.DistilBertFinetune.load_from_checkpoint(\n",
    "    here(\"models/model_checkpoints/distil_bert_finetuned_28_11epchs.ckpt\"),\n",
    "    n_emotions=28,\n",
    "  )\n",
    "out = trainer.test(\n",
    "  distil_28,\n",
    "  datamodule=data_module_28,\n",
    ")\n",
    "out"
   ]
  },
  {
   "cell_type": "code",
   "execution_count": 21,
   "id": "f7e73f68",
   "metadata": {},
   "outputs": [
    {
     "name": "stderr",
     "output_type": "stream",
     "text": [
      "Seed set to 1\n",
      "LOCAL_RANK: 0 - CUDA_VISIBLE_DEVICES: [0]\n"
     ]
    },
    {
     "data": {
      "application/vnd.jupyter.widget-view+json": {
       "model_id": "7f5d92cb692b429cbd92bf95a7059ba1",
       "version_major": 2,
       "version_minor": 0
      },
      "text/plain": [
       "Predicting: |          | 0/? [00:00<?, ?it/s]"
      ]
     },
     "metadata": {},
     "output_type": "display_data"
    },
    {
     "data": {
      "text/plain": [
       "[tensor([[5.0394e-04, 4.9547e-03, 9.6893e-01, 4.3408e-03, 2.3719e-04, 1.1148e-03,\n",
       "          3.0880e-04, 1.1559e-04, 1.4892e-01, 1.1853e-03, 6.8009e-04, 4.7214e-05,\n",
       "          1.0245e-03, 7.2380e-04, 1.5844e-02, 1.7071e-03, 4.0053e-02, 5.6471e-05,\n",
       "          1.3891e-02, 5.1418e-05, 7.4431e-06, 5.4433e-04, 1.0211e-03, 6.8130e-05,\n",
       "          8.0709e-04, 1.5009e-03, 5.4456e-05, 1.9993e-05]])]"
      ]
     },
     "execution_count": 21,
     "metadata": {},
     "output_type": "execute_result"
    }
   ],
   "source": [
    "# test sample\n",
    "trainer.predict(\n",
    "  distil_28,\n",
    "  [\"I Love this\"],\n",
    ")"
   ]
  },
  {
   "cell_type": "code",
   "execution_count": 22,
   "id": "3afc0cfc",
   "metadata": {},
   "outputs": [
    {
     "data": {
      "text/plain": [
       "Index(['id', 'text', 'n_raters', 'emotions', 'author', 'subreddit', 'link_id',\n",
       "       'parent_id', 'created_utc', 'emotion_sadness', 'emotion_unclear',\n",
       "       'emotion_love', 'emotion_gratitude', 'emotion_disapproval',\n",
       "       'emotion_amusement', 'emotion_disappointment', 'emotion_disgust',\n",
       "       'emotion_admiration', 'emotion_realization', 'emotion_annoyance',\n",
       "       'emotion_confusion', 'emotion_optimism', 'emotion_curiosity',\n",
       "       'emotion_excitement', 'emotion_caring', 'emotion_joy',\n",
       "       'emotion_remorse', 'emotion_approval', 'emotion_nervousness',\n",
       "       'emotion_embarrassment', 'emotion_surprise', 'emotion_anger',\n",
       "       'emotion_grief', 'emotion_pride', 'emotion_desire', 'emotion_relief',\n",
       "       'emotion_fear'],\n",
       "      dtype='object')"
      ]
     },
     "execution_count": 22,
     "metadata": {},
     "output_type": "execute_result"
    }
   ],
   "source": [
    "del distil_28\n",
    "pd.read_parquet(here(\"data/goemotions_28.parquet\")).columns"
   ]
  },
  {
   "cell_type": "markdown",
   "id": "c4624fea",
   "metadata": {},
   "source": [
    "# Distil Bert finetuned (DCG loss)"
   ]
  },
  {
   "cell_type": "markdown",
   "id": "04e3961d",
   "metadata": {},
   "source": [
    "## 3 classes"
   ]
  },
  {
   "cell_type": "code",
   "execution_count": 23,
   "id": "c8999fac",
   "metadata": {},
   "outputs": [
    {
     "name": "stderr",
     "output_type": "stream",
     "text": [
      "Some weights of DistilBertForSequenceClassification were not initialized from the model checkpoint at distilbert-base-uncased and are newly initialized: ['classifier.bias', 'classifier.weight', 'pre_classifier.bias', 'pre_classifier.weight']\n",
      "You should probably TRAIN this model on a down-stream task to be able to use it for predictions and inference.\n",
      "Using default `ModelCheckpoint`. Consider installing `litmodels` package to enable `LitModelCheckpoint` for automatic upload to the Lightning model registry.\n",
      "GPU available: True (cuda), used: True\n",
      "TPU available: False, using: 0 TPU cores\n",
      "HPU available: False, using: 0 HPUs\n",
      "Seed set to 1\n",
      "LOCAL_RANK: 0 - CUDA_VISIBLE_DEVICES: [0]\n",
      "\n",
      "  | Name           | Type                                | Params | Mode \n",
      "-------------------------------------------------------------------------------\n",
      "0 | model          | DistilBertForSequenceClassification | 67.0 M | eval \n",
      "1 | sigmoid        | Sigmoid                             | 0      | train\n",
      "2 | sig_loss       | BCEWithLogitsLoss                   | 0      | train\n",
      "3 | f1_standard    | MultilabelF1Score                   | 0      | train\n",
      "4 | f1_interesting | MultilabelF1Score                   | 0      | train\n",
      "5 | rmse           | MeanSquaredError                    | 0      | train\n",
      "6 | ndcg           | NDCG                                | 0      | train\n",
      "7 | expected_ndcg  | SoftRankExpectedNDCG                | 0      | train\n",
      "8 | weighted_mse   | ExponentialWeightedMSELoss          | 0      | train\n",
      "-------------------------------------------------------------------------------\n",
      "592 K     Trainable params\n",
      "66.4 M    Non-trainable params\n",
      "67.0 M    Total params\n",
      "267.823   Total estimated model params size (MB)\n",
      "9         Modules in train mode\n",
      "95        Modules in eval mode\n"
     ]
    },
    {
     "data": {
      "application/vnd.jupyter.widget-view+json": {
       "model_id": "2ce81be51c6f441b8ee7d6b104c3a93f",
       "version_major": 2,
       "version_minor": 0
      },
      "text/plain": [
       "Sanity Checking: |          | 0/? [00:00<?, ?it/s]"
      ]
     },
     "metadata": {},
     "output_type": "display_data"
    },
    {
     "data": {
      "application/vnd.jupyter.widget-view+json": {
       "model_id": "803a93bd03e54fa491ec909a57f1fffd",
       "version_major": 2,
       "version_minor": 0
      },
      "text/plain": [
       "Training: |          | 0/? [00:00<?, ?it/s]"
      ]
     },
     "metadata": {},
     "output_type": "display_data"
    },
    {
     "data": {
      "application/vnd.jupyter.widget-view+json": {
       "model_id": "28a69b22c40f40a9b7170e01b67a1342",
       "version_major": 2,
       "version_minor": 0
      },
      "text/plain": [
       "Validation: |          | 0/? [00:00<?, ?it/s]"
      ]
     },
     "metadata": {},
     "output_type": "display_data"
    },
    {
     "data": {
      "application/vnd.jupyter.widget-view+json": {
       "model_id": "fd38d9c9e0d7459fb05507c88831d7e0",
       "version_major": 2,
       "version_minor": 0
      },
      "text/plain": [
       "Validation: |          | 0/? [00:00<?, ?it/s]"
      ]
     },
     "metadata": {},
     "output_type": "display_data"
    },
    {
     "data": {
      "application/vnd.jupyter.widget-view+json": {
       "model_id": "c7f42de10a204de4866d87b761b58399",
       "version_major": 2,
       "version_minor": 0
      },
      "text/plain": [
       "Validation: |          | 0/? [00:00<?, ?it/s]"
      ]
     },
     "metadata": {},
     "output_type": "display_data"
    },
    {
     "data": {
      "application/vnd.jupyter.widget-view+json": {
       "model_id": "bfccd3b9c0d04d2e8409b5f7ac8cd3b6",
       "version_major": 2,
       "version_minor": 0
      },
      "text/plain": [
       "Validation: |          | 0/? [00:00<?, ?it/s]"
      ]
     },
     "metadata": {},
     "output_type": "display_data"
    },
    {
     "data": {
      "application/vnd.jupyter.widget-view+json": {
       "model_id": "b84bc48fe82241e0829ee6a13583b746",
       "version_major": 2,
       "version_minor": 0
      },
      "text/plain": [
       "Validation: |          | 0/? [00:00<?, ?it/s]"
      ]
     },
     "metadata": {},
     "output_type": "display_data"
    },
    {
     "data": {
      "application/vnd.jupyter.widget-view+json": {
       "model_id": "5628ee371f7244bd828a38245a103f29",
       "version_major": 2,
       "version_minor": 0
      },
      "text/plain": [
       "Validation: |          | 0/? [00:00<?, ?it/s]"
      ]
     },
     "metadata": {},
     "output_type": "display_data"
    },
    {
     "data": {
      "application/vnd.jupyter.widget-view+json": {
       "model_id": "48c866b2c0fd4137a6433a0b03f65ef0",
       "version_major": 2,
       "version_minor": 0
      },
      "text/plain": [
       "Validation: |          | 0/? [00:00<?, ?it/s]"
      ]
     },
     "metadata": {},
     "output_type": "display_data"
    },
    {
     "data": {
      "application/vnd.jupyter.widget-view+json": {
       "model_id": "c6bd9f63a7b44e0888f18d3bf2c002b2",
       "version_major": 2,
       "version_minor": 0
      },
      "text/plain": [
       "Validation: |          | 0/? [00:00<?, ?it/s]"
      ]
     },
     "metadata": {},
     "output_type": "display_data"
    },
    {
     "data": {
      "application/vnd.jupyter.widget-view+json": {
       "model_id": "886fc2beef3942f899f04aef42fc5118",
       "version_major": 2,
       "version_minor": 0
      },
      "text/plain": [
       "Validation: |          | 0/? [00:00<?, ?it/s]"
      ]
     },
     "metadata": {},
     "output_type": "display_data"
    },
    {
     "data": {
      "application/vnd.jupyter.widget-view+json": {
       "model_id": "9e1bcf9f871a49049c9c3f73ef7018b5",
       "version_major": 2,
       "version_minor": 0
      },
      "text/plain": [
       "Validation: |          | 0/? [00:00<?, ?it/s]"
      ]
     },
     "metadata": {},
     "output_type": "display_data"
    },
    {
     "data": {
      "application/vnd.jupyter.widget-view+json": {
       "model_id": "bd0ea7b5f1e04bd69dcc90be222794ba",
       "version_major": 2,
       "version_minor": 0
      },
      "text/plain": [
       "Validation: |          | 0/? [00:00<?, ?it/s]"
      ]
     },
     "metadata": {},
     "output_type": "display_data"
    },
    {
     "name": "stderr",
     "output_type": "stream",
     "text": [
      "Time limit reached. Elapsed time is 0:10:00. Signaling Trainer to stop.\n"
     ]
    },
    {
     "data": {
      "application/vnd.jupyter.widget-view+json": {
       "model_id": "cebf712468f5442a8f2e50e1591ae12e",
       "version_major": 2,
       "version_minor": 0
      },
      "text/plain": [
       "Validation: |          | 0/? [00:00<?, ?it/s]"
      ]
     },
     "metadata": {},
     "output_type": "display_data"
    },
    {
     "name": "stderr",
     "output_type": "stream",
     "text": [
      "Seed set to 1\n",
      "LOCAL_RANK: 0 - CUDA_VISIBLE_DEVICES: [0]\n"
     ]
    },
    {
     "data": {
      "application/vnd.jupyter.widget-view+json": {
       "model_id": "34471d7c921546378c11c12c2b017f39",
       "version_major": 2,
       "version_minor": 0
      },
      "text/plain": [
       "Testing: |          | 0/? [00:00<?, ?it/s]"
      ]
     },
     "metadata": {},
     "output_type": "display_data"
    },
    {
     "name": "stdout",
     "output_type": "stream",
     "text": [
      "────────────────────────────────────────────────────────────────────────────────────────────────────────────────────────\n",
      "       Test metric             DataLoader 0\n",
      "────────────────────────────────────────────────────────────────────────────────────────────────────────────────────────\n",
      "   test_cross_entropy       0.6402591466903687\n",
      "   test_expected_ndcg       0.6344013214111328\n",
      "   test_f1_interesting      0.3201582729816437\n",
      "    test_f1_standard        0.22153021395206451\n",
      "        test_ndcg           0.9250280261039734\n",
      "        test_rmse           0.35331401228904724\n",
      "    test_weighted_mse        0.275745689868927\n",
      "────────────────────────────────────────────────────────────────────────────────────────────────────────────────────────\n"
     ]
    },
    {
     "data": {
      "text/plain": [
       "[{'test_cross_entropy': 0.6402591466903687,\n",
       "  'test_rmse': 0.35331401228904724,\n",
       "  'test_ndcg': 0.9250280261039734,\n",
       "  'test_expected_ndcg': 0.6344013214111328,\n",
       "  'test_f1_standard': 0.22153021395206451,\n",
       "  'test_f1_interesting': 0.3201582729816437,\n",
       "  'test_weighted_mse': 0.275745689868927}]"
      ]
     },
     "execution_count": 23,
     "metadata": {},
     "output_type": "execute_result"
    }
   ],
   "source": [
    "reload(MD) # DistilBertFinetuneOnDCG\n",
    "distil_dcg_3 = MD.DistilBertFinetuneOnDCG(n_emotions=3)\n",
    "trainer = make_trainer()\n",
    "if True:    \n",
    "  trainer.fit(\n",
    "    distil_dcg_3,\n",
    "    datamodule=data_module_3,\n",
    "  )\n",
    "else:\n",
    "  distil_dcg_3 = MD.DistilBertFinetuneOnDCG.load_from_checkpoint(\n",
    "    here(\"models/model_checkpoints/distil_bert_onDCG_3_10epchs.ckpt\"),\n",
    "    n_emotions=3,\n",
    "  ) \n",
    "out = trainer.test(\n",
    "  distil_dcg_3,\n",
    "  datamodule=data_module_3,\n",
    ")\n",
    "del distil_dcg_3\n",
    "out"
   ]
  },
  {
   "cell_type": "markdown",
   "id": "866509f9",
   "metadata": {},
   "source": [
    "## 7 classes"
   ]
  },
  {
   "cell_type": "code",
   "execution_count": 24,
   "id": "4a86f17a",
   "metadata": {},
   "outputs": [
    {
     "name": "stderr",
     "output_type": "stream",
     "text": [
      "Some weights of DistilBertForSequenceClassification were not initialized from the model checkpoint at distilbert-base-uncased and are newly initialized: ['classifier.bias', 'classifier.weight', 'pre_classifier.bias', 'pre_classifier.weight']\n",
      "You should probably TRAIN this model on a down-stream task to be able to use it for predictions and inference.\n",
      "Using default `ModelCheckpoint`. Consider installing `litmodels` package to enable `LitModelCheckpoint` for automatic upload to the Lightning model registry.\n",
      "GPU available: True (cuda), used: True\n",
      "TPU available: False, using: 0 TPU cores\n",
      "HPU available: False, using: 0 HPUs\n",
      "Seed set to 1\n",
      "LOCAL_RANK: 0 - CUDA_VISIBLE_DEVICES: [0]\n",
      "\n",
      "  | Name           | Type                                | Params | Mode \n",
      "-------------------------------------------------------------------------------\n",
      "0 | model          | DistilBertForSequenceClassification | 67.0 M | eval \n",
      "1 | sigmoid        | Sigmoid                             | 0      | train\n",
      "2 | sig_loss       | BCEWithLogitsLoss                   | 0      | train\n",
      "3 | f1_standard    | MultilabelF1Score                   | 0      | train\n",
      "4 | f1_interesting | MultilabelF1Score                   | 0      | train\n",
      "5 | rmse           | MeanSquaredError                    | 0      | train\n",
      "6 | ndcg           | NDCG                                | 0      | train\n",
      "7 | expected_ndcg  | SoftRankExpectedNDCG                | 0      | train\n",
      "8 | weighted_mse   | ExponentialWeightedMSELoss          | 0      | train\n",
      "-------------------------------------------------------------------------------\n",
      "595 K     Trainable params\n",
      "66.4 M    Non-trainable params\n",
      "67.0 M    Total params\n",
      "267.835   Total estimated model params size (MB)\n",
      "9         Modules in train mode\n",
      "95        Modules in eval mode\n"
     ]
    },
    {
     "data": {
      "application/vnd.jupyter.widget-view+json": {
       "model_id": "5439e48d59244656ab61eb69743720ae",
       "version_major": 2,
       "version_minor": 0
      },
      "text/plain": [
       "Sanity Checking: |          | 0/? [00:00<?, ?it/s]"
      ]
     },
     "metadata": {},
     "output_type": "display_data"
    },
    {
     "data": {
      "application/vnd.jupyter.widget-view+json": {
       "model_id": "ae9f97c9fe3a4c3088e10a4dbedcf392",
       "version_major": 2,
       "version_minor": 0
      },
      "text/plain": [
       "Training: |          | 0/? [00:00<?, ?it/s]"
      ]
     },
     "metadata": {},
     "output_type": "display_data"
    },
    {
     "data": {
      "application/vnd.jupyter.widget-view+json": {
       "model_id": "7e31aab92b684b74904c607020dc6015",
       "version_major": 2,
       "version_minor": 0
      },
      "text/plain": [
       "Validation: |          | 0/? [00:00<?, ?it/s]"
      ]
     },
     "metadata": {},
     "output_type": "display_data"
    },
    {
     "data": {
      "application/vnd.jupyter.widget-view+json": {
       "model_id": "0e1c04a34e5344809d31ba618f9e6fbc",
       "version_major": 2,
       "version_minor": 0
      },
      "text/plain": [
       "Validation: |          | 0/? [00:00<?, ?it/s]"
      ]
     },
     "metadata": {},
     "output_type": "display_data"
    },
    {
     "data": {
      "application/vnd.jupyter.widget-view+json": {
       "model_id": "517a40fe687b4a8c9428310402d815de",
       "version_major": 2,
       "version_minor": 0
      },
      "text/plain": [
       "Validation: |          | 0/? [00:00<?, ?it/s]"
      ]
     },
     "metadata": {},
     "output_type": "display_data"
    },
    {
     "data": {
      "application/vnd.jupyter.widget-view+json": {
       "model_id": "dd840afe2ad847449e8a6af9bf711cb9",
       "version_major": 2,
       "version_minor": 0
      },
      "text/plain": [
       "Validation: |          | 0/? [00:00<?, ?it/s]"
      ]
     },
     "metadata": {},
     "output_type": "display_data"
    },
    {
     "data": {
      "application/vnd.jupyter.widget-view+json": {
       "model_id": "450bba2950e749e2864c463498ec8b8c",
       "version_major": 2,
       "version_minor": 0
      },
      "text/plain": [
       "Validation: |          | 0/? [00:00<?, ?it/s]"
      ]
     },
     "metadata": {},
     "output_type": "display_data"
    },
    {
     "data": {
      "application/vnd.jupyter.widget-view+json": {
       "model_id": "339ffbc0eba2479c996b553336e566c1",
       "version_major": 2,
       "version_minor": 0
      },
      "text/plain": [
       "Validation: |          | 0/? [00:00<?, ?it/s]"
      ]
     },
     "metadata": {},
     "output_type": "display_data"
    },
    {
     "data": {
      "application/vnd.jupyter.widget-view+json": {
       "model_id": "8e535b9fe0b34ac0b7f98c7a44d99e0f",
       "version_major": 2,
       "version_minor": 0
      },
      "text/plain": [
       "Validation: |          | 0/? [00:00<?, ?it/s]"
      ]
     },
     "metadata": {},
     "output_type": "display_data"
    },
    {
     "data": {
      "application/vnd.jupyter.widget-view+json": {
       "model_id": "c05132b3e43d461ca46ad205be07bbc4",
       "version_major": 2,
       "version_minor": 0
      },
      "text/plain": [
       "Validation: |          | 0/? [00:00<?, ?it/s]"
      ]
     },
     "metadata": {},
     "output_type": "display_data"
    },
    {
     "data": {
      "application/vnd.jupyter.widget-view+json": {
       "model_id": "76e23d897ae941019635d9b0767e5417",
       "version_major": 2,
       "version_minor": 0
      },
      "text/plain": [
       "Validation: |          | 0/? [00:00<?, ?it/s]"
      ]
     },
     "metadata": {},
     "output_type": "display_data"
    },
    {
     "data": {
      "application/vnd.jupyter.widget-view+json": {
       "model_id": "4cb03b0a655e4ba387bab69d4b0455ef",
       "version_major": 2,
       "version_minor": 0
      },
      "text/plain": [
       "Validation: |          | 0/? [00:00<?, ?it/s]"
      ]
     },
     "metadata": {},
     "output_type": "display_data"
    },
    {
     "data": {
      "application/vnd.jupyter.widget-view+json": {
       "model_id": "b9b4694da542444cbb88cb8f184ba7fc",
       "version_major": 2,
       "version_minor": 0
      },
      "text/plain": [
       "Validation: |          | 0/? [00:00<?, ?it/s]"
      ]
     },
     "metadata": {},
     "output_type": "display_data"
    },
    {
     "name": "stderr",
     "output_type": "stream",
     "text": [
      "Time limit reached. Elapsed time is 0:10:00. Signaling Trainer to stop.\n"
     ]
    },
    {
     "data": {
      "application/vnd.jupyter.widget-view+json": {
       "model_id": "df1a1826b87442ce810c117a130675a2",
       "version_major": 2,
       "version_minor": 0
      },
      "text/plain": [
       "Validation: |          | 0/? [00:00<?, ?it/s]"
      ]
     },
     "metadata": {},
     "output_type": "display_data"
    },
    {
     "name": "stderr",
     "output_type": "stream",
     "text": [
      "Seed set to 1\n",
      "LOCAL_RANK: 0 - CUDA_VISIBLE_DEVICES: [0]\n"
     ]
    },
    {
     "data": {
      "application/vnd.jupyter.widget-view+json": {
       "model_id": "283a69b4394840ae8c609f13075270e1",
       "version_major": 2,
       "version_minor": 0
      },
      "text/plain": [
       "Testing: |          | 0/? [00:00<?, ?it/s]"
      ]
     },
     "metadata": {},
     "output_type": "display_data"
    },
    {
     "name": "stdout",
     "output_type": "stream",
     "text": [
      "────────────────────────────────────────────────────────────────────────────────────────────────────────────────────────\n",
      "       Test metric             DataLoader 0\n",
      "────────────────────────────────────────────────────────────────────────────────────────────────────────────────────────\n",
      "   test_cross_entropy       0.44672107696533203\n",
      "   test_expected_ndcg       0.4190252721309662\n",
      "   test_f1_interesting      0.17660880088806152\n",
      "    test_f1_standard        0.40341970324516296\n",
      "        test_ndcg           0.8842915892601013\n",
      "        test_rmse           0.3051820695400238\n",
      "    test_weighted_mse       0.11000015586614609\n",
      "────────────────────────────────────────────────────────────────────────────────────────────────────────────────────────\n"
     ]
    },
    {
     "data": {
      "text/plain": [
       "[{'test_cross_entropy': 0.44672107696533203,\n",
       "  'test_rmse': 0.3051820695400238,\n",
       "  'test_ndcg': 0.8842915892601013,\n",
       "  'test_expected_ndcg': 0.4190252721309662,\n",
       "  'test_f1_standard': 0.40341970324516296,\n",
       "  'test_f1_interesting': 0.17660880088806152,\n",
       "  'test_weighted_mse': 0.11000015586614609}]"
      ]
     },
     "execution_count": 24,
     "metadata": {},
     "output_type": "execute_result"
    }
   ],
   "source": [
    "reload(MD)\n",
    "distil_dcg_7 = MD.DistilBertFinetuneOnDCG(n_emotions=7)\n",
    "trainer = make_trainer()\n",
    "if True:    \n",
    "  trainer.fit(\n",
    "    distil_dcg_7,\n",
    "    datamodule=data_module_7,\n",
    "  )\n",
    "else:\n",
    "  distil_dcg_7 = MD.DistilBertFinetuneOnDCG.load_from_checkpoint(\n",
    "    here(\"models/model_checkpoints/distil_bert_onDCG_7_10epchs.ckpt\"),\n",
    "    n_emotions=7,\n",
    "  )\n",
    "  \n",
    "out = trainer.test(\n",
    "  distil_dcg_7,\n",
    "  datamodule=data_module_7,\n",
    ")\n",
    "del distil_dcg_7\n",
    "out"
   ]
  },
  {
   "cell_type": "markdown",
   "id": "641c7a7b",
   "metadata": {},
   "source": [
    "## 28 classes"
   ]
  },
  {
   "cell_type": "code",
   "execution_count": 25,
   "id": "f3641944",
   "metadata": {},
   "outputs": [
    {
     "name": "stderr",
     "output_type": "stream",
     "text": [
      "Some weights of DistilBertForSequenceClassification were not initialized from the model checkpoint at distilbert-base-uncased and are newly initialized: ['classifier.bias', 'classifier.weight', 'pre_classifier.bias', 'pre_classifier.weight']\n",
      "You should probably TRAIN this model on a down-stream task to be able to use it for predictions and inference.\n",
      "Using default `ModelCheckpoint`. Consider installing `litmodels` package to enable `LitModelCheckpoint` for automatic upload to the Lightning model registry.\n",
      "GPU available: True (cuda), used: True\n",
      "TPU available: False, using: 0 TPU cores\n",
      "HPU available: False, using: 0 HPUs\n",
      "Seed set to 1\n",
      "LOCAL_RANK: 0 - CUDA_VISIBLE_DEVICES: [0]\n",
      "\n",
      "  | Name           | Type                                | Params | Mode \n",
      "-------------------------------------------------------------------------------\n",
      "0 | model          | DistilBertForSequenceClassification | 67.0 M | eval \n",
      "1 | sigmoid        | Sigmoid                             | 0      | train\n",
      "2 | sig_loss       | BCEWithLogitsLoss                   | 0      | train\n",
      "3 | f1_standard    | MultilabelF1Score                   | 0      | train\n",
      "4 | f1_interesting | MultilabelF1Score                   | 0      | train\n",
      "5 | rmse           | MeanSquaredError                    | 0      | train\n",
      "6 | ndcg           | NDCG                                | 0      | train\n",
      "7 | expected_ndcg  | SoftRankExpectedNDCG                | 0      | train\n",
      "8 | weighted_mse   | ExponentialWeightedMSELoss          | 0      | train\n",
      "-------------------------------------------------------------------------------\n",
      "612 K     Trainable params\n",
      "66.4 M    Non-trainable params\n",
      "67.0 M    Total params\n",
      "267.900   Total estimated model params size (MB)\n",
      "9         Modules in train mode\n",
      "95        Modules in eval mode\n"
     ]
    },
    {
     "data": {
      "application/vnd.jupyter.widget-view+json": {
       "model_id": "320bf1af6636449f866e070a9fba98d8",
       "version_major": 2,
       "version_minor": 0
      },
      "text/plain": [
       "Sanity Checking: |          | 0/? [00:00<?, ?it/s]"
      ]
     },
     "metadata": {},
     "output_type": "display_data"
    },
    {
     "data": {
      "application/vnd.jupyter.widget-view+json": {
       "model_id": "128afc8914d2427e8961cf5f5ea28d40",
       "version_major": 2,
       "version_minor": 0
      },
      "text/plain": [
       "Training: |          | 0/? [00:00<?, ?it/s]"
      ]
     },
     "metadata": {},
     "output_type": "display_data"
    },
    {
     "data": {
      "application/vnd.jupyter.widget-view+json": {
       "model_id": "d2c8b92dfaf74d0288fa89baddce37c2",
       "version_major": 2,
       "version_minor": 0
      },
      "text/plain": [
       "Validation: |          | 0/? [00:00<?, ?it/s]"
      ]
     },
     "metadata": {},
     "output_type": "display_data"
    },
    {
     "data": {
      "application/vnd.jupyter.widget-view+json": {
       "model_id": "c8d0698c31fa46efa445257dc1a95767",
       "version_major": 2,
       "version_minor": 0
      },
      "text/plain": [
       "Validation: |          | 0/? [00:00<?, ?it/s]"
      ]
     },
     "metadata": {},
     "output_type": "display_data"
    },
    {
     "data": {
      "application/vnd.jupyter.widget-view+json": {
       "model_id": "4a5769ea30c74ad39636d88deb90743f",
       "version_major": 2,
       "version_minor": 0
      },
      "text/plain": [
       "Validation: |          | 0/? [00:00<?, ?it/s]"
      ]
     },
     "metadata": {},
     "output_type": "display_data"
    },
    {
     "data": {
      "application/vnd.jupyter.widget-view+json": {
       "model_id": "f4ed8b7189fa4d1292d9212c36928f9b",
       "version_major": 2,
       "version_minor": 0
      },
      "text/plain": [
       "Validation: |          | 0/? [00:00<?, ?it/s]"
      ]
     },
     "metadata": {},
     "output_type": "display_data"
    },
    {
     "data": {
      "application/vnd.jupyter.widget-view+json": {
       "model_id": "df977c6d349345ea89c147d0012e826e",
       "version_major": 2,
       "version_minor": 0
      },
      "text/plain": [
       "Validation: |          | 0/? [00:00<?, ?it/s]"
      ]
     },
     "metadata": {},
     "output_type": "display_data"
    },
    {
     "data": {
      "application/vnd.jupyter.widget-view+json": {
       "model_id": "27f12a94a7b441299f425688fc78d01d",
       "version_major": 2,
       "version_minor": 0
      },
      "text/plain": [
       "Validation: |          | 0/? [00:00<?, ?it/s]"
      ]
     },
     "metadata": {},
     "output_type": "display_data"
    },
    {
     "data": {
      "application/vnd.jupyter.widget-view+json": {
       "model_id": "136601a62fa94c45ab3ac288a217e1b2",
       "version_major": 2,
       "version_minor": 0
      },
      "text/plain": [
       "Validation: |          | 0/? [00:00<?, ?it/s]"
      ]
     },
     "metadata": {},
     "output_type": "display_data"
    },
    {
     "data": {
      "application/vnd.jupyter.widget-view+json": {
       "model_id": "6d08e0ca1deb40ff96b1eff4b11a79fe",
       "version_major": 2,
       "version_minor": 0
      },
      "text/plain": [
       "Validation: |          | 0/? [00:00<?, ?it/s]"
      ]
     },
     "metadata": {},
     "output_type": "display_data"
    },
    {
     "data": {
      "application/vnd.jupyter.widget-view+json": {
       "model_id": "bb12195fec944af4992caf178ea2d7ad",
       "version_major": 2,
       "version_minor": 0
      },
      "text/plain": [
       "Validation: |          | 0/? [00:00<?, ?it/s]"
      ]
     },
     "metadata": {},
     "output_type": "display_data"
    },
    {
     "data": {
      "application/vnd.jupyter.widget-view+json": {
       "model_id": "b4d41c7d5a2743f592dd2d10a0eeb596",
       "version_major": 2,
       "version_minor": 0
      },
      "text/plain": [
       "Validation: |          | 0/? [00:00<?, ?it/s]"
      ]
     },
     "metadata": {},
     "output_type": "display_data"
    },
    {
     "data": {
      "application/vnd.jupyter.widget-view+json": {
       "model_id": "2a93e4b2767b460d8c988b0f9362264d",
       "version_major": 2,
       "version_minor": 0
      },
      "text/plain": [
       "Validation: |          | 0/? [00:00<?, ?it/s]"
      ]
     },
     "metadata": {},
     "output_type": "display_data"
    },
    {
     "name": "stderr",
     "output_type": "stream",
     "text": [
      "Time limit reached. Elapsed time is 0:10:00. Signaling Trainer to stop.\n"
     ]
    },
    {
     "data": {
      "application/vnd.jupyter.widget-view+json": {
       "model_id": "af020c5d56604ae2a18d8f51ad6d1686",
       "version_major": 2,
       "version_minor": 0
      },
      "text/plain": [
       "Validation: |          | 0/? [00:00<?, ?it/s]"
      ]
     },
     "metadata": {},
     "output_type": "display_data"
    },
    {
     "name": "stderr",
     "output_type": "stream",
     "text": [
      "Seed set to 1\n",
      "LOCAL_RANK: 0 - CUDA_VISIBLE_DEVICES: [0]\n"
     ]
    },
    {
     "data": {
      "application/vnd.jupyter.widget-view+json": {
       "model_id": "fc742f100f21407a875358f4cdc1f3cd",
       "version_major": 2,
       "version_minor": 0
      },
      "text/plain": [
       "Testing: |          | 0/? [00:00<?, ?it/s]"
      ]
     },
     "metadata": {},
     "output_type": "display_data"
    },
    {
     "name": "stdout",
     "output_type": "stream",
     "text": [
      "────────────────────────────────────────────────────────────────────────────────────────────────────────────────────────\n",
      "       Test metric             DataLoader 0\n",
      "────────────────────────────────────────────────────────────────────────────────────────────────────────────────────────\n",
      "   test_cross_entropy        0.508709728717804\n",
      "   test_expected_ndcg       0.27000129222869873\n",
      "   test_f1_interesting      0.05060017853975296\n",
      "    test_f1_standard        0.3457867205142975\n",
      "        test_ndcg           0.7893139719963074\n",
      "        test_rmse           0.3792361915111542\n",
      "    test_weighted_mse       0.14942362904548645\n",
      "────────────────────────────────────────────────────────────────────────────────────────────────────────────────────────\n"
     ]
    },
    {
     "data": {
      "text/plain": [
       "[{'test_cross_entropy': 0.508709728717804,\n",
       "  'test_rmse': 0.3792361915111542,\n",
       "  'test_ndcg': 0.7893139719963074,\n",
       "  'test_expected_ndcg': 0.27000129222869873,\n",
       "  'test_f1_standard': 0.3457867205142975,\n",
       "  'test_f1_interesting': 0.05060017853975296,\n",
       "  'test_weighted_mse': 0.14942362904548645}]"
      ]
     },
     "execution_count": 25,
     "metadata": {},
     "output_type": "execute_result"
    }
   ],
   "source": [
    "reload(MD)\n",
    "distil_dcg_28 = MD.DistilBertFinetuneOnDCG(n_emotions=28)\n",
    "trainer = make_trainer()\n",
    "if True:\n",
    "  trainer.fit(\n",
    "    distil_dcg_28,\n",
    "    datamodule=data_module_28,\n",
    "  )\n",
    "else:\n",
    "  distil_dcg_28 = MD.DistilBertFinetuneOnDCG.load_from_checkpoint(\n",
    "    here(\"models/model_checkpoints/distil_bert_onDCG_28_10epchs.ckpt\"),\n",
    "    n_emotions=28,\n",
    "  )\n",
    "out = trainer.test(\n",
    "  distil_dcg_28,\n",
    "  datamodule=data_module_28,\n",
    ")\n",
    "out"
   ]
  },
  {
   "cell_type": "code",
   "execution_count": 26,
   "id": "b6a697b5",
   "metadata": {},
   "outputs": [
    {
     "name": "stderr",
     "output_type": "stream",
     "text": [
      "Seed set to 1\n",
      "LOCAL_RANK: 0 - CUDA_VISIBLE_DEVICES: [0]\n"
     ]
    },
    {
     "data": {
      "application/vnd.jupyter.widget-view+json": {
       "model_id": "0b445bf98eee4a67b1ccd3de8db9381f",
       "version_major": 2,
       "version_minor": 0
      },
      "text/plain": [
       "Predicting: |          | 0/? [00:00<?, ?it/s]"
      ]
     },
     "metadata": {},
     "output_type": "display_data"
    },
    {
     "data": {
      "text/plain": [
       "[tensor([[0.1140, 0.5964, 0.9915, 0.5530, 0.0333, 0.3486, 0.1029, 0.0709, 0.9281,\n",
       "          0.2287, 0.1114, 0.0508, 0.3300, 0.1668, 0.6178, 0.4084, 0.7820, 0.0306,\n",
       "          0.6846, 0.0318, 0.0248, 0.1106, 0.1216, 0.0526, 0.2581, 0.6175, 0.1240,\n",
       "          0.0456]])]"
      ]
     },
     "execution_count": 26,
     "metadata": {},
     "output_type": "execute_result"
    }
   ],
   "source": [
    "# test sample\n",
    "trainer.predict(\n",
    "  distil_dcg_28,\n",
    "  [\"I Love this\"],\n",
    ")"
   ]
  },
  {
   "cell_type": "code",
   "execution_count": 27,
   "id": "f9c11915",
   "metadata": {},
   "outputs": [
    {
     "data": {
      "text/plain": [
       "Index(['id', 'text', 'n_raters', 'emotions', 'author', 'subreddit', 'link_id',\n",
       "       'parent_id', 'created_utc', 'emotion_sadness', 'emotion_unclear',\n",
       "       'emotion_love', 'emotion_gratitude', 'emotion_disapproval',\n",
       "       'emotion_amusement', 'emotion_disappointment', 'emotion_disgust',\n",
       "       'emotion_admiration', 'emotion_realization', 'emotion_annoyance',\n",
       "       'emotion_confusion', 'emotion_optimism', 'emotion_curiosity',\n",
       "       'emotion_excitement', 'emotion_caring', 'emotion_joy',\n",
       "       'emotion_remorse', 'emotion_approval', 'emotion_nervousness',\n",
       "       'emotion_embarrassment', 'emotion_surprise', 'emotion_anger',\n",
       "       'emotion_grief', 'emotion_pride', 'emotion_desire', 'emotion_relief',\n",
       "       'emotion_fear'],\n",
       "      dtype='object')"
      ]
     },
     "execution_count": 27,
     "metadata": {},
     "output_type": "execute_result"
    }
   ],
   "source": [
    "del distil_dcg_28\n",
    "pd.read_parquet(here(\"data/goemotions_28.parquet\")).columns"
   ]
  },
  {
   "cell_type": "markdown",
   "id": "c975e797",
   "metadata": {},
   "source": [
    "# Distil Bert finetuned (Weighed MSE loss)"
   ]
  },
  {
   "cell_type": "markdown",
   "id": "845094a6",
   "metadata": {},
   "source": [
    "## 3 classes"
   ]
  },
  {
   "cell_type": "code",
   "execution_count": 28,
   "id": "8bfce37d",
   "metadata": {},
   "outputs": [
    {
     "name": "stderr",
     "output_type": "stream",
     "text": [
      "Some weights of DistilBertForSequenceClassification were not initialized from the model checkpoint at distilbert-base-uncased and are newly initialized: ['classifier.bias', 'classifier.weight', 'pre_classifier.bias', 'pre_classifier.weight']\n",
      "You should probably TRAIN this model on a down-stream task to be able to use it for predictions and inference.\n",
      "Using default `ModelCheckpoint`. Consider installing `litmodels` package to enable `LitModelCheckpoint` for automatic upload to the Lightning model registry.\n",
      "GPU available: True (cuda), used: True\n",
      "TPU available: False, using: 0 TPU cores\n",
      "HPU available: False, using: 0 HPUs\n",
      "Seed set to 1\n",
      "LOCAL_RANK: 0 - CUDA_VISIBLE_DEVICES: [0]\n",
      "\n",
      "  | Name           | Type                                | Params | Mode \n",
      "-------------------------------------------------------------------------------\n",
      "0 | model          | DistilBertForSequenceClassification | 67.0 M | eval \n",
      "1 | sigmoid        | Sigmoid                             | 0      | train\n",
      "2 | sig_loss       | BCEWithLogitsLoss                   | 0      | train\n",
      "3 | f1_standard    | MultilabelF1Score                   | 0      | train\n",
      "4 | f1_interesting | MultilabelF1Score                   | 0      | train\n",
      "5 | rmse           | MeanSquaredError                    | 0      | train\n",
      "6 | ndcg           | NDCG                                | 0      | train\n",
      "7 | expected_ndcg  | SoftRankExpectedNDCG                | 0      | train\n",
      "8 | weighted_mse   | ExponentialWeightedMSELoss          | 0      | train\n",
      "-------------------------------------------------------------------------------\n",
      "592 K     Trainable params\n",
      "66.4 M    Non-trainable params\n",
      "67.0 M    Total params\n",
      "267.823   Total estimated model params size (MB)\n",
      "9         Modules in train mode\n",
      "95        Modules in eval mode\n"
     ]
    },
    {
     "data": {
      "application/vnd.jupyter.widget-view+json": {
       "model_id": "86feb55c74ca4eefbffeaf88447a654f",
       "version_major": 2,
       "version_minor": 0
      },
      "text/plain": [
       "Sanity Checking: |          | 0/? [00:00<?, ?it/s]"
      ]
     },
     "metadata": {},
     "output_type": "display_data"
    },
    {
     "data": {
      "application/vnd.jupyter.widget-view+json": {
       "model_id": "7b31019746934ca580689e5deabe7f2e",
       "version_major": 2,
       "version_minor": 0
      },
      "text/plain": [
       "Training: |          | 0/? [00:00<?, ?it/s]"
      ]
     },
     "metadata": {},
     "output_type": "display_data"
    },
    {
     "data": {
      "application/vnd.jupyter.widget-view+json": {
       "model_id": "b7ee7ba7ab0b48908ca6951ecf6b26f5",
       "version_major": 2,
       "version_minor": 0
      },
      "text/plain": [
       "Validation: |          | 0/? [00:00<?, ?it/s]"
      ]
     },
     "metadata": {},
     "output_type": "display_data"
    },
    {
     "data": {
      "application/vnd.jupyter.widget-view+json": {
       "model_id": "ecac20139df4403193a74708df648c19",
       "version_major": 2,
       "version_minor": 0
      },
      "text/plain": [
       "Validation: |          | 0/? [00:00<?, ?it/s]"
      ]
     },
     "metadata": {},
     "output_type": "display_data"
    },
    {
     "data": {
      "application/vnd.jupyter.widget-view+json": {
       "model_id": "55687a7e49434786b58e7d77b6e7458a",
       "version_major": 2,
       "version_minor": 0
      },
      "text/plain": [
       "Validation: |          | 0/? [00:00<?, ?it/s]"
      ]
     },
     "metadata": {},
     "output_type": "display_data"
    },
    {
     "data": {
      "application/vnd.jupyter.widget-view+json": {
       "model_id": "088a1c4aa88d41b48d66b7279c565382",
       "version_major": 2,
       "version_minor": 0
      },
      "text/plain": [
       "Validation: |          | 0/? [00:00<?, ?it/s]"
      ]
     },
     "metadata": {},
     "output_type": "display_data"
    },
    {
     "data": {
      "application/vnd.jupyter.widget-view+json": {
       "model_id": "d711a531204842e2993a36e56b515ec3",
       "version_major": 2,
       "version_minor": 0
      },
      "text/plain": [
       "Validation: |          | 0/? [00:00<?, ?it/s]"
      ]
     },
     "metadata": {},
     "output_type": "display_data"
    },
    {
     "data": {
      "application/vnd.jupyter.widget-view+json": {
       "model_id": "922232d3ee824d8ca9bacb0e1b2bbc5f",
       "version_major": 2,
       "version_minor": 0
      },
      "text/plain": [
       "Validation: |          | 0/? [00:00<?, ?it/s]"
      ]
     },
     "metadata": {},
     "output_type": "display_data"
    },
    {
     "data": {
      "application/vnd.jupyter.widget-view+json": {
       "model_id": "044c6704fcac476eab98170b1824bebd",
       "version_major": 2,
       "version_minor": 0
      },
      "text/plain": [
       "Validation: |          | 0/? [00:00<?, ?it/s]"
      ]
     },
     "metadata": {},
     "output_type": "display_data"
    },
    {
     "data": {
      "application/vnd.jupyter.widget-view+json": {
       "model_id": "f7d19cc39420447eb31a3baeaa696f70",
       "version_major": 2,
       "version_minor": 0
      },
      "text/plain": [
       "Validation: |          | 0/? [00:00<?, ?it/s]"
      ]
     },
     "metadata": {},
     "output_type": "display_data"
    },
    {
     "data": {
      "application/vnd.jupyter.widget-view+json": {
       "model_id": "6be3a87a45034f5ea53b7ef01a9d4892",
       "version_major": 2,
       "version_minor": 0
      },
      "text/plain": [
       "Validation: |          | 0/? [00:00<?, ?it/s]"
      ]
     },
     "metadata": {},
     "output_type": "display_data"
    },
    {
     "data": {
      "application/vnd.jupyter.widget-view+json": {
       "model_id": "c38fdcdc84bb472eaba5365e3a7950ca",
       "version_major": 2,
       "version_minor": 0
      },
      "text/plain": [
       "Validation: |          | 0/? [00:00<?, ?it/s]"
      ]
     },
     "metadata": {},
     "output_type": "display_data"
    },
    {
     "data": {
      "application/vnd.jupyter.widget-view+json": {
       "model_id": "16f141044f884414a9aab0605bf483a6",
       "version_major": 2,
       "version_minor": 0
      },
      "text/plain": [
       "Validation: |          | 0/? [00:00<?, ?it/s]"
      ]
     },
     "metadata": {},
     "output_type": "display_data"
    },
    {
     "data": {
      "application/vnd.jupyter.widget-view+json": {
       "model_id": "7c0b575ab7ef42f3b38504619bff290e",
       "version_major": 2,
       "version_minor": 0
      },
      "text/plain": [
       "Validation: |          | 0/? [00:00<?, ?it/s]"
      ]
     },
     "metadata": {},
     "output_type": "display_data"
    },
    {
     "name": "stderr",
     "output_type": "stream",
     "text": [
      "Time limit reached. Elapsed time is 0:10:00. Signaling Trainer to stop.\n"
     ]
    },
    {
     "data": {
      "application/vnd.jupyter.widget-view+json": {
       "model_id": "f0969e2633814e4d9c750e3e6dffb2dd",
       "version_major": 2,
       "version_minor": 0
      },
      "text/plain": [
       "Validation: |          | 0/? [00:00<?, ?it/s]"
      ]
     },
     "metadata": {},
     "output_type": "display_data"
    },
    {
     "name": "stderr",
     "output_type": "stream",
     "text": [
      "Seed set to 1\n",
      "LOCAL_RANK: 0 - CUDA_VISIBLE_DEVICES: [0]\n"
     ]
    },
    {
     "data": {
      "application/vnd.jupyter.widget-view+json": {
       "model_id": "3c421371aca14d26b9a9bc8b3c84acbe",
       "version_major": 2,
       "version_minor": 0
      },
      "text/plain": [
       "Testing: |          | 0/? [00:00<?, ?it/s]"
      ]
     },
     "metadata": {},
     "output_type": "display_data"
    },
    {
     "name": "stdout",
     "output_type": "stream",
     "text": [
      "────────────────────────────────────────────────────────────────────────────────────────────────────────────────────────\n",
      "       Test metric             DataLoader 0\n",
      "────────────────────────────────────────────────────────────────────────────────────────────────────────────────────────\n",
      "   test_cross_entropy       0.49903085827827454\n",
      "   test_expected_ndcg       0.6393864750862122\n",
      "   test_f1_interesting      0.4787987768650055\n",
      "    test_f1_standard        0.6881969571113586\n",
      "        test_ndcg           0.9288671016693115\n",
      "        test_rmse           0.27469775080680847\n",
      "    test_weighted_mse       0.11835694313049316\n",
      "────────────────────────────────────────────────────────────────────────────────────────────────────────────────────────\n"
     ]
    },
    {
     "data": {
      "text/plain": [
       "[{'test_cross_entropy': 0.49903085827827454,\n",
       "  'test_rmse': 0.27469775080680847,\n",
       "  'test_ndcg': 0.9288671016693115,\n",
       "  'test_expected_ndcg': 0.6393864750862122,\n",
       "  'test_f1_standard': 0.6881969571113586,\n",
       "  'test_f1_interesting': 0.4787987768650055,\n",
       "  'test_weighted_mse': 0.11835694313049316}]"
      ]
     },
     "execution_count": 28,
     "metadata": {},
     "output_type": "execute_result"
    }
   ],
   "source": [
    "reload(MD)\n",
    "distil_mse_3 = MD.DistilBertFinetuneOnWeightedMSE(n_emotions=3)\n",
    "trainer = make_trainer()\n",
    "if True:    \n",
    "  trainer.fit(\n",
    "    distil_mse_3,\n",
    "    datamodule=data_module_3,\n",
    "  )\n",
    "else:\n",
    "  distil_mse_3 = MD.DistilBertFinetuneOnWeightedMSE.load_from_checkpoint(\n",
    "    here(\"models/model_checkpoints/distil_bert_onWeightedMSE_3_10epchs.ckpt\"),\n",
    "    n_emotions=3,\n",
    "  )\n",
    "out = trainer.test(\n",
    "  distil_mse_3,\n",
    "  datamodule=data_module_3,\n",
    ")\n",
    "del distil_mse_3\n",
    "out"
   ]
  },
  {
   "cell_type": "markdown",
   "id": "4d52f1af",
   "metadata": {},
   "source": [
    "## 7 classes"
   ]
  },
  {
   "cell_type": "code",
   "execution_count": 29,
   "id": "dbf36c04",
   "metadata": {},
   "outputs": [
    {
     "name": "stderr",
     "output_type": "stream",
     "text": [
      "Some weights of DistilBertForSequenceClassification were not initialized from the model checkpoint at distilbert-base-uncased and are newly initialized: ['classifier.bias', 'classifier.weight', 'pre_classifier.bias', 'pre_classifier.weight']\n",
      "You should probably TRAIN this model on a down-stream task to be able to use it for predictions and inference.\n",
      "Using default `ModelCheckpoint`. Consider installing `litmodels` package to enable `LitModelCheckpoint` for automatic upload to the Lightning model registry.\n",
      "GPU available: True (cuda), used: True\n",
      "TPU available: False, using: 0 TPU cores\n",
      "HPU available: False, using: 0 HPUs\n",
      "Seed set to 1\n",
      "LOCAL_RANK: 0 - CUDA_VISIBLE_DEVICES: [0]\n",
      "\n",
      "  | Name           | Type                                | Params | Mode \n",
      "-------------------------------------------------------------------------------\n",
      "0 | model          | DistilBertForSequenceClassification | 67.0 M | eval \n",
      "1 | sigmoid        | Sigmoid                             | 0      | train\n",
      "2 | sig_loss       | BCEWithLogitsLoss                   | 0      | train\n",
      "3 | f1_standard    | MultilabelF1Score                   | 0      | train\n",
      "4 | f1_interesting | MultilabelF1Score                   | 0      | train\n",
      "5 | rmse           | MeanSquaredError                    | 0      | train\n",
      "6 | ndcg           | NDCG                                | 0      | train\n",
      "7 | expected_ndcg  | SoftRankExpectedNDCG                | 0      | train\n",
      "8 | weighted_mse   | ExponentialWeightedMSELoss          | 0      | train\n",
      "-------------------------------------------------------------------------------\n",
      "595 K     Trainable params\n",
      "66.4 M    Non-trainable params\n",
      "67.0 M    Total params\n",
      "267.835   Total estimated model params size (MB)\n",
      "9         Modules in train mode\n",
      "95        Modules in eval mode\n"
     ]
    },
    {
     "data": {
      "application/vnd.jupyter.widget-view+json": {
       "model_id": "c33902db36b642f6bc174f4a7c584614",
       "version_major": 2,
       "version_minor": 0
      },
      "text/plain": [
       "Sanity Checking: |          | 0/? [00:00<?, ?it/s]"
      ]
     },
     "metadata": {},
     "output_type": "display_data"
    },
    {
     "data": {
      "application/vnd.jupyter.widget-view+json": {
       "model_id": "4d97b7238c5f45738801797d55337f38",
       "version_major": 2,
       "version_minor": 0
      },
      "text/plain": [
       "Training: |          | 0/? [00:00<?, ?it/s]"
      ]
     },
     "metadata": {},
     "output_type": "display_data"
    },
    {
     "data": {
      "application/vnd.jupyter.widget-view+json": {
       "model_id": "132064c12ba749aba7588f48e4fb86f0",
       "version_major": 2,
       "version_minor": 0
      },
      "text/plain": [
       "Validation: |          | 0/? [00:00<?, ?it/s]"
      ]
     },
     "metadata": {},
     "output_type": "display_data"
    },
    {
     "data": {
      "application/vnd.jupyter.widget-view+json": {
       "model_id": "c5d93ccbf3c44c0d81562c0958332287",
       "version_major": 2,
       "version_minor": 0
      },
      "text/plain": [
       "Validation: |          | 0/? [00:00<?, ?it/s]"
      ]
     },
     "metadata": {},
     "output_type": "display_data"
    },
    {
     "data": {
      "application/vnd.jupyter.widget-view+json": {
       "model_id": "fdc65b179d90479591abf116810fc610",
       "version_major": 2,
       "version_minor": 0
      },
      "text/plain": [
       "Validation: |          | 0/? [00:00<?, ?it/s]"
      ]
     },
     "metadata": {},
     "output_type": "display_data"
    },
    {
     "data": {
      "application/vnd.jupyter.widget-view+json": {
       "model_id": "b89566a0bb1043beb61aba7db358ad0c",
       "version_major": 2,
       "version_minor": 0
      },
      "text/plain": [
       "Validation: |          | 0/? [00:00<?, ?it/s]"
      ]
     },
     "metadata": {},
     "output_type": "display_data"
    },
    {
     "data": {
      "application/vnd.jupyter.widget-view+json": {
       "model_id": "841335e0608643aaa6a273c6ba238723",
       "version_major": 2,
       "version_minor": 0
      },
      "text/plain": [
       "Validation: |          | 0/? [00:00<?, ?it/s]"
      ]
     },
     "metadata": {},
     "output_type": "display_data"
    },
    {
     "data": {
      "application/vnd.jupyter.widget-view+json": {
       "model_id": "917f6ea58e314baeb684d8deb6177217",
       "version_major": 2,
       "version_minor": 0
      },
      "text/plain": [
       "Validation: |          | 0/? [00:00<?, ?it/s]"
      ]
     },
     "metadata": {},
     "output_type": "display_data"
    },
    {
     "data": {
      "application/vnd.jupyter.widget-view+json": {
       "model_id": "67b6c6c0223343f498e01702579988b6",
       "version_major": 2,
       "version_minor": 0
      },
      "text/plain": [
       "Validation: |          | 0/? [00:00<?, ?it/s]"
      ]
     },
     "metadata": {},
     "output_type": "display_data"
    },
    {
     "data": {
      "application/vnd.jupyter.widget-view+json": {
       "model_id": "b2700d9334574ed2bad7c741c9bcab42",
       "version_major": 2,
       "version_minor": 0
      },
      "text/plain": [
       "Validation: |          | 0/? [00:00<?, ?it/s]"
      ]
     },
     "metadata": {},
     "output_type": "display_data"
    },
    {
     "data": {
      "application/vnd.jupyter.widget-view+json": {
       "model_id": "00ef0df0c9f743ffb97d43cc6f91c2ec",
       "version_major": 2,
       "version_minor": 0
      },
      "text/plain": [
       "Validation: |          | 0/? [00:00<?, ?it/s]"
      ]
     },
     "metadata": {},
     "output_type": "display_data"
    },
    {
     "data": {
      "application/vnd.jupyter.widget-view+json": {
       "model_id": "14541d945a7e496c80518014cb82d140",
       "version_major": 2,
       "version_minor": 0
      },
      "text/plain": [
       "Validation: |          | 0/? [00:00<?, ?it/s]"
      ]
     },
     "metadata": {},
     "output_type": "display_data"
    },
    {
     "data": {
      "application/vnd.jupyter.widget-view+json": {
       "model_id": "c3110df7ed94408eb62bd6f72bcea806",
       "version_major": 2,
       "version_minor": 0
      },
      "text/plain": [
       "Validation: |          | 0/? [00:00<?, ?it/s]"
      ]
     },
     "metadata": {},
     "output_type": "display_data"
    },
    {
     "data": {
      "application/vnd.jupyter.widget-view+json": {
       "model_id": "f0bdd04ddb8943bba29426e4fc90b617",
       "version_major": 2,
       "version_minor": 0
      },
      "text/plain": [
       "Validation: |          | 0/? [00:00<?, ?it/s]"
      ]
     },
     "metadata": {},
     "output_type": "display_data"
    },
    {
     "name": "stderr",
     "output_type": "stream",
     "text": [
      "Time limit reached. Elapsed time is 0:10:00. Signaling Trainer to stop.\n"
     ]
    },
    {
     "data": {
      "application/vnd.jupyter.widget-view+json": {
       "model_id": "c2f468d627944aa48e1529e6cf2f965d",
       "version_major": 2,
       "version_minor": 0
      },
      "text/plain": [
       "Validation: |          | 0/? [00:00<?, ?it/s]"
      ]
     },
     "metadata": {},
     "output_type": "display_data"
    },
    {
     "name": "stderr",
     "output_type": "stream",
     "text": [
      "Seed set to 1\n",
      "LOCAL_RANK: 0 - CUDA_VISIBLE_DEVICES: [0]\n"
     ]
    },
    {
     "data": {
      "application/vnd.jupyter.widget-view+json": {
       "model_id": "3aced5d72fc74a5c83de7ca4028bd2a1",
       "version_major": 2,
       "version_minor": 0
      },
      "text/plain": [
       "Testing: |          | 0/? [00:00<?, ?it/s]"
      ]
     },
     "metadata": {},
     "output_type": "display_data"
    },
    {
     "name": "stdout",
     "output_type": "stream",
     "text": [
      "────────────────────────────────────────────────────────────────────────────────────────────────────────────────────────\n",
      "       Test metric             DataLoader 0\n",
      "────────────────────────────────────────────────────────────────────────────────────────────────────────────────────────\n",
      "   test_cross_entropy       0.2991929352283478\n",
      "   test_expected_ndcg       0.42038047313690186\n",
      "   test_f1_interesting      0.26331737637519836\n",
      "    test_f1_standard        0.3369566798210144\n",
      "        test_ndcg           0.8842048645019531\n",
      "        test_rmse           0.20385445654392242\n",
      "    test_weighted_mse       0.06488624215126038\n",
      "────────────────────────────────────────────────────────────────────────────────────────────────────────────────────────\n"
     ]
    },
    {
     "data": {
      "text/plain": [
       "[{'test_cross_entropy': 0.2991929352283478,\n",
       "  'test_rmse': 0.20385445654392242,\n",
       "  'test_ndcg': 0.8842048645019531,\n",
       "  'test_expected_ndcg': 0.42038047313690186,\n",
       "  'test_f1_standard': 0.3369566798210144,\n",
       "  'test_f1_interesting': 0.26331737637519836,\n",
       "  'test_weighted_mse': 0.06488624215126038}]"
      ]
     },
     "execution_count": 29,
     "metadata": {},
     "output_type": "execute_result"
    }
   ],
   "source": [
    "reload(MD)\n",
    "distil_mse_7 = MD.DistilBertFinetuneOnWeightedMSE(n_emotions=7)\n",
    "trainer = make_trainer()\n",
    "if True:    \n",
    "  trainer.fit(\n",
    "    distil_mse_7,\n",
    "    datamodule=data_module_7,\n",
    "  )\n",
    "else:\n",
    "  distil_mse_7 = MD.DistilBertFinetuneOnWeightedMSE.load_from_checkpoint(\n",
    "    here(\"models/model_checkpoints/distil_bert_onWeightedMSE_7_10epchs.ckpt\"),\n",
    "    n_emotions=7,\n",
    "  )\n",
    "out = trainer.test(\n",
    "  distil_mse_7,\n",
    "  datamodule=data_module_7,\n",
    ")\n",
    "del distil_mse_7\n",
    "out"
   ]
  },
  {
   "cell_type": "markdown",
   "id": "f8d7c078",
   "metadata": {},
   "source": [
    "## 28 classes"
   ]
  },
  {
   "cell_type": "code",
   "execution_count": 30,
   "id": "9f28f20c",
   "metadata": {},
   "outputs": [
    {
     "name": "stderr",
     "output_type": "stream",
     "text": [
      "Some weights of DistilBertForSequenceClassification were not initialized from the model checkpoint at distilbert-base-uncased and are newly initialized: ['classifier.bias', 'classifier.weight', 'pre_classifier.bias', 'pre_classifier.weight']\n",
      "You should probably TRAIN this model on a down-stream task to be able to use it for predictions and inference.\n",
      "Using default `ModelCheckpoint`. Consider installing `litmodels` package to enable `LitModelCheckpoint` for automatic upload to the Lightning model registry.\n",
      "GPU available: True (cuda), used: True\n",
      "TPU available: False, using: 0 TPU cores\n",
      "HPU available: False, using: 0 HPUs\n",
      "Seed set to 1\n",
      "LOCAL_RANK: 0 - CUDA_VISIBLE_DEVICES: [0]\n",
      "\n",
      "  | Name           | Type                                | Params | Mode \n",
      "-------------------------------------------------------------------------------\n",
      "0 | model          | DistilBertForSequenceClassification | 67.0 M | eval \n",
      "1 | sigmoid        | Sigmoid                             | 0      | train\n",
      "2 | sig_loss       | BCEWithLogitsLoss                   | 0      | train\n",
      "3 | f1_standard    | MultilabelF1Score                   | 0      | train\n",
      "4 | f1_interesting | MultilabelF1Score                   | 0      | train\n",
      "5 | rmse           | MeanSquaredError                    | 0      | train\n",
      "6 | ndcg           | NDCG                                | 0      | train\n",
      "7 | expected_ndcg  | SoftRankExpectedNDCG                | 0      | train\n",
      "8 | weighted_mse   | ExponentialWeightedMSELoss          | 0      | train\n",
      "-------------------------------------------------------------------------------\n",
      "612 K     Trainable params\n",
      "66.4 M    Non-trainable params\n",
      "67.0 M    Total params\n",
      "267.900   Total estimated model params size (MB)\n",
      "9         Modules in train mode\n",
      "95        Modules in eval mode\n"
     ]
    },
    {
     "data": {
      "application/vnd.jupyter.widget-view+json": {
       "model_id": "9b545671240a43b2ab72bf035d28ad7f",
       "version_major": 2,
       "version_minor": 0
      },
      "text/plain": [
       "Sanity Checking: |          | 0/? [00:00<?, ?it/s]"
      ]
     },
     "metadata": {},
     "output_type": "display_data"
    },
    {
     "data": {
      "application/vnd.jupyter.widget-view+json": {
       "model_id": "0b8f12658c034b90acb62afc10c9eae6",
       "version_major": 2,
       "version_minor": 0
      },
      "text/plain": [
       "Training: |          | 0/? [00:00<?, ?it/s]"
      ]
     },
     "metadata": {},
     "output_type": "display_data"
    },
    {
     "data": {
      "application/vnd.jupyter.widget-view+json": {
       "model_id": "f6b912ee4b8549c9b2945f587c153917",
       "version_major": 2,
       "version_minor": 0
      },
      "text/plain": [
       "Validation: |          | 0/? [00:00<?, ?it/s]"
      ]
     },
     "metadata": {},
     "output_type": "display_data"
    },
    {
     "data": {
      "application/vnd.jupyter.widget-view+json": {
       "model_id": "e62946ab10fd4945bfbcf7abd59fe3d6",
       "version_major": 2,
       "version_minor": 0
      },
      "text/plain": [
       "Validation: |          | 0/? [00:00<?, ?it/s]"
      ]
     },
     "metadata": {},
     "output_type": "display_data"
    },
    {
     "data": {
      "application/vnd.jupyter.widget-view+json": {
       "model_id": "26d50f73504b4b5c8a4e7ed2f4fd58df",
       "version_major": 2,
       "version_minor": 0
      },
      "text/plain": [
       "Validation: |          | 0/? [00:00<?, ?it/s]"
      ]
     },
     "metadata": {},
     "output_type": "display_data"
    },
    {
     "data": {
      "application/vnd.jupyter.widget-view+json": {
       "model_id": "d7f5470db5744d859dcdbcd04c6e96d9",
       "version_major": 2,
       "version_minor": 0
      },
      "text/plain": [
       "Validation: |          | 0/? [00:00<?, ?it/s]"
      ]
     },
     "metadata": {},
     "output_type": "display_data"
    },
    {
     "data": {
      "application/vnd.jupyter.widget-view+json": {
       "model_id": "fbc0f9d3d9714f41bb5fcb9575cca9b7",
       "version_major": 2,
       "version_minor": 0
      },
      "text/plain": [
       "Validation: |          | 0/? [00:00<?, ?it/s]"
      ]
     },
     "metadata": {},
     "output_type": "display_data"
    },
    {
     "data": {
      "application/vnd.jupyter.widget-view+json": {
       "model_id": "0d9cc0f27db844beb1be716b41d256ea",
       "version_major": 2,
       "version_minor": 0
      },
      "text/plain": [
       "Validation: |          | 0/? [00:00<?, ?it/s]"
      ]
     },
     "metadata": {},
     "output_type": "display_data"
    },
    {
     "data": {
      "application/vnd.jupyter.widget-view+json": {
       "model_id": "2a555a8a9eb346e5a03bd9e301eb2d3b",
       "version_major": 2,
       "version_minor": 0
      },
      "text/plain": [
       "Validation: |          | 0/? [00:00<?, ?it/s]"
      ]
     },
     "metadata": {},
     "output_type": "display_data"
    },
    {
     "data": {
      "application/vnd.jupyter.widget-view+json": {
       "model_id": "8f6baf72909b420fb5cb98d9407f3961",
       "version_major": 2,
       "version_minor": 0
      },
      "text/plain": [
       "Validation: |          | 0/? [00:00<?, ?it/s]"
      ]
     },
     "metadata": {},
     "output_type": "display_data"
    },
    {
     "data": {
      "application/vnd.jupyter.widget-view+json": {
       "model_id": "900fab5b1ece488593f2bf852366f3a4",
       "version_major": 2,
       "version_minor": 0
      },
      "text/plain": [
       "Validation: |          | 0/? [00:00<?, ?it/s]"
      ]
     },
     "metadata": {},
     "output_type": "display_data"
    },
    {
     "data": {
      "application/vnd.jupyter.widget-view+json": {
       "model_id": "3f3d9a6f56b046c2aeee051d98a3e0ff",
       "version_major": 2,
       "version_minor": 0
      },
      "text/plain": [
       "Validation: |          | 0/? [00:00<?, ?it/s]"
      ]
     },
     "metadata": {},
     "output_type": "display_data"
    },
    {
     "data": {
      "application/vnd.jupyter.widget-view+json": {
       "model_id": "1cb2a6e5fa7843e1988071ae273e5ad8",
       "version_major": 2,
       "version_minor": 0
      },
      "text/plain": [
       "Validation: |          | 0/? [00:00<?, ?it/s]"
      ]
     },
     "metadata": {},
     "output_type": "display_data"
    },
    {
     "data": {
      "application/vnd.jupyter.widget-view+json": {
       "model_id": "b14877cc3c264c339183f2e1ab923344",
       "version_major": 2,
       "version_minor": 0
      },
      "text/plain": [
       "Validation: |          | 0/? [00:00<?, ?it/s]"
      ]
     },
     "metadata": {},
     "output_type": "display_data"
    },
    {
     "name": "stderr",
     "output_type": "stream",
     "text": [
      "Time limit reached. Elapsed time is 0:10:00. Signaling Trainer to stop.\n"
     ]
    },
    {
     "data": {
      "application/vnd.jupyter.widget-view+json": {
       "model_id": "8470ef97d7ed4ec1b254232eca695f53",
       "version_major": 2,
       "version_minor": 0
      },
      "text/plain": [
       "Validation: |          | 0/? [00:00<?, ?it/s]"
      ]
     },
     "metadata": {},
     "output_type": "display_data"
    },
    {
     "name": "stderr",
     "output_type": "stream",
     "text": [
      "Seed set to 1\n",
      "LOCAL_RANK: 0 - CUDA_VISIBLE_DEVICES: [0]\n"
     ]
    },
    {
     "data": {
      "application/vnd.jupyter.widget-view+json": {
       "model_id": "a6cf70460dc445058c3bc31125f60009",
       "version_major": 2,
       "version_minor": 0
      },
      "text/plain": [
       "Testing: |          | 0/? [00:00<?, ?it/s]"
      ]
     },
     "metadata": {},
     "output_type": "display_data"
    },
    {
     "name": "stdout",
     "output_type": "stream",
     "text": [
      "────────────────────────────────────────────────────────────────────────────────────────────────────────────────────────\n",
      "       Test metric             DataLoader 0\n",
      "────────────────────────────────────────────────────────────────────────────────────────────────────────────────────────\n",
      "   test_cross_entropy        0.123904287815094\n",
      "   test_expected_ndcg       0.27411314845085144\n",
      "   test_f1_interesting      0.10319603234529495\n",
      "    test_f1_standard        0.1515606939792633\n",
      "        test_ndcg           0.7988713383674622\n",
      "        test_rmse           0.11677639931440353\n",
      "    test_weighted_mse      0.021610287949442863\n",
      "────────────────────────────────────────────────────────────────────────────────────────────────────────────────────────\n"
     ]
    },
    {
     "data": {
      "text/plain": [
       "[{'test_cross_entropy': 0.123904287815094,\n",
       "  'test_rmse': 0.11677639931440353,\n",
       "  'test_ndcg': 0.7988713383674622,\n",
       "  'test_expected_ndcg': 0.27411314845085144,\n",
       "  'test_f1_standard': 0.1515606939792633,\n",
       "  'test_f1_interesting': 0.10319603234529495,\n",
       "  'test_weighted_mse': 0.021610287949442863}]"
      ]
     },
     "execution_count": 30,
     "metadata": {},
     "output_type": "execute_result"
    }
   ],
   "source": [
    "reload(MD)\n",
    "distil_mse_28 = MD.DistilBertFinetuneOnWeightedMSE(n_emotions=28)\n",
    "trainer = make_trainer()\n",
    "if True:    \n",
    "  trainer.fit(\n",
    "    distil_mse_28,\n",
    "    datamodule=data_module_28,\n",
    "  )\n",
    "else:\n",
    "  distil_mse_28 = MD.DistilBertFinetuneOnWeightedMSE.load_from_checkpoint(\n",
    "    here(\"models/model_checkpoints/distil_bert_onWeightedMSE_28_10epchs.ckpt\"),\n",
    "    n_emotions=28,\n",
    "  )\n",
    "out = trainer.test(\n",
    "  distil_mse_28,\n",
    "  datamodule=data_module_28,\n",
    ")\n",
    "out"
   ]
  },
  {
   "cell_type": "code",
   "execution_count": 31,
   "id": "42739ff7",
   "metadata": {},
   "outputs": [
    {
     "name": "stderr",
     "output_type": "stream",
     "text": [
      "Seed set to 1\n",
      "LOCAL_RANK: 0 - CUDA_VISIBLE_DEVICES: [0]\n"
     ]
    },
    {
     "data": {
      "application/vnd.jupyter.widget-view+json": {
       "model_id": "0810884117b44e4db3e37a0e945f71f1",
       "version_major": 2,
       "version_minor": 0
      },
      "text/plain": [
       "Predicting: |          | 0/? [00:00<?, ?it/s]"
      ]
     },
     "metadata": {},
     "output_type": "display_data"
    },
    {
     "data": {
      "text/plain": [
       "[tensor([[3.5239e-03, 1.6392e-02, 9.8768e-01, 8.2411e-04, 2.1077e-03, 6.3017e-04,\n",
       "          6.7506e-04, 1.2191e-03, 1.3350e-01, 2.5191e-03, 9.6264e-04, 5.4991e-04,\n",
       "          7.6713e-03, 6.0305e-04, 4.3823e-03, 3.4822e-03, 3.5347e-02, 4.5326e-04,\n",
       "          2.4907e-02, 1.4430e-04, 2.3408e-05, 2.2928e-03, 1.0280e-03, 9.5675e-05,\n",
       "          7.3961e-04, 4.4530e-03, 2.7909e-05, 2.0162e-04]])]"
      ]
     },
     "execution_count": 31,
     "metadata": {},
     "output_type": "execute_result"
    }
   ],
   "source": [
    "# test sample\n",
    "trainer.predict(\n",
    "  distil_mse_28,\n",
    "  [\"I Love this\"],\n",
    ")"
   ]
  },
  {
   "cell_type": "code",
   "execution_count": 32,
   "id": "ba3a016a",
   "metadata": {},
   "outputs": [
    {
     "data": {
      "text/plain": [
       "Index(['id', 'text', 'n_raters', 'emotions', 'author', 'subreddit', 'link_id',\n",
       "       'parent_id', 'created_utc', 'emotion_sadness', 'emotion_unclear',\n",
       "       'emotion_love', 'emotion_gratitude', 'emotion_disapproval',\n",
       "       'emotion_amusement', 'emotion_disappointment', 'emotion_disgust',\n",
       "       'emotion_admiration', 'emotion_realization', 'emotion_annoyance',\n",
       "       'emotion_confusion', 'emotion_optimism', 'emotion_curiosity',\n",
       "       'emotion_excitement', 'emotion_caring', 'emotion_joy',\n",
       "       'emotion_remorse', 'emotion_approval', 'emotion_nervousness',\n",
       "       'emotion_embarrassment', 'emotion_surprise', 'emotion_anger',\n",
       "       'emotion_grief', 'emotion_pride', 'emotion_desire', 'emotion_relief',\n",
       "       'emotion_fear'],\n",
       "      dtype='object')"
      ]
     },
     "execution_count": 32,
     "metadata": {},
     "output_type": "execute_result"
    }
   ],
   "source": [
    "del distil_mse_28\n",
    "pd.read_parquet(here(\"data/goemotions_28.parquet\")).columns"
   ]
  }
 ],
 "metadata": {
  "kernelspec": {
   "display_name": "gpu",
   "language": "python",
   "name": "python3"
  },
  "language_info": {
   "codemirror_mode": {
    "name": "ipython",
    "version": 3
   },
   "file_extension": ".py",
   "mimetype": "text/x-python",
   "name": "python",
   "nbconvert_exporter": "python",
   "pygments_lexer": "ipython3",
   "version": "3.13.3"
  }
 },
 "nbformat": 4,
 "nbformat_minor": 5
}
