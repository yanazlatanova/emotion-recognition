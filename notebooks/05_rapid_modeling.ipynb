{
 "cells": [
  {
   "cell_type": "code",
   "execution_count": null,
   "id": "ea84244b",
   "metadata": {},
   "outputs": [],
   "source": [
    "import lightning as L\n",
    "from importlib import reload\n",
    "\n",
    "import sys\n",
    "from pyprojroot import here\n",
    "sys.path.append(str(here()))\n",
    "from models import model_definitions as MD"
   ]
  },
  {
   "cell_type": "code",
   "execution_count": null,
   "id": "b99a31c9",
   "metadata": {},
   "outputs": [],
   "source": [
    "reload(MD)\n",
    "distil_3 = MD.DistilBertFinetune.load_from_checkpoint(here(\"models/model_checkpoints/distil_bert_finetuned_3.ckpt\"))"
   ]
  }
 ],
 "metadata": {
  "kernelspec": {
   "display_name": "gpu",
   "language": "python",
   "name": "python3"
  },
  "language_info": {
   "name": "python",
   "version": "3.13.3"
  }
 },
 "nbformat": 4,
 "nbformat_minor": 5
}
