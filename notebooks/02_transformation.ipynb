{
 "cells": [
  {
   "cell_type": "code",
   "execution_count": 1,
   "id": "db444675",
   "metadata": {
    "vscode": {
     "languageId": "r"
    }
   },
   "outputs": [
    {
     "name": "stderr",
     "output_type": "stream",
     "text": [
      "\n",
      "Attaching package: 'dplyr'\n",
      "\n",
      "\n",
      "The following objects are masked from 'package:stats':\n",
      "\n",
      "    filter, lag\n",
      "\n",
      "\n",
      "The following objects are masked from 'package:base':\n",
      "\n",
      "    intersect, setdiff, setequal, union\n",
      "\n",
      "\n",
      "here() starts at C:/Users/plancha/emotion-recognition\n",
      "\n",
      "The tzdb package is not installed. Timezones will not be available to Arrow compute functions.\n",
      "\n",
      "\n",
      "Attaching package: 'arrow'\n",
      "\n",
      "\n",
      "The following object is masked from 'package:utils':\n",
      "\n",
      "    timestamp\n",
      "\n",
      "\n",
      "\u001b[1m\u001b[22m\u001b[90m[conflicted]\u001b[39m Will prefer \u001b[1m\u001b[34mdplyr\u001b[39m\u001b[22m::filter over any other package.\n"
     ]
    },
    {
     "data": {
      "text/html": [
       "<table class=\"dataframe\">\n",
       "<caption>A tibble: 6 × 10</caption>\n",
       "<thead>\n",
       "\t<tr><th scope=col>text</th><th scope=col>id</th><th scope=col>author</th><th scope=col>subreddit</th><th scope=col>link_id</th><th scope=col>parent_id</th><th scope=col>created_utc</th><th scope=col>rater_id</th><th scope=col>example_very_unclear</th><th scope=col>decoded</th></tr>\n",
       "\t<tr><th scope=col>&lt;chr&gt;</th><th scope=col>&lt;chr&gt;</th><th scope=col>&lt;chr&gt;</th><th scope=col>&lt;chr&gt;</th><th scope=col>&lt;chr&gt;</th><th scope=col>&lt;chr&gt;</th><th scope=col>&lt;dttm&gt;</th><th scope=col>&lt;dbl&gt;</th><th scope=col>&lt;lgl&gt;</th><th scope=col>&lt;list&lt;character&gt;&gt;</th></tr>\n",
       "</thead>\n",
       "<tbody>\n",
       "\t<tr><td>That game hurt.                                                                                                                        </td><td>eew5j0j</td><td>Brdd9              </td><td>nrl                </td><td>t3_ajis4z</td><td>t1_eew18eq</td><td>2019-01-25 01:50:39</td><td> 1</td><td>FALSE</td><td>sadness</td></tr>\n",
       "\t<tr><td><span style=white-space:pre-wrap>&gt;sexuality shouldn’t be a grouping category It makes you different from othet ppl so imo it fits the definition of \"grouping\"          </span></td><td>eemcysk</td><td><span style=white-space:pre-wrap>TheGreen888        </span></td><td><span style=white-space:pre-wrap>unpopularopinion   </span></td><td>t3_ai4q37</td><td>t3_ai4q37 </td><td>2019-01-21 15:22:49</td><td>37</td><td> TRUE</td><td></td></tr>\n",
       "\t<tr><td>You do right, if you don't care then fuck 'em!                                                                                         </td><td>ed2mah1</td><td>Labalool           </td><td>confessions        </td><td>t3_abru74</td><td>t1_ed2m7g7</td><td>2019-01-02 11:15:44</td><td>37</td><td>FALSE</td><td>neutral</td></tr>\n",
       "\t<tr><td>Man I love reddit.                                                                                                                     </td><td>eeibobj</td><td>MrsRobertshaw      </td><td>facepalm           </td><td>t3_ahulml</td><td>t3_ahulml </td><td>2019-01-20 06:17:34</td><td>18</td><td>FALSE</td><td>love</td></tr>\n",
       "\t<tr><td>[NAME] was nowhere near them, he was by the Falcon.                                                                                    </td><td>eda6yn6</td><td>American_Fascist713</td><td>starwarsspeculation</td><td>t3_ackt2f</td><td>t1_eda65q2</td><td>2019-01-05 06:10:01</td><td> 2</td><td>FALSE</td><td>neutral</td></tr>\n",
       "\t<tr><td>Right? Considering it’s such an important document, I should know the damned thing backwards and forwards... thanks again for the help!</td><td>eespn2i</td><td>ImperialBoss       </td><td>TrueReddit         </td><td>t3_aizyuz</td><td>t1_eesoak0</td><td>2019-01-23 21:50:08</td><td>61</td><td>FALSE</td><td>gratitude</td></tr>\n",
       "</tbody>\n",
       "</table>\n"
      ],
      "text/latex": [
       "A tibble: 6 × 10\n",
       "\\begin{tabular}{llllllllll}\n",
       " text & id & author & subreddit & link\\_id & parent\\_id & created\\_utc & rater\\_id & example\\_very\\_unclear & decoded\\\\\n",
       " <chr> & <chr> & <chr> & <chr> & <chr> & <chr> & <dttm> & <dbl> & <lgl> & <list<character>>\\\\\n",
       "\\hline\n",
       "\t That game hurt.                                                                                                                         & eew5j0j & Brdd9               & nrl                 & t3\\_ajis4z & t1\\_eew18eq & 2019-01-25 01:50:39 &  1 & FALSE & sadness\\\\\n",
       "\t >sexuality shouldn’t be a grouping category It makes you different from othet ppl so imo it fits the definition of \"grouping\"           & eemcysk & TheGreen888         & unpopularopinion    & t3\\_ai4q37 & t3\\_ai4q37  & 2019-01-21 15:22:49 & 37 &  TRUE & \\\\\n",
       "\t You do right, if you don't care then fuck 'em!                                                                                          & ed2mah1 & Labalool            & confessions         & t3\\_abru74 & t1\\_ed2m7g7 & 2019-01-02 11:15:44 & 37 & FALSE & neutral\\\\\n",
       "\t Man I love reddit.                                                                                                                      & eeibobj & MrsRobertshaw       & facepalm            & t3\\_ahulml & t3\\_ahulml  & 2019-01-20 06:17:34 & 18 & FALSE & love\\\\\n",
       "\t {[}NAME{]} was nowhere near them, he was by the Falcon.                                                                                     & eda6yn6 & American\\_Fascist713 & starwarsspeculation & t3\\_ackt2f & t1\\_eda65q2 & 2019-01-05 06:10:01 &  2 & FALSE & neutral\\\\\n",
       "\t Right? Considering it’s such an important document, I should know the damned thing backwards and forwards... thanks again for the help! & eespn2i & ImperialBoss        & TrueReddit          & t3\\_aizyuz & t1\\_eesoak0 & 2019-01-23 21:50:08 & 61 & FALSE & gratitude\\\\\n",
       "\\end{tabular}\n"
      ],
      "text/markdown": [
       "\n",
       "A tibble: 6 × 10\n",
       "\n",
       "| text &lt;chr&gt; | id &lt;chr&gt; | author &lt;chr&gt; | subreddit &lt;chr&gt; | link_id &lt;chr&gt; | parent_id &lt;chr&gt; | created_utc &lt;dttm&gt; | rater_id &lt;dbl&gt; | example_very_unclear &lt;lgl&gt; | decoded &lt;list&lt;character&gt;&gt; |\n",
       "|---|---|---|---|---|---|---|---|---|---|\n",
       "| That game hurt.                                                                                                                         | eew5j0j | Brdd9               | nrl                 | t3_ajis4z | t1_eew18eq | 2019-01-25 01:50:39 |  1 | FALSE | sadness |\n",
       "| &gt;sexuality shouldn’t be a grouping category It makes you different from othet ppl so imo it fits the definition of \"grouping\"           | eemcysk | TheGreen888         | unpopularopinion    | t3_ai4q37 | t3_ai4q37  | 2019-01-21 15:22:49 | 37 |  TRUE | <!----> |\n",
       "| You do right, if you don't care then fuck 'em!                                                                                          | ed2mah1 | Labalool            | confessions         | t3_abru74 | t1_ed2m7g7 | 2019-01-02 11:15:44 | 37 | FALSE | neutral |\n",
       "| Man I love reddit.                                                                                                                      | eeibobj | MrsRobertshaw       | facepalm            | t3_ahulml | t3_ahulml  | 2019-01-20 06:17:34 | 18 | FALSE | love |\n",
       "| [NAME] was nowhere near them, he was by the Falcon.                                                                                     | eda6yn6 | American_Fascist713 | starwarsspeculation | t3_ackt2f | t1_eda65q2 | 2019-01-05 06:10:01 |  2 | FALSE | neutral |\n",
       "| Right? Considering it’s such an important document, I should know the damned thing backwards and forwards... thanks again for the help! | eespn2i | ImperialBoss        | TrueReddit          | t3_aizyuz | t1_eesoak0 | 2019-01-23 21:50:08 | 61 | FALSE | gratitude |\n",
       "\n"
      ],
      "text/plain": [
       "  text                                                                                                                                   \n",
       "1 That game hurt.                                                                                                                        \n",
       "2 >sexuality shouldn’t be a grouping category It makes you different from othet ppl so imo it fits the definition of \"grouping\"          \n",
       "3 You do right, if you don't care then fuck 'em!                                                                                         \n",
       "4 Man I love reddit.                                                                                                                     \n",
       "5 [NAME] was nowhere near them, he was by the Falcon.                                                                                    \n",
       "6 Right? Considering it’s such an important document, I should know the damned thing backwards and forwards... thanks again for the help!\n",
       "  id      author              subreddit           link_id   parent_id \n",
       "1 eew5j0j Brdd9               nrl                 t3_ajis4z t1_eew18eq\n",
       "2 eemcysk TheGreen888         unpopularopinion    t3_ai4q37 t3_ai4q37 \n",
       "3 ed2mah1 Labalool            confessions         t3_abru74 t1_ed2m7g7\n",
       "4 eeibobj MrsRobertshaw       facepalm            t3_ahulml t3_ahulml \n",
       "5 eda6yn6 American_Fascist713 starwarsspeculation t3_ackt2f t1_eda65q2\n",
       "6 eespn2i ImperialBoss        TrueReddit          t3_aizyuz t1_eesoak0\n",
       "  created_utc         rater_id example_very_unclear decoded  \n",
       "1 2019-01-25 01:50:39  1       FALSE                sadness  \n",
       "2 2019-01-21 15:22:49 37        TRUE                         \n",
       "3 2019-01-02 11:15:44 37       FALSE                neutral  \n",
       "4 2019-01-20 06:17:34 18       FALSE                love     \n",
       "5 2019-01-05 06:10:01  2       FALSE                neutral  \n",
       "6 2019-01-23 21:50:08 61       FALSE                gratitude"
      ]
     },
     "metadata": {},
     "output_type": "display_data"
    }
   ],
   "source": [
    "library(dplyr)\n",
    "library(here)\n",
    "library(arrow)\n",
    "library(conflicted)\n",
    "conflicts_prefer(dplyr::filter)\n",
    "\n",
    "df <- here(\"data\", \"goemotions_decoded.feather\") %>%\n",
    "  read_feather() %>% \n",
    "  mutate(created_utc = as.POSIXct(created_utc, origin = \"1970-01-01\", tz = \"UTC\"))\n",
    "df %>% head"
   ]
  },
  {
   "cell_type": "markdown",
   "id": "8bddda8f",
   "metadata": {},
   "source": [
    "# Replace unclear with neutral\n",
    "\n",
    "because that's what raters were asked to do; additionally, rename neutral"
   ]
  },
  {
   "cell_type": "code",
   "execution_count": 2,
   "id": "22e67264",
   "metadata": {
    "vscode": {
     "languageId": "r"
    }
   },
   "outputs": [
    {
     "name": "stdout",
     "output_type": "stream",
     "text": [
      "\u001b[90m# A tibble: 211,225 × 10\u001b[39m\n",
      "   text    id    author subreddit link_id parent_id created_utc         rater_id\n",
      "   \u001b[3m\u001b[90m<chr>\u001b[39m\u001b[23m   \u001b[3m\u001b[90m<chr>\u001b[39m\u001b[23m \u001b[3m\u001b[90m<chr>\u001b[39m\u001b[23m  \u001b[3m\u001b[90m<chr>\u001b[39m\u001b[23m     \u001b[3m\u001b[90m<chr>\u001b[39m\u001b[23m   \u001b[3m\u001b[90m<chr>\u001b[39m\u001b[23m     \u001b[3m\u001b[90m<dttm>\u001b[39m\u001b[23m                 \u001b[3m\u001b[90m<dbl>\u001b[39m\u001b[23m\n",
      "\u001b[90m 1\u001b[39m \u001b[90m\"\u001b[39mThat … eew5… Brdd9  nrl       t3_aji… t1_eew18… 2019-01-25 \u001b[90m01:50:39\u001b[39m        1\n",
      "\u001b[90m 2\u001b[39m \u001b[90m\"\u001b[39m>sexu… eemc… TheGr… unpopula… t3_ai4… t3_ai4q37 2019-01-21 \u001b[90m15:22:49\u001b[39m       37\n",
      "\u001b[90m 3\u001b[39m \u001b[90m\"\u001b[39mYou d… ed2m… Labal… confessi… t3_abr… t1_ed2m7… 2019-01-02 \u001b[90m11:15:44\u001b[39m       37\n",
      "\u001b[90m 4\u001b[39m \u001b[90m\"\u001b[39mMan I… eeib… MrsRo… facepalm  t3_ahu… t3_ahulml 2019-01-20 \u001b[90m06:17:34\u001b[39m       18\n",
      "\u001b[90m 5\u001b[39m \u001b[90m\"\u001b[39m[NAME… eda6… Ameri… starwars… t3_ack… t1_eda65… 2019-01-05 \u001b[90m06:10:01\u001b[39m        2\n",
      "\u001b[90m 6\u001b[39m \u001b[90m\"\u001b[39mRight… eesp… Imper… TrueRedd… t3_aiz… t1_eesoa… 2019-01-23 \u001b[90m21:50:08\u001b[39m       61\n",
      "\u001b[90m 7\u001b[39m \u001b[90m\"\u001b[39mHe is… eczu… Ralli… cringe    t3_abe… t1_eczsm… 2019-01-01 \u001b[90m05:21:16\u001b[39m        3\n",
      "\u001b[90m 8\u001b[39m \u001b[90m\"\u001b[39mThat'… ed5t… Beach… TeenMomO… t3_ac1… t1_ed5tf… 2019-01-03 \u001b[90m17:22:38\u001b[39m       23\n",
      "\u001b[90m 9\u001b[39m \u001b[90m\"\u001b[39mthat'… ef96… RedRa… traaaaaa… t3_akz… t3_akz2ia 2019-01-29 \u001b[90m12:05:43\u001b[39m       73\n",
      "\u001b[90m10\u001b[39m \u001b[90m\"\u001b[39m\\\"Spo… edl7… Tiagu… youtubeh… t3_acu… t1_edc21… 2019-01-08 \u001b[90m21:38:34\u001b[39m       54\n",
      "\u001b[90m# ℹ 211,215 more rows\u001b[39m\n",
      "\u001b[90m# ℹ 2 more variables: example_very_unclear <lgl>, decoded <list>\u001b[39m\n"
     ]
    }
   ],
   "source": [
    "library(tidyr)\n",
    "library(purrr)\n",
    "library(forcats)\n",
    "\n",
    "df %>% \n",
    "  mutate(decoded = decoded %>% as.list) %>%\n",
    "  rowwise() %>%  \n",
    "  mutate(decoded = if_else(example_very_unclear, list(\"neutral\"), list(decoded))) %>% \n",
    "  mutate(decoded = decoded %>% unlist() %>% ifelse(. == \"neutral\", \"unclear\", no=.) %>% list()) %>% \n",
    "  ungroup() -> df_n\n",
    "df_n %>% print"
   ]
  },
  {
   "cell_type": "markdown",
   "id": "11e9e7eb",
   "metadata": {},
   "source": [
    "# Add new classes\n",
    "add new classes based on the following:\n",
    "\n",
    "- ekman\n",
    "```json\n",
    "{\n",
    "\"anger\": [\"anger\", \"annoyance\", \"disapproval\"],\n",
    "\"disgust\": [\"disgust\"],\n",
    "\"fear\": [\"fear\", \"nervousness\"],\n",
    "\"joy\": [\"joy\", \"amusement\", \"approval\", \"excitement\", \"gratitude\",  \"love\", \"optimism\", \"relief\", \"pride\", \"admiration\", \"desire\", \"caring\"],\n",
    "\"sadness\": [\"sadness\", \"disappointment\", \"embarrassment\", \"grief\",  \"remorse\"],\n",
    "\"surprise\": [\"surprise\", \"realization\", \"confusion\", \"curiosity\"]\n",
    "}\n",
    "```\n",
    "- other (forgot the name)\n",
    "```json\n",
    "{\n",
    "\"positive\": [\"amusement\", \"excitement\", \"joy\", \"love\", \"desire\", \"optimism\", \"caring\", \"pride\", \"admiration\", \"gratitude\", \"relief\", \"approval\"],\n",
    "\"negative\": [\"fear\", \"nervousness\", \"remorse\", \"embarrassment\", \"disappointment\", \"sadness\", \"grief\", \"disgust\", \"anger\", \"annoyance\", \"disapproval\"],\n",
    "\"ambiguous\": [\"realization\", \"surprise\", \"curiosity\", \"confusion\"]\n",
    "}\n",
    "```"
   ]
  },
  {
   "cell_type": "code",
   "execution_count": 3,
   "id": "18bf104d",
   "metadata": {
    "vscode": {
     "languageId": "r"
    }
   },
   "outputs": [
    {
     "name": "stdout",
     "output_type": "stream",
     "text": [
      "\u001b[90m# A tibble: 211,225 × 30\u001b[39m\n",
      "   text  emotions emotion_sadness emotion_unclear emotion_love emotion_gratitude\n",
      "   \u001b[3m\u001b[90m<chr>\u001b[39m\u001b[23m \u001b[3m\u001b[90m<list>\u001b[39m\u001b[23m             \u001b[3m\u001b[90m<dbl>\u001b[39m\u001b[23m           \u001b[3m\u001b[90m<dbl>\u001b[39m\u001b[23m        \u001b[3m\u001b[90m<dbl>\u001b[39m\u001b[23m             \u001b[3m\u001b[90m<dbl>\u001b[39m\u001b[23m\n",
      "\u001b[90m 1\u001b[39m \u001b[90m\"\u001b[39mTha… \u001b[90m<chr>\u001b[39m                  1               0            0                 0\n",
      "\u001b[90m 2\u001b[39m \u001b[90m\"\u001b[39m>se… \u001b[90m<chr>\u001b[39m                  0               1            0                 0\n",
      "\u001b[90m 3\u001b[39m \u001b[90m\"\u001b[39mYou… \u001b[90m<chr>\u001b[39m                  0               1            0                 0\n",
      "\u001b[90m 4\u001b[39m \u001b[90m\"\u001b[39mMan… \u001b[90m<chr>\u001b[39m                  0               0            1                 0\n",
      "\u001b[90m 5\u001b[39m \u001b[90m\"\u001b[39m[NA… \u001b[90m<chr>\u001b[39m                  0               1            0                 0\n",
      "\u001b[90m 6\u001b[39m \u001b[90m\"\u001b[39mRig… \u001b[90m<chr>\u001b[39m                  0               0            0                 1\n",
      "\u001b[90m 7\u001b[39m \u001b[90m\"\u001b[39mHe … \u001b[90m<chr>\u001b[39m                  0               0            0                 0\n",
      "\u001b[90m 8\u001b[39m \u001b[90m\"\u001b[39mTha… \u001b[90m<chr>\u001b[39m                  0               0            0                 0\n",
      "\u001b[90m 9\u001b[39m \u001b[90m\"\u001b[39mtha… \u001b[90m<chr>\u001b[39m                  0               0            0                 0\n",
      "\u001b[90m10\u001b[39m \u001b[90m\"\u001b[39m\\\"S… \u001b[90m<chr>\u001b[39m                  0               0            0                 0\n",
      "\u001b[90m# ℹ 211,215 more rows\u001b[39m\n",
      "\u001b[90m# ℹ 24 more variables: emotion_disapproval <dbl>, emotion_amusement <dbl>,\u001b[39m\n",
      "\u001b[90m#   emotion_disappointment <dbl>, emotion_disgust <dbl>,\u001b[39m\n",
      "\u001b[90m#   emotion_admiration <dbl>, emotion_realization <dbl>,\u001b[39m\n",
      "\u001b[90m#   emotion_annoyance <dbl>, emotion_confusion <dbl>, emotion_optimism <dbl>,\u001b[39m\n",
      "\u001b[90m#   emotion_curiosity <dbl>, emotion_excitement <dbl>, emotion_caring <dbl>,\u001b[39m\n",
      "\u001b[90m#   emotion_joy <dbl>, emotion_remorse <dbl>, emotion_approval <dbl>, …\u001b[39m\n"
     ]
    }
   ],
   "source": [
    "library(tidyr)\n",
    "library(purrr)\n",
    "df_n %>% \n",
    "  mutate(\n",
    "    emotions = decoded\n",
    "  ) %>% \n",
    "  unnest(decoded) %>% \n",
    "  mutate(value = 1) %>% \n",
    "  pivot_wider(\n",
    "    names_from = decoded,\n",
    "    values_from = value,\n",
    "    values_fill = 0,\n",
    "    names_prefix = \"emotion_\"\n",
    "  ) %>% \n",
    "  select(-example_very_unclear) -> df_ne\n",
    "df_ne %>% select(text, emotions, starts_with(\"emotion_\")) %>% print"
   ]
  },
  {
   "cell_type": "code",
   "execution_count": 4,
   "id": "d092f72c",
   "metadata": {
    "vscode": {
     "languageId": "r"
    }
   },
   "outputs": [
    {
     "name": "stdout",
     "output_type": "stream",
     "text": [
      "\u001b[90m# A tibble: 211,225 × 30\u001b[39m\n",
      "   text  emotions emotion_sadness emotion_unclear emotion_love emotion_gratitude\n",
      "   \u001b[3m\u001b[90m<chr>\u001b[39m\u001b[23m \u001b[3m\u001b[90m<list>\u001b[39m\u001b[23m             \u001b[3m\u001b[90m<dbl>\u001b[39m\u001b[23m           \u001b[3m\u001b[90m<dbl>\u001b[39m\u001b[23m        \u001b[3m\u001b[90m<dbl>\u001b[39m\u001b[23m             \u001b[3m\u001b[90m<dbl>\u001b[39m\u001b[23m\n",
      "\u001b[90m 1\u001b[39m \u001b[90m\"\u001b[39mTha… \u001b[90m<chr>\u001b[39m                  1               0            0                 0\n",
      "\u001b[90m 2\u001b[39m \u001b[90m\"\u001b[39m>se… \u001b[90m<chr>\u001b[39m                  0               1            0                 0\n",
      "\u001b[90m 3\u001b[39m \u001b[90m\"\u001b[39mYou… \u001b[90m<chr>\u001b[39m                  0               1            0                 0\n",
      "\u001b[90m 4\u001b[39m \u001b[90m\"\u001b[39mMan… \u001b[90m<chr>\u001b[39m                  0               0            1                 0\n",
      "\u001b[90m 5\u001b[39m \u001b[90m\"\u001b[39m[NA… \u001b[90m<chr>\u001b[39m                  0               1            0                 0\n",
      "\u001b[90m 6\u001b[39m \u001b[90m\"\u001b[39mRig… \u001b[90m<chr>\u001b[39m                  0               0            0                 1\n",
      "\u001b[90m 7\u001b[39m \u001b[90m\"\u001b[39mHe … \u001b[90m<chr>\u001b[39m                  0               0            0                 0\n",
      "\u001b[90m 8\u001b[39m \u001b[90m\"\u001b[39mTha… \u001b[90m<chr>\u001b[39m                  0               0            0                 0\n",
      "\u001b[90m 9\u001b[39m \u001b[90m\"\u001b[39mtha… \u001b[90m<chr>\u001b[39m                  0               0            0                 0\n",
      "\u001b[90m10\u001b[39m \u001b[90m\"\u001b[39m\\\"S… \u001b[90m<chr>\u001b[39m                  0               0            0                 0\n",
      "\u001b[90m# ℹ 211,215 more rows\u001b[39m\n",
      "\u001b[90m# ℹ 24 more variables: emotion_disapproval <dbl>, emotion_amusement <dbl>,\u001b[39m\n",
      "\u001b[90m#   emotion_disappointment <dbl>, emotion_disgust <dbl>,\u001b[39m\n",
      "\u001b[90m#   emotion_admiration <dbl>, emotion_realization <dbl>,\u001b[39m\n",
      "\u001b[90m#   emotion_annoyance <dbl>, emotion_confusion <dbl>, emotion_optimism <dbl>,\u001b[39m\n",
      "\u001b[90m#   emotion_curiosity <dbl>, emotion_excitement <dbl>, emotion_caring <dbl>,\u001b[39m\n",
      "\u001b[90m#   emotion_joy <dbl>, emotion_remorse <dbl>, emotion_approval <dbl>, …\u001b[39m\n",
      "\u001b[90m# A tibble: 211,225 × 9\u001b[39m\n",
      "   text          emotions emotion_anger emotion_disgust emotion_fear emotion_joy\n",
      "   \u001b[3m\u001b[90m<chr>\u001b[39m\u001b[23m         \u001b[3m\u001b[90m<list>\u001b[39m\u001b[23m           \u001b[3m\u001b[90m<dbl>\u001b[39m\u001b[23m           \u001b[3m\u001b[90m<dbl>\u001b[39m\u001b[23m        \u001b[3m\u001b[90m<dbl>\u001b[39m\u001b[23m       \u001b[3m\u001b[90m<dbl>\u001b[39m\u001b[23m\n",
      "\u001b[90m 1\u001b[39m \u001b[90m\"\u001b[39mThat game h… \u001b[90m<chr>\u001b[39m                0               0            0           0\n",
      "\u001b[90m 2\u001b[39m \u001b[90m\"\u001b[39m>sexuality … \u001b[90m<chr>\u001b[39m                0               0            0           0\n",
      "\u001b[90m 3\u001b[39m \u001b[90m\"\u001b[39mYou do righ… \u001b[90m<chr>\u001b[39m                0               0            0           0\n",
      "\u001b[90m 4\u001b[39m \u001b[90m\"\u001b[39mMan I love … \u001b[90m<chr>\u001b[39m                0               0            0           1\n",
      "\u001b[90m 5\u001b[39m \u001b[90m\"\u001b[39m[NAME] was … \u001b[90m<chr>\u001b[39m                0               0            0           0\n",
      "\u001b[90m 6\u001b[39m \u001b[90m\"\u001b[39mRight? Cons… \u001b[90m<chr>\u001b[39m                0               0            0           1\n",
      "\u001b[90m 7\u001b[39m \u001b[90m\"\u001b[39mHe isn't as… \u001b[90m<chr>\u001b[39m                1               0            0           0\n",
      "\u001b[90m 8\u001b[39m \u001b[90m\"\u001b[39mThat's craz… \u001b[90m<chr>\u001b[39m                0               0            0           1\n",
      "\u001b[90m 9\u001b[39m \u001b[90m\"\u001b[39mthat's ador… \u001b[90m<chr>\u001b[39m                0               0            0           1\n",
      "\u001b[90m10\u001b[39m \u001b[90m\"\u001b[39m\\\"Sponge Bl… \u001b[90m<chr>\u001b[39m                0               0            0           1\n",
      "\u001b[90m# ℹ 211,215 more rows\u001b[39m\n",
      "\u001b[90m# ℹ 3 more variables: emotion_sadness <dbl>, emotion_surprise <dbl>,\u001b[39m\n",
      "\u001b[90m#   emotion_unclear <dbl>\u001b[39m\n",
      "\u001b[90m# A tibble: 211,225 × 5\u001b[39m\n",
      "   text             emotions emotion_positive emotion_negative emotion_ambiguous\n",
      "   \u001b[3m\u001b[90m<chr>\u001b[39m\u001b[23m            \u001b[3m\u001b[90m<list>\u001b[39m\u001b[23m              \u001b[3m\u001b[90m<dbl>\u001b[39m\u001b[23m            \u001b[3m\u001b[90m<dbl>\u001b[39m\u001b[23m             \u001b[3m\u001b[90m<dbl>\u001b[39m\u001b[23m\n",
      "\u001b[90m 1\u001b[39m \u001b[90m\"\u001b[39mThat game hurt… \u001b[90m<chr>\u001b[39m                   0                1                 0\n",
      "\u001b[90m 2\u001b[39m \u001b[90m\"\u001b[39m>sexuality sho… \u001b[90m<chr>\u001b[39m                   0                0                 1\n",
      "\u001b[90m 3\u001b[39m \u001b[90m\"\u001b[39mYou do right, … \u001b[90m<chr>\u001b[39m                   0                0                 1\n",
      "\u001b[90m 4\u001b[39m \u001b[90m\"\u001b[39mMan I love red… \u001b[90m<chr>\u001b[39m                   1                0                 0\n",
      "\u001b[90m 5\u001b[39m \u001b[90m\"\u001b[39m[NAME] was now… \u001b[90m<chr>\u001b[39m                   0                0                 1\n",
      "\u001b[90m 6\u001b[39m \u001b[90m\"\u001b[39mRight? Conside… \u001b[90m<chr>\u001b[39m                   1                0                 0\n",
      "\u001b[90m 7\u001b[39m \u001b[90m\"\u001b[39mHe isn't as bi… \u001b[90m<chr>\u001b[39m                   0                1                 0\n",
      "\u001b[90m 8\u001b[39m \u001b[90m\"\u001b[39mThat's crazy; … \u001b[90m<chr>\u001b[39m                   1                0                 0\n",
      "\u001b[90m 9\u001b[39m \u001b[90m\"\u001b[39mthat's adorabl… \u001b[90m<chr>\u001b[39m                   1                0                 0\n",
      "\u001b[90m10\u001b[39m \u001b[90m\"\u001b[39m\\\"Sponge Blurb… \u001b[90m<chr>\u001b[39m                   1                0                 0\n",
      "\u001b[90m# ℹ 211,215 more rows\u001b[39m\n"
     ]
    }
   ],
   "source": [
    "# {\n",
    "# \"positive\": [\"amusement\", \"excitement\", \"joy\", \"love\", \"desire\", \"optimism\", \"caring\", \"pride\", \"admiration\", \"gratitude\", \"relief\", \"approval\"],\n",
    "# \"negative\": [\"fear\", \"nervousness\", \"remorse\", \"embarrassment\", \"disappointment\", \"sadness\", \"grief\", \"disgust\", \"anger\", \"annoyance\", # \"disapproval\"],\n",
    "# \"ambiguous\": [\"realization\", \"surprise\", \"curiosity\", \"confusion\"]\n",
    "# }\n",
    "\n",
    "df_28 <- df_ne\n",
    "df_6 <- df_ne %>% \n",
    "  mutate(\n",
    "    emotion_anger = ifelse(emotion_anger | emotion_annoyance | emotion_disapproval, 1, 0),\n",
    "    emotion_disgust = ifelse(emotion_disgust, 1, 0),\n",
    "    emotion_fear = ifelse(emotion_fear | emotion_nervousness, 1, 0),\n",
    "    emotion_joy = ifelse(emotion_joy | emotion_amusement | emotion_approval | emotion_excitement | emotion_gratitude | emotion_love | emotion_optimism | emotion_relief | emotion_pride | emotion_admiration | emotion_desire | emotion_caring, 1, 0),\n",
    "    emotion_sadness = ifelse(emotion_sadness | emotion_disappointment | emotion_embarrassment | emotion_grief | emotion_remorse, 1, 0),\n",
    "    emotion_surprise = ifelse(emotion_surprise | emotion_realization | emotion_confusion | emotion_curiosity, 1, 0)\n",
    "  ) %>% select(\n",
    "    id, author, text, subreddit, link_id, parent_id, created_utc, rater_id, emotions, emotion_anger, emotion_disgust, emotion_fear, emotion_joy, emotion_sadness, emotion_surprise, emotion_unclear\n",
    "  )\n",
    "df_3 <- df_ne %>%\n",
    "   mutate(\n",
    "      emotion_positive = ifelse(emotion_joy | emotion_amusement | emotion_approval | emotion_excitement | emotion_gratitude | emotion_love | emotion_optimism | emotion_relief | emotion_pride | emotion_admiration | emotion_desire | emotion_caring, 1, 0),\n",
    "      emotion_negative = ifelse(emotion_anger | emotion_annoyance | emotion_disapproval | emotion_disgust | emotion_fear | emotion_nervousness | emotion_remorse | emotion_embarrassment | emotion_disappointment | emotion_sadness | emotion_grief, 1, 0),\n",
    "      emotion_ambiguous = ifelse(emotion_realization | emotion_surprise | emotion_confusion | emotion_curiosity | emotion_unclear, 1, 0)\n",
    "   ) %>% select(\n",
    "      id, author, text, subreddit, link_id, parent_id, created_utc, rater_id, emotions, emotion_positive, emotion_negative, emotion_ambiguous\n",
    "   )\n",
    "df_28 %>% select(text, emotions, starts_with(\"emotion_\")) %>% print\n",
    "df_6  %>% select(text, emotions, starts_with(\"emotion_\")) %>% print\n",
    "df_3  %>% select(text, emotions, starts_with(\"emotion_\")) %>% print"
   ]
  },
  {
   "attachments": {
    "image.png": {
     "image/png": "[encoded data removed]"
    }
   },
   "cell_type": "markdown",
   "id": "7b3d300a",
   "metadata": {},
   "source": [
    "# Joining raters\n",
    "There are various ways of joining raters to produce a confidence target, all of them with their advantages, disanvantages and assumptions. Here's some:\n",
    "\n",
    "![image.png](attachment:image.png)\n",
    "\n",
    "1. Based on rater number: more rater == more confidence on the prediction\n",
    "  - While intuitive, the downside is that even comments that are clearly an emotion might get low confidence because a low amount of raters rated them\n",
    "2. Based on emotion classification percentage\n",
    "  - This assumes that there's a prevelant emotion for a comment, with the main objective of only predicting one emotion per comment, instead of possible emotions.\n",
    "  - This also means that the less ambiguous emotion comments also have a higher confidence on the motion it is\n",
    "  - Additionally, it gives more confidence to less raters\n",
    "3. Based on emotion classificaiton count\n",
    "  - This assumes that comments can be more than one emotion, and everytime a rater gives an emotion it ads to that confidence proportionally to the amount of raters\n",
    "  - This also gives more confidence to less raters\n",
    "\n",
    "We ultimately decided on approach 3"
   ]
  },
  {
   "cell_type": "code",
   "execution_count": null,
   "id": "0ac2cb5d",
   "metadata": {
    "vscode": {
     "languageId": "r"
    }
   },
   "outputs": [
    {
     "name": "stdout",
     "output_type": "stream",
     "text": [
      "\u001b[90m# A tibble: 58,011 × 12\u001b[39m\n",
      "   id      text             n_raters emotions author subreddit link_id parent_id\n",
      "   \u001b[3m\u001b[90m<chr>\u001b[39m\u001b[23m   \u001b[3m\u001b[90m<chr>\u001b[39m\u001b[23m               \u001b[3m\u001b[90m<int>\u001b[39m\u001b[23m \u001b[3m\u001b[90m<list>\u001b[39m\u001b[23m   \u001b[3m\u001b[90m<chr>\u001b[39m\u001b[23m  \u001b[3m\u001b[90m<chr>\u001b[39m\u001b[23m     \u001b[3m\u001b[90m<chr>\u001b[39m\u001b[23m   \u001b[3m\u001b[90m<chr>\u001b[39m\u001b[23m    \n",
      "\u001b[90m 1\u001b[39m eczazk6 \u001b[90m\"\u001b[39mFast as [NAME]…        2 \u001b[90m<list>\u001b[39m   Uptow… NewOrlea… t3_abb… t1_eczav…\n",
      "\u001b[90m 2\u001b[39m eczb07q \u001b[90m\"\u001b[39mYou blew it. T…        2 \u001b[90m<list>\u001b[39m   ima_c… self      t3_abc… t3_abca3b\n",
      "\u001b[90m 3\u001b[39m eczb4bm \u001b[90m\"\u001b[39mTL;DR No more …        3 \u001b[90m<list>\u001b[39m   socia… steelers  t3_ab8… t3_ab8t8l\n",
      "\u001b[90m 4\u001b[39m eczb527 \u001b[90m\"\u001b[39mSo much time s…        3 \u001b[90m<list>\u001b[39m   Touri… Roadcam   t3_aba… t3_abal7g\n",
      "\u001b[90m 5\u001b[39m eczb6r7 \u001b[90m\"\u001b[39mEmotes have a …        5 \u001b[90m<list>\u001b[39m   Reggi… Blackops4 t3_aba… t1_ecz9n…\n",
      "\u001b[90m 6\u001b[39m eczb770 \u001b[90m\"\u001b[39mJust life.. I …        4 \u001b[90m<list>\u001b[39m   itsuh… depressi… t3_abc… t1_ecz72…\n",
      "\u001b[90m 7\u001b[39m eczbbmd \u001b[90m\"\u001b[39mThanks for the…        3 \u001b[90m<list>\u001b[39m   hyper… dxm       t3_ab5… t1_ecz71…\n",
      "\u001b[90m 8\u001b[39m eczbbwt \u001b[90m\"\u001b[39m*they were not…        5 \u001b[90m<list>\u001b[39m   LadyK… AskWomen  t3_ab9… t1_ecz9q…\n",
      "\u001b[90m 9\u001b[39m eczbdg4 \u001b[90m\"\u001b[39mGlad to hear i…        3 \u001b[90m<list>\u001b[39m   Jehos… raisedby… t3_ab5… t1_ecz8c…\n",
      "\u001b[90m10\u001b[39m eczbe89 \u001b[90m\"\u001b[39mTo be fair you…        5 \u001b[90m<list>\u001b[39m   Unida… 4PanelCr… t3_ab6… t1_ecyu2…\n",
      "\u001b[90m# ℹ 58,001 more rows\u001b[39m\n",
      "\u001b[90m# ℹ 4 more variables: created_utc <dttm>, emotion_positive <dbl>,\u001b[39m\n",
      "\u001b[90m#   emotion_negative <dbl>, emotion_ambiguous <dbl>\u001b[39m\n"
     ]
    }
   ],
   "source": [
    "library(purrr)\n",
    "library(tibble)\n",
    "\n",
    "group_raters <- function(df) {\n",
    "  df %>% \n",
    "    group_by(id) %>% \n",
    "    summarise(\n",
    "      text = first(text),\n",
    "      n_raters = n(),\n",
    "      emotions = list(emotions),\n",
    "      author = first(author),\n",
    "      subreddit = first(subreddit),\n",
    "      link_id = first(link_id),\n",
    "      parent_id = first(parent_id),\n",
    "      created_utc = first(created_utc) %>% as.POSIXct(created_utc, origin = \"1970-01-01\", tz = \"UTC\"),\n",
    "      across(starts_with(\"emotion_\"), sum)\n",
    "    ) %>% \n",
    "    mutate(across(starts_with(\"emotion_\"), ~ ./n_raters))\n",
    "} \n",
    "\n",
    "df_3g  <- df_3 %>% group_raters()\n",
    "df_6g  <- df_6 %>% group_raters()\n",
    "df_28g <- df_28 %>% group_raters()\n",
    "df_3g %>% print"
   ]
  },
  {
   "cell_type": "markdown",
   "id": "2efe3f57",
   "metadata": {},
   "source": [
    "# Remove less than 3 raters\n",
    "\n",
    "they are not a lot and it gives us more confidence and other nuances"
   ]
  },
  {
   "cell_type": "code",
   "execution_count": null,
   "id": "1fe35bfc",
   "metadata": {
    "vscode": {
     "languageId": "r"
    }
   },
   "outputs": [
    {
     "name": "stdout",
     "output_type": "stream",
     "text": [
      "\u001b[90m# A tibble: 57,349 × 12\u001b[39m\n",
      "   id      text             n_raters emotions author subreddit link_id parent_id\n",
      "   \u001b[3m\u001b[90m<chr>\u001b[39m\u001b[23m   \u001b[3m\u001b[90m<chr>\u001b[39m\u001b[23m               \u001b[3m\u001b[90m<int>\u001b[39m\u001b[23m \u001b[3m\u001b[90m<list>\u001b[39m\u001b[23m   \u001b[3m\u001b[90m<chr>\u001b[39m\u001b[23m  \u001b[3m\u001b[90m<chr>\u001b[39m\u001b[23m     \u001b[3m\u001b[90m<chr>\u001b[39m\u001b[23m   \u001b[3m\u001b[90m<chr>\u001b[39m\u001b[23m    \n",
      "\u001b[90m 1\u001b[39m eczb4bm \u001b[90m\"\u001b[39mTL;DR No more …        3 \u001b[90m<list>\u001b[39m   socia… steelers  t3_ab8… t3_ab8t8l\n",
      "\u001b[90m 2\u001b[39m eczb527 \u001b[90m\"\u001b[39mSo much time s…        3 \u001b[90m<list>\u001b[39m   Touri… Roadcam   t3_aba… t3_abal7g\n",
      "\u001b[90m 3\u001b[39m eczb6r7 \u001b[90m\"\u001b[39mEmotes have a …        5 \u001b[90m<list>\u001b[39m   Reggi… Blackops4 t3_aba… t1_ecz9n…\n",
      "\u001b[90m 4\u001b[39m eczb770 \u001b[90m\"\u001b[39mJust life.. I …        4 \u001b[90m<list>\u001b[39m   itsuh… depressi… t3_abc… t1_ecz72…\n",
      "\u001b[90m 5\u001b[39m eczbbmd \u001b[90m\"\u001b[39mThanks for the…        3 \u001b[90m<list>\u001b[39m   hyper… dxm       t3_ab5… t1_ecz71…\n",
      "\u001b[90m 6\u001b[39m eczbbwt \u001b[90m\"\u001b[39m*they were not…        5 \u001b[90m<list>\u001b[39m   LadyK… AskWomen  t3_ab9… t1_ecz9q…\n",
      "\u001b[90m 7\u001b[39m eczbdg4 \u001b[90m\"\u001b[39mGlad to hear i…        3 \u001b[90m<list>\u001b[39m   Jehos… raisedby… t3_ab5… t1_ecz8c…\n",
      "\u001b[90m 8\u001b[39m eczbe89 \u001b[90m\"\u001b[39mTo be fair you…        5 \u001b[90m<list>\u001b[39m   Unida… 4PanelCr… t3_ab6… t1_ecyu2…\n",
      "\u001b[90m 9\u001b[39m eczbfxj \u001b[90m\"\u001b[39mNow this is po…        3 \u001b[90m<list>\u001b[39m   voltr… CFB       t3_aba… t3_abaia3\n",
      "\u001b[90m10\u001b[39m eczbh7y \u001b[90m\"\u001b[39mI was AF enlis…        3 \u001b[90m<list>\u001b[39m   pullb… Military  t3_ab8… t1_ecz76…\n",
      "\u001b[90m# ℹ 57,339 more rows\u001b[39m\n",
      "\u001b[90m# ℹ 4 more variables: created_utc <dttm>, emotion_positive <dbl>,\u001b[39m\n",
      "\u001b[90m#   emotion_negative <dbl>, emotion_ambiguous <dbl>\u001b[39m\n"
     ]
    }
   ],
   "source": [
    "df_3gf  <- df_3g %>% filter(n_raters >= 3)\n",
    "df_6gf  <- df_6g %>% filter(n_raters >= 3)\n",
    "df_28gf <- df_28g %>% filter(n_raters >= 3)\n",
    "df_3gf %>% print"
   ]
  },
  {
   "cell_type": "markdown",
   "id": "395ab6e0",
   "metadata": {},
   "source": [
    "# Write parquets"
   ]
  },
  {
   "cell_type": "code",
   "execution_count": 7,
   "id": "4f612429",
   "metadata": {
    "vscode": {
     "languageId": "r"
    }
   },
   "outputs": [],
   "source": [
    "# write to disk\n",
    "df_3gf %>% \n",
    "  write_parquet(\n",
    "    here(\"data\", \"goemotions_3.parquet\"),\n",
    "    compression = \"snappy\"\n",
    "  )\n",
    "df_6gf %>%\n",
    "  write_parquet(\n",
    "    here(\"data\", \"goemotions_6.parquet\"),\n",
    "    compression = \"snappy\"\n",
    "  )\n",
    "df_28gf %>%\n",
    "  write_parquet(\n",
    "    here(\"data\", \"goemotions_28.parquet\"),\n",
    "    compression = \"snappy\"\n",
    "  )"
   ]
  }
 ],
 "metadata": {
  "kernelspec": {
   "display_name": "R",
   "language": "R",
   "name": "ir"
  },
  "language_info": {
   "codemirror_mode": "r",
   "file_extension": ".r",
   "mimetype": "text/x-r-source",
   "name": "R",
   "pygments_lexer": "r",
   "version": "4.4.3"
  }
 },
 "nbformat": 4,
 "nbformat_minor": 5
}
