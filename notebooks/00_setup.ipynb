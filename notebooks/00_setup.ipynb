{
 "cells": [
  {
   "cell_type": "markdown",
   "id": "0fcf52b9",
   "metadata": {},
   "source": [
    "This script removes the individual emotion columns and creates a new column containing a list of emotions for each row. The processed data is then saved as a new dataset."
   ]
  },
  {
   "cell_type": "code",
   "execution_count": 1,
   "id": "d5fc73c0",
   "metadata": {},
   "outputs": [],
   "source": [
    "import pandas\n",
    "import matplotlib.pyplot as plt\n",
    "\n",
    "goemotions = pandas.read_feather(\"../data/goemotions.feather\")\n",
    "goemotions\n",
    "\n",
    "def decode_dummies_to_list(df, dummy_cols_range, new_col_name='decoded', drop_original=False):\n",
    "    df_copy = df.copy()\n",
    "    dummy_cols = list(dummy_cols_range)\n",
    "\n",
    "    df_copy[new_col_name] = df_copy[dummy_cols].apply(\n",
    "        lambda row: [col for col in dummy_cols if row[col] == 1],\n",
    "        axis=1\n",
    "    )\n",
    "\n",
    "    if drop_original:\n",
    "        df_copy.drop(columns=dummy_cols, inplace=True)\n",
    "\n",
    "    return df_copy\n",
    "\n",
    "\n",
    "# Apply decoding\n",
    "decoded = decode_dummies_to_list(goemotions, goemotions.columns[9:37], drop_original=True)\n",
    "\n",
    "# Save the result under /data/\n",
    "decoded.to_feather(\"../data/goemotions_decoded.feather\")\n"
   ]
  }
 ],
 "metadata": {
  "kernelspec": {
   "display_name": "default",
   "language": "python",
   "name": "python3"
  },
  "language_info": {
   "codemirror_mode": {
    "name": "ipython",
    "version": 3
   },
   "file_extension": ".py",
   "mimetype": "text/x-python",
   "name": "python",
   "nbconvert_exporter": "python",
   "pygments_lexer": "ipython3",
   "version": "3.13.3"
  }
 },
 "nbformat": 4,
 "nbformat_minor": 5
}
