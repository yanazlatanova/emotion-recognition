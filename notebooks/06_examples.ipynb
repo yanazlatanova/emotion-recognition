{
 "cells": [
  {
   "cell_type": "code",
   "execution_count": null,
   "id": "c92e047f",
   "metadata": {},
   "outputs": [],
   "source": [
    "import os\n",
    "from pyprojroot import here\n",
    "os.environ[\"HF_HOME\"] = str(here(\"cache/huggingface\"))\n",
    "import lightning as L\n",
    "from importlib import reload\n",
    "import sys\n",
    "sys.path.append(str(here()))\n",
    "from models import model_definitions as MD\n",
    "import torch\n",
    "import pandas as pd\n",
    "reload(MD)\n",
    "torch.set_float32_matmul_precision('medium')\n",
    "data_module_3 = MD.GoEmotionsDataModule(pd.read_parquet(here(\"data/goemotions_3.parquet\")))\n",
    "data_module_7 = MD.GoEmotionsDataModule(pd.read_parquet(here(\"data/goemotions_7.parquet\")))\n",
    "data_module_28 = MD.GoEmotionsDataModule(pd.read_parquet(here(\"data/goemotions_28.parquet\")))\n",
    "\n",
    "for module in [data_module_3, data_module_7, data_module_28]:\n",
    "  module.prepare_data()\n",
    "  module.setup()\n",
    "\n",
    "test_df_3 = data_module_3.test_df\n",
    "test_df_7 = data_module_7.test_df\n",
    "test_df_28 = data_module_28.test_df\n",
    "\n",
    "\n",
    "trainer = L.Trainer(\n",
    "  default_root_dir=here(\"cache/lightning\"),\n",
    "  enable_checkpointing=True,\n",
    "  fast_dev_run=False,\n",
    "  accelerator=\"cpu\", \n",
    ")\n",
    "\n",
    "trainer"
   ]
  },
  {
   "cell_type": "code",
   "execution_count": null,
   "id": "6ec1ca01",
   "metadata": {},
   "outputs": [],
   "source": [
    "test_df_28"
   ]
  }
 ],
 "metadata": {
  "language_info": {
   "name": "python"
  }
 },
 "nbformat": 4,
 "nbformat_minor": 5
}
