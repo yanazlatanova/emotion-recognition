{
 "cells": [
  {
   "cell_type": "code",
   "execution_count": null,
   "id": "12cde01a",
   "metadata": {},
   "outputs": [],
   "source": [
    "import torch\n",
    "import torch.nn as nn\n",
    "import os\n",
    "from pyprojroot import here\n",
    "os.environ[\"HF_HOME\"] = str(here(\"cache/HF/\"))\n",
    "from transformers import AutoTokenizer, AutoModel\n",
    "import icecream as ic\n",
    "class TokenizationAndSentimentModel(nn.Module):\n",
    "  def __init__(self):\n",
    "    super(TokenizationAndSentimentModel, self).__init__()\n",
    "    self.tokenizer = AutoTokenizer.from_pretrained(\"prajjwal1/bert-tiny\")\n",
    "    self.encoder = AutoModel.from_pretrained(\"prajjwal1/bert-tiny\")\n",
    "    self.classifier = nn.Linear(self.encoder.config.hidden_size, 3)  # 3 sentiment classes\n",
    "\n",
    "  def forward(self, text):\n",
    "    tokens = self.tokenizer(text, return_tensors=\"pt\", padding=True, truncation=True)\n",
    "    ic(tokens)\n",
    "    outputs = self.encoder(**tokens)\n",
    "    cls_rep = outputs.last_hidden_state[:, 0, :]  # Use [CLS] token representation\n",
    "    logits = self.classifier(cls_rep)\n",
    "    return torch.sigmoid(logits)\n",
    ""
   ]
  },
  {
   "cell_type": "code",
   "execution_count": 2,
   "id": "7df0f722",
   "metadata": {},
   "outputs": [
    {
     "name": "stderr",
     "output_type": "stream",
     "text": [
      "Asking to truncate to max_length but no maximum length is provided and the model has no predefined maximum length. Default to no truncation.\n"
     ]
    },
    {
     "name": "stdout",
     "output_type": "stream",
     "text": [
      "Input text: I love this!\n",
      "Output probabilities: [[0.5546206  0.55234003 0.6056704 ]]\n"
     ]
    }
   ],
   "source": [
    "model = TokenizationAndSentimentModel()\n",
    "model.eval()\n",
    "\n",
    "input_text = [\"I love this!\"]\n",
    "with torch.no_grad():\n",
    "  output = model(input_text)\n",
    "\n",
    "print(f\"Input text: {input_text[0]}\")\n",
    "print(f\"Output probabilities: {output.numpy()}\")"
   ]
  },
  {
   "cell_type": "code",
   "execution_count": 3,
   "id": "a807179c",
   "metadata": {},
   "outputs": [],
   "source": [
    "torch.save(model, here(\"models/dummy_model_3_new.pt\"))"
   ]
  }
 ],
 "metadata": {
  "kernelspec": {
   "display_name": "default",
   "language": "python",
   "name": "python3"
  },
  "language_info": {
   "codemirror_mode": {
    "name": "ipython",
    "version": 3
   },
   "file_extension": ".py",
   "mimetype": "text/x-python",
   "name": "python",
   "nbconvert_exporter": "python",
   "pygments_lexer": "ipython3",
   "version": "3.13.3"
  }
 },
 "nbformat": 4,
 "nbformat_minor": 5
}
